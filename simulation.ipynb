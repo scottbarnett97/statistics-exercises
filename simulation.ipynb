{
 "cells": [
  {
   "cell_type": "markdown",
   "id": "0ede5317",
   "metadata": {},
   "source": [
    "# Exercise\n",
    "only need to do #1 but can do more"
   ]
  },
  {
   "cell_type": "code",
   "execution_count": 1,
   "id": "ddf49d53",
   "metadata": {},
   "outputs": [],
   "source": [
    "%matplotlib inline\n",
    "import numpy as np\n",
    "import pandas as pd\n",
    "\n",
    "\n",
    "\n",
    "np.random.seed(29)\n"
   ]
  },
  {
   "cell_type": "code",
   "execution_count": 11,
   "id": "ba5558c8",
   "metadata": {},
   "outputs": [
    {
     "data": {
      "text/plain": [
       "0.16774"
      ]
     },
     "execution_count": 11,
     "metadata": {},
     "output_type": "execute_result"
    }
   ],
   "source": [
    "# 1 How likely is it that you roll doubles when rolling two dice?\n",
    "\n",
    "n_simulations = nrows = 100_000\n",
    "n_dice = ncols = 2\n",
    "\n",
    "rolls = np.random.choice([1, 2, 3, 4, 5, 6], n_simulations * n_dice).reshape(nrows, ncols)\n",
    "num_doubles = np.sum(rolls[:, 0] == rolls[:, 1]).sum()\n",
    "num_doubles / n_simulations"
   ]
  },
  {
   "cell_type": "code",
   "execution_count": null,
   "id": "43817c24",
   "metadata": {},
   "outputs": [],
   "source": []
  },
  {
   "cell_type": "code",
   "execution_count": null,
   "id": "771b5ecd",
   "metadata": {},
   "outputs": [],
   "source": []
  }
 ],
 "metadata": {
  "kernelspec": {
   "display_name": "Python 3 (ipykernel)",
   "language": "python",
   "name": "python3"
  },
  "language_info": {
   "codemirror_mode": {
    "name": "ipython",
    "version": 3
   },
   "file_extension": ".py",
   "mimetype": "text/x-python",
   "name": "python",
   "nbconvert_exporter": "python",
   "pygments_lexer": "ipython3",
   "version": "3.9.13"
  }
 },
 "nbformat": 4,
 "nbformat_minor": 5
}
