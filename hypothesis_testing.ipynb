{
 "cells": [
  {
   "cell_type": "markdown",
   "id": "88179f0b",
   "metadata": {},
   "source": [
    "# Exercises\n",
    "hypothesis_testing"
   ]
  },
  {
   "cell_type": "markdown",
   "id": "f7276329",
   "metadata": {},
   "source": [
    "For each of the following questions, formulate a null and alternative hypothesis (be as specific as you can be), then give an example of what a true positive, true negative, type I and type II errors would look like. Note that some of the questions are intentionally phrased in a vague way. It is your job to reword these as more precise questions that could be tested."
   ]
  },
  {
   "cell_type": "markdown",
   "id": "ecbecc05",
   "metadata": {},
   "source": [
    "  1.Has the network latency gone up since we switched internet service providers?\n"
   ]
  },
  {
   "cell_type": "markdown",
   "id": "7ee6c68f",
   "metadata": {},
   "source": [
    "Null: The network latency now is the same or lower than it was before we switched providers.\n",
    "\n",
    "Alternate:  The network latency is now higher than it was before we switched providers.\n",
    "\n",
    "\n",
    "True Positive:  \n",
    "True Negative:\n",
    "Type 1 Error (False Positive):\n",
    "Type 2 Error (False Negative):"
   ]
  },
  {
   "cell_type": "markdown",
   "id": "f5520b33",
   "metadata": {},
   "source": [
    "2. Is the website redesign any good?\n"
   ]
  },
  {
   "cell_type": "markdown",
   "id": "e8a9458b",
   "metadata": {},
   "source": [
    "Null:  \n",
    "\n",
    "Alternate:\n",
    "\n",
    "\n",
    "True Positive:\n",
    "True Negative:\n",
    "Type 1 Error (False Positive):\n",
    "Type 2 Error (False Negative):"
   ]
  },
  {
   "cell_type": "markdown",
   "id": "87d8a39d",
   "metadata": {},
   "source": [
    "3. Is our television ad driving more sales?\n"
   ]
  },
  {
   "cell_type": "markdown",
   "id": "ee977428",
   "metadata": {},
   "source": [
    "Null: Our sales are the same or lower than they were before the TV ads started.\n",
    "\n",
    "Alternate: Our sales are higher than than they were before the TV ads started.\n",
    "\n",
    "\n",
    "True Positive:\n",
    "True Negative:\n",
    "Type 1 Error (False Positive):\n",
    "Type 2 Error (False Negative):"
   ]
  },
  {
   "cell_type": "markdown",
   "id": "93f1d1a8",
   "metadata": {},
   "source": []
  },
  {
   "cell_type": "markdown",
   "id": "ae436511",
   "metadata": {},
   "source": []
  },
  {
   "cell_type": "markdown",
   "id": "c9b005d5",
   "metadata": {},
   "source": []
  },
  {
   "cell_type": "markdown",
   "id": "3c8dff52",
   "metadata": {},
   "source": []
  },
  {
   "cell_type": "markdown",
   "id": "6470582e",
   "metadata": {},
   "source": []
  }
 ],
 "metadata": {
  "kernelspec": {
   "display_name": "Python 3 (ipykernel)",
   "language": "python",
   "name": "python3"
  },
  "language_info": {
   "codemirror_mode": {
    "name": "ipython",
    "version": 3
   },
   "file_extension": ".py",
   "mimetype": "text/x-python",
   "name": "python",
   "nbconvert_exporter": "python",
   "pygments_lexer": "ipython3",
   "version": "3.9.13"
  }
 },
 "nbformat": 4,
 "nbformat_minor": 5
}
