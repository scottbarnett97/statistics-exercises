{
 "cells": [
  {
   "cell_type": "markdown",
   "id": "df3cf5ea",
   "metadata": {},
   "source": [
    "# Exercises\n",
    "hypothesis_testing"
   ]
  },
  {
   "cell_type": "markdown",
   "id": "8a65a8b1",
   "metadata": {},
   "source": [
    "For each of the following questions, formulate a null and alternative hypothesis (be as specific as you can be), then give an example of what a true positive, true negative, type I and type II errors would look like. Note that some of the questions are intentionally phrased in a vague way. It is your job to reword these as more precise questions that could be tested."
   ]
  },
  {
   "cell_type": "markdown",
   "id": "aa46cce1",
   "metadata": {},
   "source": [
    "  1.Has the network latency gone up since we switched internet service providers?\n",
    "true negative == H0 is true and Ho is Accepted\n",
    "true positive == H0 is false and H0 is rejected\n",
    "False Positive == H0 is True but is rejected\n",
    "False Negative == H0 is false but is Accepted"
   ]
  },
  {
   "cell_type": "markdown",
   "id": "f8e3544f",
   "metadata": {},
   "source": [
    "Null: The network latency now is the same or lower than it was before we switched providers.\n",
    "\n",
    "Alternate:  The network latency is now higher than it was before we switched providers.\n",
    "\n",
    "\n",
    "True Negative: network latency is the same or lower than it was before we switched providers, H0 is Accepted\n",
    "True Positive: network latency is not the same or lower than it was before we switched providers, H0 not Accepted\n",
    "Type 1 Error (False Positive):network latency is the same or lower than it was before we switched providers, but rejected\n",
    "Type 2 Error (False Negative):network latency is not the same or lower than it was before we switched providers, but accepted"
   ]
  },
  {
   "cell_type": "markdown",
   "id": "a3f95770",
   "metadata": {},
   "source": [
    "2. Is the website redesign any good?\n"
   ]
  },
  {
   "cell_type": "markdown",
   "id": "55bfa100",
   "metadata": {},
   "source": [
    "Null: The website design is equal to or less \"good\" than it was before the redesign.\n",
    "\n",
    "Alternate:  The website design is better or 'more' \"good\" than it was before the redesign.\n",
    "\n",
    "\n",
    "True Negative:The website design is equal to or less \"good\" than it was before the redesign, and is accepted\n",
    "True Positive:The website design is not equal to or less \"good\" than it was before the redesign, and is rejected\n",
    "Type 1 Error (False Positive):The website design is equal to or less \"good\" than it was before the redesign, but is rejected\n",
    "Type 2 Error (False Negative):The website design is not equal to or less \"good\" than it was before the redesign, but is accepted"
   ]
  },
  {
   "cell_type": "markdown",
   "id": "dbb45f1f",
   "metadata": {},
   "source": [
    "3. Is our television ad driving more sales?\n"
   ]
  },
  {
   "cell_type": "markdown",
   "id": "811ec8ea",
   "metadata": {},
   "source": [
    "Null: Our sales are the same or lower than they were before the TV ads started.\n",
    "\n",
    "Alternate: Our sales are higher than than they were before the TV ads started.\n",
    "\n",
    "\n",
    "True Negative: Our sales are the same or lower than they were before the TV ads started, and is accepted\n",
    "True Positive: Our sales are NOT the same or lower than they were before the TV ads started, and H0 is rejected\n",
    "Type 1 Error (False Positive):Our sales are the same or lower than they were before the TV ads started, but is rejected\n",
    "Type 2 Error (False Negative):Our sales are NOT the same or lower than they were before the TV ads started, but H0 is accepted"
   ]
  },
  {
   "cell_type": "markdown",
   "id": "8c749582",
   "metadata": {},
   "source": [
    "# Exercises -- Comaparison of Means\n"
   ]
  },
  {
   "cell_type": "code",
   "execution_count": 1,
   "id": "f108c661",
   "metadata": {},
   "outputs": [],
   "source": [
    "import pandas as pd\n",
    "import matplotlib.pyplot as plt\n",
    "import scipy.stats as stats\n",
    "import seaborn as sns\n",
    "import numpy as np\n",
    "import env"
   ]
  },
  {
   "cell_type": "code",
   "execution_count": 2,
   "id": "51561496",
   "metadata": {},
   "outputs": [],
   "source": [
    "#1. Answer with the type of test you would use (assume normal distribution):"
   ]
  },
  {
   "cell_type": "code",
   "execution_count": 3,
   "id": "a078bc6e",
   "metadata": {},
   "outputs": [],
   "source": [
    "#    Is there a difference in grades of students on the second floor compared to grades of all students?\n",
    "#      One sample t-test, 2 tails"
   ]
  },
  {
   "cell_type": "code",
   "execution_count": 4,
   "id": "bd290279",
   "metadata": {},
   "outputs": [],
   "source": [
    "#    Are adults who drink milk taller than adults who dont drink milk?\n",
    "#      Independent t-test (or 2-sample), 1 tail"
   ]
  },
  {
   "cell_type": "code",
   "execution_count": 5,
   "id": "e7dc94f6",
   "metadata": {},
   "outputs": [],
   "source": [
    "#    Is the the price of gas higher in texas or in new mexico?\n",
    "#         Independent t-test (or 2-sample), 1 tail"
   ]
  },
  {
   "cell_type": "code",
   "execution_count": 6,
   "id": "e9720975",
   "metadata": {},
   "outputs": [],
   "source": [
    "#    Are there differences in stress levels between students who take data science vs students who take\n",
    "#        web development vs students who take cloud academy?\n",
    "#         ANOVA, 2 tails"
   ]
  },
  {
   "cell_type": "code",
   "execution_count": 7,
   "id": "7db046b7",
   "metadata": {},
   "outputs": [],
   "source": [
    "# 2. Ace Realty wants to determine whether the average time it takes to sell homes is different for its two offices. \n",
    "#    A sample of 40 sales from office #1 revealed a mean of 90 days and a standard deviation of 15 days. \n",
    "#    A sample of 50 sales from office #2 revealed a mean of 100 days and a standard deviation of 20 days.\n",
    "#    Use a .05 level of significance.'''"
   ]
  },
  {
   "cell_type": "code",
   "execution_count": 8,
   "id": "1dc5e8b4",
   "metadata": {},
   "outputs": [
    {
     "name": "stdout",
     "output_type": "stream",
     "text": [
      "Reject the null hypothesis, There is a differnce between home sales of the two offices\n",
      "t = -3.2583006829737267\n",
      "p = 0.0015938255133617122\n"
     ]
    }
   ],
   "source": [
    "# Create the Null Hypothisis\n",
    "# H0= There is no difference between home sales times for office 1 and office 2.\n",
    "# HA= There is a differnce between home sales times for office 1 and office 2.\n",
    "np.random.seed(123)\n",
    "# Create data frames for the two samples\n",
    "office1 = pd.DataFrame({'time': np.random.normal(90, 15, 40)})\n",
    "office2 = pd.DataFrame({'time': np.random.normal(100, 20, 50)})\n",
    "# Compute the two-sample t-test\n",
    "t, p = stats.ttest_ind(office1['time'], office2['time'], equal_var=False)\n",
    "\n",
    "# Set the level of significance\n",
    "alpha = 0.05\n",
    "\n",
    "# Determine whether to reject the null hypothesis\n",
    "if p < alpha:\n",
    "    print('Reject the null hypothesis, There is a differnce between home sales of the two offices')\n",
    "else:\n",
    "    print('Fail to reject the null hypothesis')\n",
    "\n",
    "# Print the test statistic and p-value\n",
    "#print(office1)\n",
    "#print(office2)\n",
    "\n",
    "print('t =', t)\n",
    "print('p =', p)\n"
   ]
  },
  {
   "cell_type": "code",
   "execution_count": 9,
   "id": "ef857c45",
   "metadata": {},
   "outputs": [
    {
     "data": {
      "text/html": [
       "<div>\n",
       "<style scoped>\n",
       "    .dataframe tbody tr th:only-of-type {\n",
       "        vertical-align: middle;\n",
       "    }\n",
       "\n",
       "    .dataframe tbody tr th {\n",
       "        vertical-align: top;\n",
       "    }\n",
       "\n",
       "    .dataframe thead th {\n",
       "        text-align: right;\n",
       "    }\n",
       "</style>\n",
       "<table border=\"1\" class=\"dataframe\">\n",
       "  <thead>\n",
       "    <tr style=\"text-align: right;\">\n",
       "      <th></th>\n",
       "      <th>manufacturer</th>\n",
       "      <th>model</th>\n",
       "      <th>displ</th>\n",
       "      <th>year</th>\n",
       "      <th>cyl</th>\n",
       "      <th>trans</th>\n",
       "      <th>drv</th>\n",
       "      <th>city</th>\n",
       "      <th>highway</th>\n",
       "      <th>fl</th>\n",
       "      <th>class</th>\n",
       "      <th>average_mileage</th>\n",
       "    </tr>\n",
       "  </thead>\n",
       "  <tbody>\n",
       "    <tr>\n",
       "      <th>count</th>\n",
       "      <td>234</td>\n",
       "      <td>234</td>\n",
       "      <td>234.000000</td>\n",
       "      <td>234.000000</td>\n",
       "      <td>234.000000</td>\n",
       "      <td>234</td>\n",
       "      <td>234</td>\n",
       "      <td>234.000000</td>\n",
       "      <td>234.000000</td>\n",
       "      <td>234</td>\n",
       "      <td>234</td>\n",
       "      <td>234.000000</td>\n",
       "    </tr>\n",
       "    <tr>\n",
       "      <th>unique</th>\n",
       "      <td>15</td>\n",
       "      <td>38</td>\n",
       "      <td>NaN</td>\n",
       "      <td>NaN</td>\n",
       "      <td>NaN</td>\n",
       "      <td>10</td>\n",
       "      <td>3</td>\n",
       "      <td>NaN</td>\n",
       "      <td>NaN</td>\n",
       "      <td>5</td>\n",
       "      <td>7</td>\n",
       "      <td>NaN</td>\n",
       "    </tr>\n",
       "    <tr>\n",
       "      <th>top</th>\n",
       "      <td>dodge</td>\n",
       "      <td>caravan 2wd</td>\n",
       "      <td>NaN</td>\n",
       "      <td>NaN</td>\n",
       "      <td>NaN</td>\n",
       "      <td>auto(l4)</td>\n",
       "      <td>f</td>\n",
       "      <td>NaN</td>\n",
       "      <td>NaN</td>\n",
       "      <td>r</td>\n",
       "      <td>suv</td>\n",
       "      <td>NaN</td>\n",
       "    </tr>\n",
       "    <tr>\n",
       "      <th>freq</th>\n",
       "      <td>37</td>\n",
       "      <td>11</td>\n",
       "      <td>NaN</td>\n",
       "      <td>NaN</td>\n",
       "      <td>NaN</td>\n",
       "      <td>83</td>\n",
       "      <td>106</td>\n",
       "      <td>NaN</td>\n",
       "      <td>NaN</td>\n",
       "      <td>168</td>\n",
       "      <td>62</td>\n",
       "      <td>NaN</td>\n",
       "    </tr>\n",
       "    <tr>\n",
       "      <th>mean</th>\n",
       "      <td>NaN</td>\n",
       "      <td>NaN</td>\n",
       "      <td>3.471795</td>\n",
       "      <td>2003.500000</td>\n",
       "      <td>5.888889</td>\n",
       "      <td>NaN</td>\n",
       "      <td>NaN</td>\n",
       "      <td>16.858974</td>\n",
       "      <td>23.440171</td>\n",
       "      <td>NaN</td>\n",
       "      <td>NaN</td>\n",
       "      <td>20.149573</td>\n",
       "    </tr>\n",
       "    <tr>\n",
       "      <th>std</th>\n",
       "      <td>NaN</td>\n",
       "      <td>NaN</td>\n",
       "      <td>1.291959</td>\n",
       "      <td>4.509646</td>\n",
       "      <td>1.611534</td>\n",
       "      <td>NaN</td>\n",
       "      <td>NaN</td>\n",
       "      <td>4.255946</td>\n",
       "      <td>5.954643</td>\n",
       "      <td>NaN</td>\n",
       "      <td>NaN</td>\n",
       "      <td>5.050290</td>\n",
       "    </tr>\n",
       "    <tr>\n",
       "      <th>min</th>\n",
       "      <td>NaN</td>\n",
       "      <td>NaN</td>\n",
       "      <td>1.600000</td>\n",
       "      <td>1999.000000</td>\n",
       "      <td>4.000000</td>\n",
       "      <td>NaN</td>\n",
       "      <td>NaN</td>\n",
       "      <td>9.000000</td>\n",
       "      <td>12.000000</td>\n",
       "      <td>NaN</td>\n",
       "      <td>NaN</td>\n",
       "      <td>10.500000</td>\n",
       "    </tr>\n",
       "    <tr>\n",
       "      <th>25%</th>\n",
       "      <td>NaN</td>\n",
       "      <td>NaN</td>\n",
       "      <td>2.400000</td>\n",
       "      <td>1999.000000</td>\n",
       "      <td>4.000000</td>\n",
       "      <td>NaN</td>\n",
       "      <td>NaN</td>\n",
       "      <td>14.000000</td>\n",
       "      <td>18.000000</td>\n",
       "      <td>NaN</td>\n",
       "      <td>NaN</td>\n",
       "      <td>15.500000</td>\n",
       "    </tr>\n",
       "    <tr>\n",
       "      <th>50%</th>\n",
       "      <td>NaN</td>\n",
       "      <td>NaN</td>\n",
       "      <td>3.300000</td>\n",
       "      <td>2003.500000</td>\n",
       "      <td>6.000000</td>\n",
       "      <td>NaN</td>\n",
       "      <td>NaN</td>\n",
       "      <td>17.000000</td>\n",
       "      <td>24.000000</td>\n",
       "      <td>NaN</td>\n",
       "      <td>NaN</td>\n",
       "      <td>20.500000</td>\n",
       "    </tr>\n",
       "    <tr>\n",
       "      <th>75%</th>\n",
       "      <td>NaN</td>\n",
       "      <td>NaN</td>\n",
       "      <td>4.600000</td>\n",
       "      <td>2008.000000</td>\n",
       "      <td>8.000000</td>\n",
       "      <td>NaN</td>\n",
       "      <td>NaN</td>\n",
       "      <td>19.000000</td>\n",
       "      <td>27.000000</td>\n",
       "      <td>NaN</td>\n",
       "      <td>NaN</td>\n",
       "      <td>23.500000</td>\n",
       "    </tr>\n",
       "    <tr>\n",
       "      <th>max</th>\n",
       "      <td>NaN</td>\n",
       "      <td>NaN</td>\n",
       "      <td>7.000000</td>\n",
       "      <td>2008.000000</td>\n",
       "      <td>8.000000</td>\n",
       "      <td>NaN</td>\n",
       "      <td>NaN</td>\n",
       "      <td>35.000000</td>\n",
       "      <td>44.000000</td>\n",
       "      <td>NaN</td>\n",
       "      <td>NaN</td>\n",
       "      <td>39.500000</td>\n",
       "    </tr>\n",
       "  </tbody>\n",
       "</table>\n",
       "</div>"
      ],
      "text/plain": [
       "       manufacturer        model       displ         year         cyl  \\\n",
       "count           234          234  234.000000   234.000000  234.000000   \n",
       "unique           15           38         NaN          NaN         NaN   \n",
       "top           dodge  caravan 2wd         NaN          NaN         NaN   \n",
       "freq             37           11         NaN          NaN         NaN   \n",
       "mean            NaN          NaN    3.471795  2003.500000    5.888889   \n",
       "std             NaN          NaN    1.291959     4.509646    1.611534   \n",
       "min             NaN          NaN    1.600000  1999.000000    4.000000   \n",
       "25%             NaN          NaN    2.400000  1999.000000    4.000000   \n",
       "50%             NaN          NaN    3.300000  2003.500000    6.000000   \n",
       "75%             NaN          NaN    4.600000  2008.000000    8.000000   \n",
       "max             NaN          NaN    7.000000  2008.000000    8.000000   \n",
       "\n",
       "           trans  drv        city     highway   fl class  average_mileage  \n",
       "count        234  234  234.000000  234.000000  234   234       234.000000  \n",
       "unique        10    3         NaN         NaN    5     7              NaN  \n",
       "top     auto(l4)    f         NaN         NaN    r   suv              NaN  \n",
       "freq          83  106         NaN         NaN  168    62              NaN  \n",
       "mean         NaN  NaN   16.858974   23.440171  NaN   NaN        20.149573  \n",
       "std          NaN  NaN    4.255946    5.954643  NaN   NaN         5.050290  \n",
       "min          NaN  NaN    9.000000   12.000000  NaN   NaN        10.500000  \n",
       "25%          NaN  NaN   14.000000   18.000000  NaN   NaN        15.500000  \n",
       "50%          NaN  NaN   17.000000   24.000000  NaN   NaN        20.500000  \n",
       "75%          NaN  NaN   19.000000   27.000000  NaN   NaN        23.500000  \n",
       "max          NaN  NaN   35.000000   44.000000  NaN   NaN        39.500000  "
      ]
     },
     "execution_count": 9,
     "metadata": {},
     "output_type": "execute_result"
    }
   ],
   "source": [
    "# 3. Load the mpg dataset and use it to answer the following questions:\n",
    "from pydataset import data\n",
    "mpg = data('mpg')\n",
    "mpg =mpg.rename(columns={'hwy': 'highway','cty':'city'})\n",
    "mpg['average_mileage'] = mpg[['city','highway']].mean(axis=1)\n",
    "mpg.head()\n",
    "mpg.describe(include='all')\n"
   ]
  },
  {
   "cell_type": "code",
   "execution_count": 10,
   "id": "377378de",
   "metadata": {},
   "outputs": [
    {
     "ename": "NameError",
     "evalue": "name 'mpg_2008' is not defined",
     "output_type": "error",
     "traceback": [
      "\u001b[0;31m---------------------------------------------------------------------------\u001b[0m",
      "\u001b[0;31mNameError\u001b[0m                                 Traceback (most recent call last)",
      "Input \u001b[0;32mIn [10]\u001b[0m, in \u001b[0;36m<cell line: 5>\u001b[0;34m()\u001b[0m\n\u001b[1;32m      1\u001b[0m \u001b[38;5;66;03m#     Is there a difference in fuel-efficiency in cars from 2008 vs 1999?\u001b[39;00m\n\u001b[1;32m      2\u001b[0m \u001b[38;5;66;03m#Define the hypothisis\u001b[39;00m\n\u001b[1;32m      3\u001b[0m \u001b[38;5;66;03m# H0= There is no difference in fuel-efficiency in cars from 2008 vs 1999.\u001b[39;00m\n\u001b[1;32m      4\u001b[0m \u001b[38;5;66;03m# HA= There is a differnce in fuel-efficiency in cars from 2008 vs 1999.\u001b[39;00m\n\u001b[0;32m----> 5\u001b[0m \u001b[38;5;28mprint\u001b[39m(\u001b[43mmpg_2008\u001b[49m\u001b[38;5;241m.\u001b[39maverage_mileage\u001b[38;5;241m.\u001b[39mmean())\n\u001b[1;32m      6\u001b[0m \u001b[38;5;28mprint\u001b[39m(mpg_1999\u001b[38;5;241m.\u001b[39maverage_mileage\u001b[38;5;241m.\u001b[39mmean())\n",
      "\u001b[0;31mNameError\u001b[0m: name 'mpg_2008' is not defined"
     ]
    }
   ],
   "source": [
    "#     Is there a difference in fuel-efficiency in cars from 2008 vs 1999?\n",
    "#Define the hypothisis\n",
    "# H0= There is no difference in fuel-efficiency in cars from 2008 vs 1999.\n",
    "# HA= There is a differnce in fuel-efficiency in cars from 2008 vs 1999.\n",
    "print(mpg_2008.average_mileage.mean())\n",
    "print(mpg_1999.average_mileage.mean())"
   ]
  },
  {
   "cell_type": "code",
   "execution_count": null,
   "id": "1a19df02",
   "metadata": {},
   "outputs": [],
   "source": [
    "# Create data frames for the two samples (2008 and 1999)\n",
    "mpg_2008 = mpg[mpg['year'] == 2008]\n",
    "mpg_1999 = mpg[mpg['year'] == 1999]\n",
    "# Set the level of significance\n",
    "alpha = 0.05\n"
   ]
  },
  {
   "cell_type": "code",
   "execution_count": null,
   "id": "cd32c81a",
   "metadata": {},
   "outputs": [],
   "source": [
    "# Perform the two-sample t-test\n",
    "\n",
    "t, p = stats.ttest_ind(mpg_2008['average_mileage'], mpg_1999['average_mileage'], equal_var=False)\n",
    "print(t,p)\n",
    "\n",
    "# Determine whether to reject the null hypothesis\n",
    "if p < alpha:\n",
    "    print('Reject the null hypothesis. \\nThere is a differnce in fuel-efficiency in cars from 2008 vs 1999')\n",
    "else:\n",
    "    print('Fail to reject the null hypothesis. \\nThere is no  differnce in fuel-efficiency in cars from 2008 vs 1999')"
   ]
  },
  {
   "cell_type": "code",
   "execution_count": null,
   "id": "40a75f23",
   "metadata": {},
   "outputs": [],
   "source": [
    "#     Are compact cars more fuel-efficient than the average car?\n",
    "#Form Hypothisis\n",
    "# H0 = The fuel effeciency of compact cars is not greater than the fuel effeciency of the average car. \n",
    "# HA = The fuel effeciency of compact cars is greater than the fuel effeciency of the average car. \n"
   ]
  },
  {
   "cell_type": "code",
   "execution_count": null,
   "id": "8b9d5a04",
   "metadata": {},
   "outputs": [],
   "source": [
    "# Create data frames for compact cars and all cars\n",
    "\n",
    "mpg_compact = mpg[mpg['class'] == 'compact']\n",
    "mpg_all = mpg\n",
    "# Set the level of significance\n",
    "alpha = 0.05"
   ]
  },
  {
   "cell_type": "code",
   "execution_count": null,
   "id": "9d5225af",
   "metadata": {},
   "outputs": [],
   "source": [
    "# Perform one-sample t-test for compact cars against the population mean\n",
    "t, p = stats.ttest_1samp(mpg_compact['average_mileage'], mpg_all['average_mileage'].mean())\n",
    "print(t,p/2)\n",
    "# Determine whether to reject the null hypothesis\n",
    "if (t > 0) and (p/2 < alpha):\n",
    "    print('Reject the null hypothesis. \\nCompact cars are more fuel efficent than the average car')\n",
    "else:\n",
    "    print('Fail to reject the null hypothesis. \\nCompact cars are not more fuel efficent than the average car')"
   ]
  },
  {
   "cell_type": "code",
   "execution_count": null,
   "id": "58c16e27",
   "metadata": {},
   "outputs": [],
   "source": [
    "#     Do manual cars get better gas mileage than automatic cars?\n",
    "#Form Hypothisis\n",
    "# H0 = The fuel efficincy of manual cars is not greater than the fuel efficency of automatic cars.\n",
    "# HA = The fuel efficincy of manual cars is greater than the fuel efficency of automatic cars.\n",
    "mpg['trans'] = mpg['trans'].str.lower().str.replace('^auto.*', 'auto')\n",
    "mpg['trans'] = mpg['trans'].str.lower().str.replace('^manual.*', 'manual')\n"
   ]
  },
  {
   "cell_type": "code",
   "execution_count": null,
   "id": "68b4ec4e",
   "metadata": {},
   "outputs": [],
   "source": [
    "# Create data frames for manual cars and automatic cars\n",
    "mpg_manual = mpg[mpg['trans'] == 'manual']\n",
    "mpg_automatic = mpg[mpg['trans'] == 'auto']\n",
    "# Set the level of significance\n",
    "alpha = 0.05\n",
    "print(mpg_automatic.average_mileage.mean())\n",
    "print(mpg_manual.average_mileage.mean())"
   ]
  },
  {
   "cell_type": "code",
   "execution_count": null,
   "id": "edfe63eb",
   "metadata": {},
   "outputs": [],
   "source": []
  },
  {
   "cell_type": "code",
   "execution_count": null,
   "id": "16c170c7",
   "metadata": {},
   "outputs": [],
   "source": [
    "stats.levene(mpg_automatic.average_mileage,mpg_manual.average_mileage)"
   ]
  },
  {
   "cell_type": "code",
   "execution_count": null,
   "id": "fb0f68cc",
   "metadata": {},
   "outputs": [],
   "source": []
  },
  {
   "cell_type": "code",
   "execution_count": null,
   "id": "40b730b1",
   "metadata": {},
   "outputs": [],
   "source": [
    "# run the independent or  two-sample t-test\n",
    "t, p = stats.ttest_ind(mpg_manual['average_mileage'], mpg_automatic['average_mileage'], equal_var=False)\n",
    "print(t,p/2)"
   ]
  },
  {
   "cell_type": "code",
   "execution_count": null,
   "id": "a5fd6474",
   "metadata": {},
   "outputs": [],
   "source": [
    "# Determine whether to reject the null hypothesis\n",
    "if (t > 0) and (p/2 < alpha):\n",
    "    print('Reject the null hypothesis. \\nmanual cars are more fuel efficent than the automatic car')\n",
    "else:\n",
    "    print('Fail to reject the null hypothesis. \\nManual cars are not more fuel efficent than the automatic car')"
   ]
  },
  {
   "cell_type": "code",
   "execution_count": null,
   "id": "61481b0b",
   "metadata": {},
   "outputs": [],
   "source": []
  },
  {
   "cell_type": "code",
   "execution_count": null,
   "id": "32588709",
   "metadata": {},
   "outputs": [],
   "source": []
  },
  {
   "cell_type": "code",
   "execution_count": null,
   "id": "af4368ae",
   "metadata": {},
   "outputs": [],
   "source": []
  },
  {
   "cell_type": "code",
   "execution_count": null,
   "id": "5ec1e564",
   "metadata": {},
   "outputs": [],
   "source": []
  },
  {
   "cell_type": "markdown",
   "id": "fc48713e",
   "metadata": {},
   "source": [
    "# Correlation Exercises\n"
   ]
  },
  {
   "cell_type": "code",
   "execution_count": null,
   "id": "60a593b4",
   "metadata": {},
   "outputs": [],
   "source": [
    "import pandas as pd\n",
    "import numpy as np\n",
    "import matplotlib.pyplot as plt\n",
    "import seaborn as sns\n",
    "\n",
    "from math import sqrt\n",
    "\n",
    "from scipy import stats\n",
    "from pydataset import data\n",
    "\n",
    "\n"
   ]
  },
  {
   "cell_type": "code",
   "execution_count": null,
   "id": "1ddb7498",
   "metadata": {},
   "outputs": [],
   "source": [
    "# 1.\n",
    "#Answer with the type of stats test you would use (assume normal distribution):\n",
    "#Is there a relationship between the length of your arm and the length of your foot? pearson r\n",
    "#Do guys and gals quit their jobs at the same rate? T-test\n",
    "#Does the length of time of the lecture correlate with a students grade? pearson r or spearson rho"
   ]
  },
  {
   "cell_type": "code",
   "execution_count": 43,
   "id": "fedec887",
   "metadata": {},
   "outputs": [],
   "source": [
    "# 2. Use the telco_churn data.\n",
    "def get_db_url(database):\n",
    "    from env import host, user, password\n",
    "    return f'mysql+pymysql://{user}:{password}@{host}/{database}'\n",
    "url = get_db_url('telco_churn')\n",
    "query = '''\n",
    "select customer_id, monthly_charges,case when total_charges = '' then 0 else total_charges end as total_charges,phone_service,internet_service_type,tenure\n",
    "from customers\n",
    "join internet_service_types using (internet_service_type_id)\n",
    "'''\n",
    "telco=pd.read_sql(query,url)\n"
   ]
  },
  {
   "cell_type": "code",
   "execution_count": 44,
   "id": "e0bec474",
   "metadata": {},
   "outputs": [
    {
     "name": "stdout",
     "output_type": "stream",
     "text": [
      "<class 'pandas.core.frame.DataFrame'>\n",
      "RangeIndex: 7043 entries, 0 to 7042\n",
      "Data columns (total 6 columns):\n",
      " #   Column                 Non-Null Count  Dtype  \n",
      "---  ------                 --------------  -----  \n",
      " 0   customer_id            7043 non-null   object \n",
      " 1   monthly_charges        7043 non-null   float64\n",
      " 2   total_charges          7043 non-null   object \n",
      " 3   phone_service          7043 non-null   object \n",
      " 4   internet_service_type  7043 non-null   object \n",
      " 5   tenure                 7043 non-null   int64  \n",
      "dtypes: float64(1), int64(1), object(4)\n",
      "memory usage: 330.3+ KB\n"
     ]
    }
   ],
   "source": [
    "telco.info()"
   ]
  },
  {
   "cell_type": "code",
   "execution_count": 45,
   "id": "601f7ba0",
   "metadata": {},
   "outputs": [
    {
     "data": {
      "text/html": [
       "<div>\n",
       "<style scoped>\n",
       "    .dataframe tbody tr th:only-of-type {\n",
       "        vertical-align: middle;\n",
       "    }\n",
       "\n",
       "    .dataframe tbody tr th {\n",
       "        vertical-align: top;\n",
       "    }\n",
       "\n",
       "    .dataframe thead th {\n",
       "        text-align: right;\n",
       "    }\n",
       "</style>\n",
       "<table border=\"1\" class=\"dataframe\">\n",
       "  <thead>\n",
       "    <tr style=\"text-align: right;\">\n",
       "      <th></th>\n",
       "      <th>customer_id</th>\n",
       "      <th>monthly_charges</th>\n",
       "      <th>total_charges</th>\n",
       "      <th>phone_service</th>\n",
       "      <th>internet_service_type</th>\n",
       "      <th>tenure</th>\n",
       "    </tr>\n",
       "  </thead>\n",
       "  <tbody>\n",
       "    <tr>\n",
       "      <th>2855</th>\n",
       "      <td>4075-WKNIU</td>\n",
       "      <td>73.35</td>\n",
       "      <td>0</td>\n",
       "      <td>Yes</td>\n",
       "      <td>DSL</td>\n",
       "      <td>0</td>\n",
       "    </tr>\n",
       "    <tr>\n",
       "      <th>3118</th>\n",
       "      <td>4472-LVYGI</td>\n",
       "      <td>52.55</td>\n",
       "      <td>0</td>\n",
       "      <td>No</td>\n",
       "      <td>DSL</td>\n",
       "      <td>0</td>\n",
       "    </tr>\n",
       "    <tr>\n",
       "      <th>3052</th>\n",
       "      <td>4367-NUYAO</td>\n",
       "      <td>25.75</td>\n",
       "      <td>0</td>\n",
       "      <td>Yes</td>\n",
       "      <td>None</td>\n",
       "      <td>0</td>\n",
       "    </tr>\n",
       "    <tr>\n",
       "      <th>5433</th>\n",
       "      <td>7644-OMVMY</td>\n",
       "      <td>19.85</td>\n",
       "      <td>0</td>\n",
       "      <td>Yes</td>\n",
       "      <td>None</td>\n",
       "      <td>0</td>\n",
       "    </tr>\n",
       "    <tr>\n",
       "      <th>1731</th>\n",
       "      <td>2520-SGTTA</td>\n",
       "      <td>20.00</td>\n",
       "      <td>0</td>\n",
       "      <td>Yes</td>\n",
       "      <td>None</td>\n",
       "      <td>0</td>\n",
       "    </tr>\n",
       "    <tr>\n",
       "      <th>...</th>\n",
       "      <td>...</td>\n",
       "      <td>...</td>\n",
       "      <td>...</td>\n",
       "      <td>...</td>\n",
       "      <td>...</td>\n",
       "      <td>...</td>\n",
       "    </tr>\n",
       "    <tr>\n",
       "      <th>5868</th>\n",
       "      <td>8249-THVEC</td>\n",
       "      <td>19.40</td>\n",
       "      <td>997.75</td>\n",
       "      <td>Yes</td>\n",
       "      <td>None</td>\n",
       "      <td>51</td>\n",
       "    </tr>\n",
       "    <tr>\n",
       "      <th>4298</th>\n",
       "      <td>6051-PTVNS</td>\n",
       "      <td>19.15</td>\n",
       "      <td>998.1</td>\n",
       "      <td>Yes</td>\n",
       "      <td>None</td>\n",
       "      <td>55</td>\n",
       "    </tr>\n",
       "    <tr>\n",
       "      <th>4173</th>\n",
       "      <td>5899-MQZZL</td>\n",
       "      <td>75.00</td>\n",
       "      <td>999.45</td>\n",
       "      <td>Yes</td>\n",
       "      <td>Fiber optic</td>\n",
       "      <td>13</td>\n",
       "    </tr>\n",
       "    <tr>\n",
       "      <th>3162</th>\n",
       "      <td>4536-PLEQY</td>\n",
       "      <td>85.05</td>\n",
       "      <td>999.8</td>\n",
       "      <td>Yes</td>\n",
       "      <td>Fiber optic</td>\n",
       "      <td>12</td>\n",
       "    </tr>\n",
       "    <tr>\n",
       "      <th>6421</th>\n",
       "      <td>9093-FPDLG</td>\n",
       "      <td>94.20</td>\n",
       "      <td>999.9</td>\n",
       "      <td>Yes</td>\n",
       "      <td>Fiber optic</td>\n",
       "      <td>11</td>\n",
       "    </tr>\n",
       "  </tbody>\n",
       "</table>\n",
       "<p>7043 rows × 6 columns</p>\n",
       "</div>"
      ],
      "text/plain": [
       "     customer_id  monthly_charges total_charges phone_service  \\\n",
       "2855  4075-WKNIU            73.35             0           Yes   \n",
       "3118  4472-LVYGI            52.55             0            No   \n",
       "3052  4367-NUYAO            25.75             0           Yes   \n",
       "5433  7644-OMVMY            19.85             0           Yes   \n",
       "1731  2520-SGTTA            20.00             0           Yes   \n",
       "...          ...              ...           ...           ...   \n",
       "5868  8249-THVEC            19.40        997.75           Yes   \n",
       "4298  6051-PTVNS            19.15         998.1           Yes   \n",
       "4173  5899-MQZZL            75.00        999.45           Yes   \n",
       "3162  4536-PLEQY            85.05         999.8           Yes   \n",
       "6421  9093-FPDLG            94.20         999.9           Yes   \n",
       "\n",
       "     internet_service_type  tenure  \n",
       "2855                   DSL       0  \n",
       "3118                   DSL       0  \n",
       "3052                  None       0  \n",
       "5433                  None       0  \n",
       "1731                  None       0  \n",
       "...                    ...     ...  \n",
       "5868                  None      51  \n",
       "4298                  None      55  \n",
       "4173           Fiber optic      13  \n",
       "3162           Fiber optic      12  \n",
       "6421           Fiber optic      11  \n",
       "\n",
       "[7043 rows x 6 columns]"
      ]
     },
     "execution_count": 45,
     "metadata": {},
     "output_type": "execute_result"
    }
   ],
   "source": [
    "telco.sort_values('total_charges')"
   ]
  },
  {
   "cell_type": "code",
   "execution_count": 46,
   "id": "2c85db9c",
   "metadata": {},
   "outputs": [],
   "source": [
    "telco['total_charges']=telco['total_charges'].astype(float)"
   ]
  },
  {
   "cell_type": "code",
   "execution_count": 47,
   "id": "502be643",
   "metadata": {},
   "outputs": [
    {
     "name": "stdout",
     "output_type": "stream",
     "text": [
      "<class 'pandas.core.frame.DataFrame'>\n",
      "RangeIndex: 7043 entries, 0 to 7042\n",
      "Data columns (total 6 columns):\n",
      " #   Column                 Non-Null Count  Dtype  \n",
      "---  ------                 --------------  -----  \n",
      " 0   customer_id            7043 non-null   object \n",
      " 1   monthly_charges        7043 non-null   float64\n",
      " 2   total_charges          7043 non-null   float64\n",
      " 3   phone_service          7043 non-null   object \n",
      " 4   internet_service_type  7043 non-null   object \n",
      " 5   tenure                 7043 non-null   int64  \n",
      "dtypes: float64(2), int64(1), object(3)\n",
      "memory usage: 330.3+ KB\n"
     ]
    }
   ],
   "source": [
    "telco.info()"
   ]
  },
  {
   "cell_type": "code",
   "execution_count": 48,
   "id": "9291d812",
   "metadata": {},
   "outputs": [],
   "source": [
    "#Does tenure correlate with monthly charges? yes, a weak one"
   ]
  },
  {
   "cell_type": "markdown",
   "id": "50f70579",
   "metadata": {},
   "source": [
    "$H_0$ : There is no relationship between tenure and monthly charges\n",
    "$H_A$ : There is a relationship between tenure and monthly charges"
   ]
  },
  {
   "cell_type": "code",
   "execution_count": 49,
   "id": "bd5cd569",
   "metadata": {},
   "outputs": [
    {
     "data": {
      "image/png": "[encoded data removed]",
      "text/plain": [
       "<Figure size 640x480 with 1 Axes>"
      ]
     },
     "metadata": {},
     "output_type": "display_data"
    }
   ],
   "source": [
    "r, p = stats.pearsonr(telco.tenure, telco.monthly_charges)\n",
    "\n",
    "telco.plot.scatter('tenure', 'monthly_charges')\n",
    "plt.title('tenure vs monthly_charges')\n",
    "plt.text(8, 80, f'r = {r:.3f}')\n",
    "plt.show()"
   ]
  },
  {
   "cell_type": "code",
   "execution_count": 52,
   "id": "42b4f86f",
   "metadata": {},
   "outputs": [
    {
     "data": {
      "text/plain": [
       "(0.24789985628615246, 4.094044991483017e-99)"
      ]
     },
     "execution_count": 52,
     "metadata": {},
     "output_type": "execute_result"
    }
   ],
   "source": [
    "r, p = stats.pearsonr(telco.tenure, telco.monthly_charges)\n",
    "r,p"
   ]
  },
  {
   "cell_type": "code",
   "execution_count": 51,
   "id": "174ca940",
   "metadata": {},
   "outputs": [
    {
     "data": {
      "text/plain": [
       "<AxesSubplot:>"
      ]
     },
     "execution_count": 51,
     "metadata": {},
     "output_type": "execute_result"
    },
    {
     "data": {
      "image/png": "[encoded data removed]",
      "text/plain": [
       "<Figure size 640x480 with 1 Axes>"
      ]
     },
     "metadata": {},
     "output_type": "display_data"
    }
   ],
   "source": [
    "telco.monthly_charges.hist()\n",
    "telco.tenure.hist()"
   ]
  },
  {
   "cell_type": "code",
   "execution_count": 54,
   "id": "73f02b5e",
   "metadata": {},
   "outputs": [
    {
     "data": {
      "image/png": "[encoded data removed]",
      "text/plain": [
       "<Figure size 640x480 with 1 Axes>"
      ]
     },
     "metadata": {},
     "output_type": "display_data"
    }
   ],
   "source": [
    "#Total charges? yes\n",
    "r, p = stats.pearsonr(telco.tenure, telco.total_charges)\n",
    "\n",
    "telco.plot.scatter('tenure', 'total_charges')\n",
    "plt.title('tenure vs total_charges')\n",
    "plt.text(8, 80, f'r = {r:.3f}')\n",
    "plt.show()\n",
    "\n"
   ]
  },
  {
   "cell_type": "code",
   "execution_count": 55,
   "id": "863689a5",
   "metadata": {},
   "outputs": [
    {
     "name": "stdout",
     "output_type": "stream",
     "text": [
      "Correlation coefficient: 0.83\n",
      "P-value: 0.00\n"
     ]
    }
   ],
   "source": [
    "r, p = stats.pearsonr(telco.tenure, telco.total_charges)\n",
    "print(f\"Correlation coefficient: {r:.2f}\")\n",
    "\n",
    "print(f\"P-value: {p:.2f}\")"
   ]
  },
  {
   "cell_type": "code",
   "execution_count": null,
   "id": "1a835db5",
   "metadata": {},
   "outputs": [],
   "source": [
    "#What happens if you control for phone and internet service?they all have an even stronger corrolation compared to total charges on its own"
   ]
  },
  {
   "cell_type": "code",
   "execution_count": 56,
   "id": "424f6f39",
   "metadata": {},
   "outputs": [
    {
     "data": {
      "text/html": [
       "<div>\n",
       "<style scoped>\n",
       "    .dataframe tbody tr th:only-of-type {\n",
       "        vertical-align: middle;\n",
       "    }\n",
       "\n",
       "    .dataframe tbody tr th {\n",
       "        vertical-align: top;\n",
       "    }\n",
       "\n",
       "    .dataframe thead th {\n",
       "        text-align: right;\n",
       "    }\n",
       "</style>\n",
       "<table border=\"1\" class=\"dataframe\">\n",
       "  <thead>\n",
       "    <tr style=\"text-align: right;\">\n",
       "      <th></th>\n",
       "      <th>phone_service</th>\n",
       "      <th>internet_service_type</th>\n",
       "      <th>corr</th>\n",
       "    </tr>\n",
       "  </thead>\n",
       "  <tbody>\n",
       "    <tr>\n",
       "      <th>0</th>\n",
       "      <td>No</td>\n",
       "      <td>DSL</td>\n",
       "      <td>0.953570</td>\n",
       "    </tr>\n",
       "    <tr>\n",
       "      <th>1</th>\n",
       "      <td>Yes</td>\n",
       "      <td>DSL</td>\n",
       "      <td>0.970593</td>\n",
       "    </tr>\n",
       "    <tr>\n",
       "      <th>2</th>\n",
       "      <td>Yes</td>\n",
       "      <td>Fiber optic</td>\n",
       "      <td>0.985309</td>\n",
       "    </tr>\n",
       "    <tr>\n",
       "      <th>3</th>\n",
       "      <td>Yes</td>\n",
       "      <td>None</td>\n",
       "      <td>0.981567</td>\n",
       "    </tr>\n",
       "  </tbody>\n",
       "</table>\n",
       "</div>"
      ],
      "text/plain": [
       "  phone_service internet_service_type      corr\n",
       "0            No                   DSL  0.953570\n",
       "1           Yes                   DSL  0.970593\n",
       "2           Yes           Fiber optic  0.985309\n",
       "3           Yes                  None  0.981567"
      ]
     },
     "execution_count": 56,
     "metadata": {},
     "output_type": "execute_result"
    }
   ],
   "source": [
    "grouped = telco.groupby(['phone_service', 'internet_service_type'])\n",
    "corr_df = grouped.apply(lambda x: x[['tenure', 'total_charges']].corr().iloc[0,1])\n",
    "corr_df = corr_df.reset_index().rename(columns={0: 'corr'})\n",
    "corr_df\n"
   ]
  },
  {
   "cell_type": "code",
   "execution_count": 18,
   "id": "4c25b21c",
   "metadata": {},
   "outputs": [],
   "source": [
    "# 3. Use the employees database.\n",
    "def get_db_url(database):\n",
    "    from env import host, user, password\n",
    "    return f'mysql+pymysql://{user}:{password}@{host}/{database}'\n",
    "urle = get_db_url('employees')\n",
    "querye= '''\n",
    "select salary, hire_date, salaries.to_date, title, concat(first_name, ' ',last_name)as full_name\n",
    "from employees\n",
    "join salaries using (emp_no) \n",
    "join titles using (emp_no)\n",
    "'''"
   ]
  },
  {
   "cell_type": "code",
   "execution_count": 19,
   "id": "6d66ae17",
   "metadata": {},
   "outputs": [
    {
     "name": "stdout",
     "output_type": "stream",
     "text": [
      "<class 'pandas.core.frame.DataFrame'>\n",
      "RangeIndex: 4638507 entries, 0 to 4638506\n",
      "Data columns (total 5 columns):\n",
      " #   Column     Dtype \n",
      "---  ------     ----- \n",
      " 0   salary     int64 \n",
      " 1   hire_date  object\n",
      " 2   to_date    object\n",
      " 3   title      object\n",
      " 4   full_name  object\n",
      "dtypes: int64(1), object(4)\n",
      "memory usage: 176.9+ MB\n"
     ]
    }
   ],
   "source": [
    "emp=pd.read_sql(querye,urle)\n",
    "emp.info()"
   ]
  },
  {
   "cell_type": "code",
   "execution_count": null,
   "id": "f6b6b400",
   "metadata": {},
   "outputs": [],
   "source": [
    "emp['tenure'] = emp.to_date - emp.hire_date"
   ]
  },
  {
   "cell_type": "code",
   "execution_count": 30,
   "id": "5371a964",
   "metadata": {},
   "outputs": [],
   "source": [
    "df_emp=emp.groupby('full_name')"
   ]
  },
  {
   "cell_type": "code",
   "execution_count": 31,
   "id": "4c52dd1f",
   "metadata": {},
   "outputs": [
    {
     "data": {
      "text/plain": [
       "<pandas.core.groupby.generic.DataFrameGroupBy object at 0x33761bb20>"
      ]
     },
     "execution_count": 31,
     "metadata": {},
     "output_type": "execute_result"
    }
   ],
   "source": [
    "df_emp\n"
   ]
  },
  {
   "cell_type": "code",
   "execution_count": 35,
   "id": "f42380ae",
   "metadata": {},
   "outputs": [
    {
     "data": {
      "text/html": [
       "<div>\n",
       "<style scoped>\n",
       "    .dataframe tbody tr th:only-of-type {\n",
       "        vertical-align: middle;\n",
       "    }\n",
       "\n",
       "    .dataframe tbody tr th {\n",
       "        vertical-align: top;\n",
       "    }\n",
       "\n",
       "    .dataframe thead th {\n",
       "        text-align: right;\n",
       "    }\n",
       "</style>\n",
       "<table border=\"1\" class=\"dataframe\">\n",
       "  <thead>\n",
       "    <tr style=\"text-align: right;\">\n",
       "      <th></th>\n",
       "      <th>salary</th>\n",
       "      <th>hire_date</th>\n",
       "      <th>to_date</th>\n",
       "      <th>title</th>\n",
       "      <th>full_name</th>\n",
       "      <th>tenure</th>\n",
       "    </tr>\n",
       "  </thead>\n",
       "  <tbody>\n",
       "    <tr>\n",
       "      <th>2286271</th>\n",
       "      <td>68012</td>\n",
       "      <td>1996-06-13</td>\n",
       "      <td>9999-01-01</td>\n",
       "      <td>Engineer</td>\n",
       "      <td>Zvonko Zuberek</td>\n",
       "      <td>2922872 days, 0:00:00</td>\n",
       "    </tr>\n",
       "    <tr>\n",
       "      <th>2286278</th>\n",
       "      <td>68012</td>\n",
       "      <td>1996-06-13</td>\n",
       "      <td>9999-01-01</td>\n",
       "      <td>Senior Engineer</td>\n",
       "      <td>Zvonko Zuberek</td>\n",
       "      <td>2922872 days, 0:00:00</td>\n",
       "    </tr>\n",
       "    <tr>\n",
       "      <th>2286270</th>\n",
       "      <td>65716</td>\n",
       "      <td>1996-06-13</td>\n",
       "      <td>2002-06-12</td>\n",
       "      <td>Engineer</td>\n",
       "      <td>Zvonko Zuberek</td>\n",
       "      <td>2190 days, 0:00:00</td>\n",
       "    </tr>\n",
       "    <tr>\n",
       "      <th>2286277</th>\n",
       "      <td>65716</td>\n",
       "      <td>1996-06-13</td>\n",
       "      <td>2002-06-12</td>\n",
       "      <td>Senior Engineer</td>\n",
       "      <td>Zvonko Zuberek</td>\n",
       "      <td>2190 days, 0:00:00</td>\n",
       "    </tr>\n",
       "    <tr>\n",
       "      <th>2286269</th>\n",
       "      <td>65026</td>\n",
       "      <td>1996-06-13</td>\n",
       "      <td>2001-06-12</td>\n",
       "      <td>Engineer</td>\n",
       "      <td>Zvonko Zuberek</td>\n",
       "      <td>1825 days, 0:00:00</td>\n",
       "    </tr>\n",
       "    <tr>\n",
       "      <th>...</th>\n",
       "      <td>...</td>\n",
       "      <td>...</td>\n",
       "      <td>...</td>\n",
       "      <td>...</td>\n",
       "      <td>...</td>\n",
       "      <td>...</td>\n",
       "    </tr>\n",
       "    <tr>\n",
       "      <th>4433119</th>\n",
       "      <td>40000</td>\n",
       "      <td>1990-09-15</td>\n",
       "      <td>1991-09-15</td>\n",
       "      <td>Senior Engineer</td>\n",
       "      <td>Aamer Armand</td>\n",
       "      <td>365 days, 0:00:00</td>\n",
       "    </tr>\n",
       "    <tr>\n",
       "      <th>919637</th>\n",
       "      <td>46662</td>\n",
       "      <td>1998-03-16</td>\n",
       "      <td>9999-01-01</td>\n",
       "      <td>Senior Staff</td>\n",
       "      <td>Aamer Anger</td>\n",
       "      <td>2922231 days, 0:00:00</td>\n",
       "    </tr>\n",
       "    <tr>\n",
       "      <th>919636</th>\n",
       "      <td>44668</td>\n",
       "      <td>1998-03-16</td>\n",
       "      <td>2001-08-23</td>\n",
       "      <td>Senior Staff</td>\n",
       "      <td>Aamer Anger</td>\n",
       "      <td>1256 days, 0:00:00</td>\n",
       "    </tr>\n",
       "    <tr>\n",
       "      <th>919635</th>\n",
       "      <td>42617</td>\n",
       "      <td>1998-03-16</td>\n",
       "      <td>2000-08-23</td>\n",
       "      <td>Senior Staff</td>\n",
       "      <td>Aamer Anger</td>\n",
       "      <td>891 days, 0:00:00</td>\n",
       "    </tr>\n",
       "    <tr>\n",
       "      <th>919634</th>\n",
       "      <td>40000</td>\n",
       "      <td>1998-03-16</td>\n",
       "      <td>1999-08-24</td>\n",
       "      <td>Senior Staff</td>\n",
       "      <td>Aamer Anger</td>\n",
       "      <td>526 days, 0:00:00</td>\n",
       "    </tr>\n",
       "  </tbody>\n",
       "</table>\n",
       "<p>4638507 rows × 6 columns</p>\n",
       "</div>"
      ],
      "text/plain": [
       "         salary   hire_date     to_date            title       full_name  \\\n",
       "2286271   68012  1996-06-13  9999-01-01         Engineer  Zvonko Zuberek   \n",
       "2286278   68012  1996-06-13  9999-01-01  Senior Engineer  Zvonko Zuberek   \n",
       "2286270   65716  1996-06-13  2002-06-12         Engineer  Zvonko Zuberek   \n",
       "2286277   65716  1996-06-13  2002-06-12  Senior Engineer  Zvonko Zuberek   \n",
       "2286269   65026  1996-06-13  2001-06-12         Engineer  Zvonko Zuberek   \n",
       "...         ...         ...         ...              ...             ...   \n",
       "4433119   40000  1990-09-15  1991-09-15  Senior Engineer    Aamer Armand   \n",
       "919637    46662  1998-03-16  9999-01-01     Senior Staff     Aamer Anger   \n",
       "919636    44668  1998-03-16  2001-08-23     Senior Staff     Aamer Anger   \n",
       "919635    42617  1998-03-16  2000-08-23     Senior Staff     Aamer Anger   \n",
       "919634    40000  1998-03-16  1999-08-24     Senior Staff     Aamer Anger   \n",
       "\n",
       "                        tenure  \n",
       "2286271  2922872 days, 0:00:00  \n",
       "2286278  2922872 days, 0:00:00  \n",
       "2286270     2190 days, 0:00:00  \n",
       "2286277     2190 days, 0:00:00  \n",
       "2286269     1825 days, 0:00:00  \n",
       "...                        ...  \n",
       "4433119      365 days, 0:00:00  \n",
       "919637   2922231 days, 0:00:00  \n",
       "919636      1256 days, 0:00:00  \n",
       "919635       891 days, 0:00:00  \n",
       "919634       526 days, 0:00:00  \n",
       "\n",
       "[4638507 rows x 6 columns]"
      ]
     },
     "execution_count": 35,
     "metadata": {},
     "output_type": "execute_result"
    }
   ],
   "source": [
    "emp.sort_values(['full_name','to_date'],ascending=False)"
   ]
  },
  {
   "cell_type": "code",
   "execution_count": 39,
   "id": "98b95238",
   "metadata": {},
   "outputs": [
    {
     "data": {
      "text/plain": [
       "[<pandas.core.groupby.generic.DataFrameGroupBy object at 0x2dc86bdc0>]"
      ]
     },
     "execution_count": 39,
     "metadata": {},
     "output_type": "execute_result"
    }
   ],
   "source": [
    "[emp.sort_values(['full_name','to_date'],ascending=False).groupby(['full_name','to_date'])]"
   ]
  },
  {
   "cell_type": "code",
   "execution_count": null,
   "id": "31b94804",
   "metadata": {},
   "outputs": [],
   "source": []
  },
  {
   "cell_type": "code",
   "execution_count": null,
   "id": "92f1233c",
   "metadata": {},
   "outputs": [],
   "source": [
    "#Is there a relationship between how long an employee has been with the company and their salary?\n"
   ]
  },
  {
   "cell_type": "code",
   "execution_count": null,
   "id": "e9a16444",
   "metadata": {},
   "outputs": [],
   "source": [
    "#Is there a relationship between how long an employee has been with the company and the number of titles they have had?"
   ]
  },
  {
   "cell_type": "code",
   "execution_count": null,
   "id": "f3f50473",
   "metadata": {},
   "outputs": [],
   "source": []
  },
  {
   "cell_type": "code",
   "execution_count": 11,
   "id": "16990298",
   "metadata": {},
   "outputs": [
    {
     "data": {
      "text/html": [
       "<div>\n",
       "<style scoped>\n",
       "    .dataframe tbody tr th:only-of-type {\n",
       "        vertical-align: middle;\n",
       "    }\n",
       "\n",
       "    .dataframe tbody tr th {\n",
       "        vertical-align: top;\n",
       "    }\n",
       "\n",
       "    .dataframe thead th {\n",
       "        text-align: right;\n",
       "    }\n",
       "</style>\n",
       "<table border=\"1\" class=\"dataframe\">\n",
       "  <thead>\n",
       "    <tr style=\"text-align: right;\">\n",
       "      <th></th>\n",
       "      <th>Reaction</th>\n",
       "      <th>Days</th>\n",
       "      <th>Subject</th>\n",
       "    </tr>\n",
       "  </thead>\n",
       "  <tbody>\n",
       "    <tr>\n",
       "      <th>1</th>\n",
       "      <td>249.5600</td>\n",
       "      <td>0</td>\n",
       "      <td>308</td>\n",
       "    </tr>\n",
       "    <tr>\n",
       "      <th>2</th>\n",
       "      <td>258.7047</td>\n",
       "      <td>1</td>\n",
       "      <td>308</td>\n",
       "    </tr>\n",
       "    <tr>\n",
       "      <th>3</th>\n",
       "      <td>250.8006</td>\n",
       "      <td>2</td>\n",
       "      <td>308</td>\n",
       "    </tr>\n",
       "    <tr>\n",
       "      <th>4</th>\n",
       "      <td>321.4398</td>\n",
       "      <td>3</td>\n",
       "      <td>308</td>\n",
       "    </tr>\n",
       "    <tr>\n",
       "      <th>5</th>\n",
       "      <td>356.8519</td>\n",
       "      <td>4</td>\n",
       "      <td>308</td>\n",
       "    </tr>\n",
       "  </tbody>\n",
       "</table>\n",
       "</div>"
      ],
      "text/plain": [
       "   Reaction  Days  Subject\n",
       "1  249.5600     0      308\n",
       "2  258.7047     1      308\n",
       "3  250.8006     2      308\n",
       "4  321.4398     3      308\n",
       "5  356.8519     4      308"
      ]
     },
     "execution_count": 11,
     "metadata": {},
     "output_type": "execute_result"
    }
   ],
   "source": [
    "# 4. Use the sleepstudy data.\n",
    "from pydataset import data\n",
    "sleepy = data('sleepstudy')\n",
    "sleepy.head()\n"
   ]
  },
  {
   "cell_type": "code",
   "execution_count": 13,
   "id": "609eee49",
   "metadata": {},
   "outputs": [
    {
     "data": {
      "image/png": "[encoded data removed]",
      "text/plain": [
       "<Figure size 640x480 with 1 Axes>"
      ]
     },
     "metadata": {},
     "output_type": "display_data"
    }
   ],
   "source": [
    "#Is there a relationship between days and reaction time? there is a moderte corrolation\n",
    "r, p = stats.pearsonr(sleepy.Days, sleepy.Reaction)\n",
    "\n",
    "sleepy.plot.scatter('Days', 'Reaction')\n",
    "plt.title('Days vs Reaction')\n",
    "plt.text(8, 80, f'r = {r:.3f}')\n",
    "plt.show()"
   ]
  },
  {
   "cell_type": "code",
   "execution_count": 14,
   "id": "d2548d98",
   "metadata": {},
   "outputs": [
    {
     "data": {
      "text/plain": [
       "(0.5352302262650255, 9.89409632221439e-15)"
      ]
     },
     "execution_count": 14,
     "metadata": {},
     "output_type": "execute_result"
    }
   ],
   "source": [
    "r,p"
   ]
  },
  {
   "cell_type": "code",
   "execution_count": null,
   "id": "6e8bdb9f",
   "metadata": {},
   "outputs": [],
   "source": []
  }
 ],
 "metadata": {
  "kernelspec": {
   "display_name": "Python 3 (ipykernel)",
   "language": "python",
   "name": "python3"
  },
  "language_info": {
   "codemirror_mode": {
    "name": "ipython",
    "version": 3
   },
   "file_extension": ".py",
   "mimetype": "text/x-python",
   "name": "python",
   "nbconvert_exporter": "python",
   "pygments_lexer": "ipython3",
   "version": "3.9.13"
  }
 },
 "nbformat": 4,
 "nbformat_minor": 5
}
