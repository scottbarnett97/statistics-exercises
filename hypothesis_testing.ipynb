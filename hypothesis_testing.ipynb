{
 "cells": [
  {
   "cell_type": "markdown",
   "id": "df3cf5ea",
   "metadata": {},
   "source": [
    "# Exercises\n",
    "hypothesis_testing"
   ]
  },
  {
   "cell_type": "markdown",
   "id": "8a65a8b1",
   "metadata": {},
   "source": [
    "For each of the following questions, formulate a null and alternative hypothesis (be as specific as you can be), then give an example of what a true positive, true negative, type I and type II errors would look like. Note that some of the questions are intentionally phrased in a vague way. It is your job to reword these as more precise questions that could be tested."
   ]
  },
  {
   "cell_type": "markdown",
   "id": "aa46cce1",
   "metadata": {},
   "source": [
    "  1.Has the network latency gone up since we switched internet service providers?\n",
    "true negative == H0 is true and Ho is Accepted\n",
    "true positive == H0 is false and H0 is rejected\n",
    "False Positive == H0 is True but is rejected\n",
    "False Negative == H0 is false but is Accepted"
   ]
  },
  {
   "cell_type": "markdown",
   "id": "f8e3544f",
   "metadata": {},
   "source": [
    "Null: The network latency now is the same or lower than it was before we switched providers.\n",
    "\n",
    "Alternate:  The network latency is now higher than it was before we switched providers.\n",
    "\n",
    "\n",
    "True Negative: network latency is the same or lower than it was before we switched providers, H0 is Accepted\n",
    "True Positive: network latency is not the same or lower than it was before we switched providers, H0 not Accepted\n",
    "Type 1 Error (False Positive):network latency is the same or lower than it was before we switched providers, but rejected\n",
    "Type 2 Error (False Negative):network latency is not the same or lower than it was before we switched providers, but accepted"
   ]
  },
  {
   "cell_type": "markdown",
   "id": "a3f95770",
   "metadata": {},
   "source": [
    "2. Is the website redesign any good?\n"
   ]
  },
  {
   "cell_type": "markdown",
   "id": "55bfa100",
   "metadata": {},
   "source": [
    "Null: The website design is equal to or less \"good\" than it was before the redesign.\n",
    "\n",
    "Alternate:  The website design is better or 'more' \"good\" than it was before the redesign.\n",
    "\n",
    "\n",
    "True Negative:The website design is equal to or less \"good\" than it was before the redesign, and is accepted\n",
    "True Positive:The website design is not equal to or less \"good\" than it was before the redesign, and is rejected\n",
    "Type 1 Error (False Positive):The website design is equal to or less \"good\" than it was before the redesign, but is rejected\n",
    "Type 2 Error (False Negative):The website design is not equal to or less \"good\" than it was before the redesign, but is accepted"
   ]
  },
  {
   "cell_type": "markdown",
   "id": "dbb45f1f",
   "metadata": {},
   "source": [
    "3. Is our television ad driving more sales?\n"
   ]
  },
  {
   "cell_type": "markdown",
   "id": "811ec8ea",
   "metadata": {},
   "source": [
    "Null: Our sales are the same or lower than they were before the TV ads started.\n",
    "\n",
    "Alternate: Our sales are higher than than they were before the TV ads started.\n",
    "\n",
    "\n",
    "True Negative: Our sales are the same or lower than they were before the TV ads started, and is accepted\n",
    "True Positive: Our sales are NOT the same or lower than they were before the TV ads started, and H0 is rejected\n",
    "Type 1 Error (False Positive):Our sales are the same or lower than they were before the TV ads started, but is rejected\n",
    "Type 2 Error (False Negative):Our sales are NOT the same or lower than they were before the TV ads started, but H0 is accepted"
   ]
  },
  {
   "cell_type": "markdown",
   "id": "8c749582",
   "metadata": {},
   "source": [
    "# Exercises -- Comaparison of Means\n"
   ]
  },
  {
   "cell_type": "code",
   "execution_count": 1,
   "id": "f108c661",
   "metadata": {},
   "outputs": [],
   "source": [
    "import pandas as pd\n",
    "import matplotlib.pyplot as plt\n",
    "import scipy.stats as stats\n",
    "import seaborn as sns\n",
    "import numpy as np\n",
    "import env"
   ]
  },
  {
   "cell_type": "code",
   "execution_count": 2,
   "id": "51561496",
   "metadata": {},
   "outputs": [],
   "source": [
    "#1. Answer with the type of test you would use (assume normal distribution):"
   ]
  },
  {
   "cell_type": "code",
   "execution_count": 3,
   "id": "a078bc6e",
   "metadata": {},
   "outputs": [],
   "source": [
    "#    Is there a difference in grades of students on the second floor compared to grades of all students?\n",
    "#      One sample t-test, 2 tails"
   ]
  },
  {
   "cell_type": "code",
   "execution_count": 4,
   "id": "bd290279",
   "metadata": {},
   "outputs": [],
   "source": [
    "#    Are adults who drink milk taller than adults who dont drink milk?\n",
    "#      Independent t-test (or 2-sample), 1 tail"
   ]
  },
  {
   "cell_type": "code",
   "execution_count": 5,
   "id": "e7dc94f6",
   "metadata": {},
   "outputs": [],
   "source": [
    "#    Is the the price of gas higher in texas or in new mexico?\n",
    "#         Independent t-test (or 2-sample), 1 tail"
   ]
  },
  {
   "cell_type": "code",
   "execution_count": 6,
   "id": "e9720975",
   "metadata": {},
   "outputs": [],
   "source": [
    "#    Are there differences in stress levels between students who take data science vs students who take\n",
    "#        web development vs students who take cloud academy?\n",
    "#         ANOVA, 2 tails"
   ]
  },
  {
   "cell_type": "code",
   "execution_count": 7,
   "id": "7db046b7",
   "metadata": {},
   "outputs": [],
   "source": [
    "# 2. Ace Realty wants to determine whether the average time it takes to sell homes is different for its two offices. \n",
    "#    A sample of 40 sales from office #1 revealed a mean of 90 days and a standard deviation of 15 days. \n",
    "#    A sample of 50 sales from office #2 revealed a mean of 100 days and a standard deviation of 20 days.\n",
    "#    Use a .05 level of significance.'''"
   ]
  },
  {
   "cell_type": "code",
   "execution_count": 8,
   "id": "1dc5e8b4",
   "metadata": {},
   "outputs": [
    {
     "name": "stdout",
     "output_type": "stream",
     "text": [
      "Reject the null hypothesis, There is a differnce between home sales of the two offices\n",
      "t = -3.2583006829737267\n",
      "p = 0.0015938255133617122\n"
     ]
    }
   ],
   "source": [
    "# Create the Null Hypothisis\n",
    "# H0= There is no difference between home sales times for office 1 and office 2.\n",
    "# HA= There is a differnce between home sales times for office 1 and office 2.\n",
    "np.random.seed(123)\n",
    "# Create data frames for the two samples\n",
    "office1 = pd.DataFrame({'time': np.random.normal(90, 15, 40)})\n",
    "office2 = pd.DataFrame({'time': np.random.normal(100, 20, 50)})\n",
    "# Compute the two-sample t-test\n",
    "t, p = stats.ttest_ind(office1['time'], office2['time'], equal_var=False)\n",
    "\n",
    "# Set the level of significance\n",
    "alpha = 0.05\n",
    "\n",
    "# Determine whether to reject the null hypothesis\n",
    "if p < alpha:\n",
    "    print('Reject the null hypothesis, There is a differnce between home sales of the two offices')\n",
    "else:\n",
    "    print('Fail to reject the null hypothesis')\n",
    "\n",
    "# Print the test statistic and p-value\n",
    "#print(office1)\n",
    "#print(office2)\n",
    "\n",
    "print('t =', t)\n",
    "print('p =', p)\n"
   ]
  },
  {
   "cell_type": "code",
   "execution_count": 9,
   "id": "ef857c45",
   "metadata": {},
   "outputs": [
    {
     "data": {
      "text/html": [
       "<div>\n",
       "<style scoped>\n",
       "    .dataframe tbody tr th:only-of-type {\n",
       "        vertical-align: middle;\n",
       "    }\n",
       "\n",
       "    .dataframe tbody tr th {\n",
       "        vertical-align: top;\n",
       "    }\n",
       "\n",
       "    .dataframe thead th {\n",
       "        text-align: right;\n",
       "    }\n",
       "</style>\n",
       "<table border=\"1\" class=\"dataframe\">\n",
       "  <thead>\n",
       "    <tr style=\"text-align: right;\">\n",
       "      <th></th>\n",
       "      <th>manufacturer</th>\n",
       "      <th>model</th>\n",
       "      <th>displ</th>\n",
       "      <th>year</th>\n",
       "      <th>cyl</th>\n",
       "      <th>trans</th>\n",
       "      <th>drv</th>\n",
       "      <th>city</th>\n",
       "      <th>highway</th>\n",
       "      <th>fl</th>\n",
       "      <th>class</th>\n",
       "      <th>average_mileage</th>\n",
       "    </tr>\n",
       "  </thead>\n",
       "  <tbody>\n",
       "    <tr>\n",
       "      <th>count</th>\n",
       "      <td>234</td>\n",
       "      <td>234</td>\n",
       "      <td>234.000000</td>\n",
       "      <td>234.000000</td>\n",
       "      <td>234.000000</td>\n",
       "      <td>234</td>\n",
       "      <td>234</td>\n",
       "      <td>234.000000</td>\n",
       "      <td>234.000000</td>\n",
       "      <td>234</td>\n",
       "      <td>234</td>\n",
       "      <td>234.000000</td>\n",
       "    </tr>\n",
       "    <tr>\n",
       "      <th>unique</th>\n",
       "      <td>15</td>\n",
       "      <td>38</td>\n",
       "      <td>NaN</td>\n",
       "      <td>NaN</td>\n",
       "      <td>NaN</td>\n",
       "      <td>10</td>\n",
       "      <td>3</td>\n",
       "      <td>NaN</td>\n",
       "      <td>NaN</td>\n",
       "      <td>5</td>\n",
       "      <td>7</td>\n",
       "      <td>NaN</td>\n",
       "    </tr>\n",
       "    <tr>\n",
       "      <th>top</th>\n",
       "      <td>dodge</td>\n",
       "      <td>caravan 2wd</td>\n",
       "      <td>NaN</td>\n",
       "      <td>NaN</td>\n",
       "      <td>NaN</td>\n",
       "      <td>auto(l4)</td>\n",
       "      <td>f</td>\n",
       "      <td>NaN</td>\n",
       "      <td>NaN</td>\n",
       "      <td>r</td>\n",
       "      <td>suv</td>\n",
       "      <td>NaN</td>\n",
       "    </tr>\n",
       "    <tr>\n",
       "      <th>freq</th>\n",
       "      <td>37</td>\n",
       "      <td>11</td>\n",
       "      <td>NaN</td>\n",
       "      <td>NaN</td>\n",
       "      <td>NaN</td>\n",
       "      <td>83</td>\n",
       "      <td>106</td>\n",
       "      <td>NaN</td>\n",
       "      <td>NaN</td>\n",
       "      <td>168</td>\n",
       "      <td>62</td>\n",
       "      <td>NaN</td>\n",
       "    </tr>\n",
       "    <tr>\n",
       "      <th>mean</th>\n",
       "      <td>NaN</td>\n",
       "      <td>NaN</td>\n",
       "      <td>3.471795</td>\n",
       "      <td>2003.500000</td>\n",
       "      <td>5.888889</td>\n",
       "      <td>NaN</td>\n",
       "      <td>NaN</td>\n",
       "      <td>16.858974</td>\n",
       "      <td>23.440171</td>\n",
       "      <td>NaN</td>\n",
       "      <td>NaN</td>\n",
       "      <td>20.149573</td>\n",
       "    </tr>\n",
       "    <tr>\n",
       "      <th>std</th>\n",
       "      <td>NaN</td>\n",
       "      <td>NaN</td>\n",
       "      <td>1.291959</td>\n",
       "      <td>4.509646</td>\n",
       "      <td>1.611534</td>\n",
       "      <td>NaN</td>\n",
       "      <td>NaN</td>\n",
       "      <td>4.255946</td>\n",
       "      <td>5.954643</td>\n",
       "      <td>NaN</td>\n",
       "      <td>NaN</td>\n",
       "      <td>5.050290</td>\n",
       "    </tr>\n",
       "    <tr>\n",
       "      <th>min</th>\n",
       "      <td>NaN</td>\n",
       "      <td>NaN</td>\n",
       "      <td>1.600000</td>\n",
       "      <td>1999.000000</td>\n",
       "      <td>4.000000</td>\n",
       "      <td>NaN</td>\n",
       "      <td>NaN</td>\n",
       "      <td>9.000000</td>\n",
       "      <td>12.000000</td>\n",
       "      <td>NaN</td>\n",
       "      <td>NaN</td>\n",
       "      <td>10.500000</td>\n",
       "    </tr>\n",
       "    <tr>\n",
       "      <th>25%</th>\n",
       "      <td>NaN</td>\n",
       "      <td>NaN</td>\n",
       "      <td>2.400000</td>\n",
       "      <td>1999.000000</td>\n",
       "      <td>4.000000</td>\n",
       "      <td>NaN</td>\n",
       "      <td>NaN</td>\n",
       "      <td>14.000000</td>\n",
       "      <td>18.000000</td>\n",
       "      <td>NaN</td>\n",
       "      <td>NaN</td>\n",
       "      <td>15.500000</td>\n",
       "    </tr>\n",
       "    <tr>\n",
       "      <th>50%</th>\n",
       "      <td>NaN</td>\n",
       "      <td>NaN</td>\n",
       "      <td>3.300000</td>\n",
       "      <td>2003.500000</td>\n",
       "      <td>6.000000</td>\n",
       "      <td>NaN</td>\n",
       "      <td>NaN</td>\n",
       "      <td>17.000000</td>\n",
       "      <td>24.000000</td>\n",
       "      <td>NaN</td>\n",
       "      <td>NaN</td>\n",
       "      <td>20.500000</td>\n",
       "    </tr>\n",
       "    <tr>\n",
       "      <th>75%</th>\n",
       "      <td>NaN</td>\n",
       "      <td>NaN</td>\n",
       "      <td>4.600000</td>\n",
       "      <td>2008.000000</td>\n",
       "      <td>8.000000</td>\n",
       "      <td>NaN</td>\n",
       "      <td>NaN</td>\n",
       "      <td>19.000000</td>\n",
       "      <td>27.000000</td>\n",
       "      <td>NaN</td>\n",
       "      <td>NaN</td>\n",
       "      <td>23.500000</td>\n",
       "    </tr>\n",
       "    <tr>\n",
       "      <th>max</th>\n",
       "      <td>NaN</td>\n",
       "      <td>NaN</td>\n",
       "      <td>7.000000</td>\n",
       "      <td>2008.000000</td>\n",
       "      <td>8.000000</td>\n",
       "      <td>NaN</td>\n",
       "      <td>NaN</td>\n",
       "      <td>35.000000</td>\n",
       "      <td>44.000000</td>\n",
       "      <td>NaN</td>\n",
       "      <td>NaN</td>\n",
       "      <td>39.500000</td>\n",
       "    </tr>\n",
       "  </tbody>\n",
       "</table>\n",
       "</div>"
      ],
      "text/plain": [
       "       manufacturer        model       displ         year         cyl  \\\n",
       "count           234          234  234.000000   234.000000  234.000000   \n",
       "unique           15           38         NaN          NaN         NaN   \n",
       "top           dodge  caravan 2wd         NaN          NaN         NaN   \n",
       "freq             37           11         NaN          NaN         NaN   \n",
       "mean            NaN          NaN    3.471795  2003.500000    5.888889   \n",
       "std             NaN          NaN    1.291959     4.509646    1.611534   \n",
       "min             NaN          NaN    1.600000  1999.000000    4.000000   \n",
       "25%             NaN          NaN    2.400000  1999.000000    4.000000   \n",
       "50%             NaN          NaN    3.300000  2003.500000    6.000000   \n",
       "75%             NaN          NaN    4.600000  2008.000000    8.000000   \n",
       "max             NaN          NaN    7.000000  2008.000000    8.000000   \n",
       "\n",
       "           trans  drv        city     highway   fl class  average_mileage  \n",
       "count        234  234  234.000000  234.000000  234   234       234.000000  \n",
       "unique        10    3         NaN         NaN    5     7              NaN  \n",
       "top     auto(l4)    f         NaN         NaN    r   suv              NaN  \n",
       "freq          83  106         NaN         NaN  168    62              NaN  \n",
       "mean         NaN  NaN   16.858974   23.440171  NaN   NaN        20.149573  \n",
       "std          NaN  NaN    4.255946    5.954643  NaN   NaN         5.050290  \n",
       "min          NaN  NaN    9.000000   12.000000  NaN   NaN        10.500000  \n",
       "25%          NaN  NaN   14.000000   18.000000  NaN   NaN        15.500000  \n",
       "50%          NaN  NaN   17.000000   24.000000  NaN   NaN        20.500000  \n",
       "75%          NaN  NaN   19.000000   27.000000  NaN   NaN        23.500000  \n",
       "max          NaN  NaN   35.000000   44.000000  NaN   NaN        39.500000  "
      ]
     },
     "execution_count": 9,
     "metadata": {},
     "output_type": "execute_result"
    }
   ],
   "source": [
    "# 3. Load the mpg dataset and use it to answer the following questions:\n",
    "from pydataset import data\n",
    "mpg = data('mpg')\n",
    "mpg =mpg.rename(columns={'hwy': 'highway','cty':'city'})\n",
    "mpg['average_mileage'] = mpg[['city','highway']].mean(axis=1)\n",
    "mpg.head()\n",
    "mpg.describe(include='all')\n"
   ]
  },
  {
   "cell_type": "code",
   "execution_count": 10,
   "id": "377378de",
   "metadata": {},
   "outputs": [
    {
     "ename": "NameError",
     "evalue": "name 'mpg_2008' is not defined",
     "output_type": "error",
     "traceback": [
      "\u001b[0;31m---------------------------------------------------------------------------\u001b[0m",
      "\u001b[0;31mNameError\u001b[0m                                 Traceback (most recent call last)",
      "Input \u001b[0;32mIn [10]\u001b[0m, in \u001b[0;36m<cell line: 5>\u001b[0;34m()\u001b[0m\n\u001b[1;32m      1\u001b[0m \u001b[38;5;66;03m#     Is there a difference in fuel-efficiency in cars from 2008 vs 1999?\u001b[39;00m\n\u001b[1;32m      2\u001b[0m \u001b[38;5;66;03m#Define the hypothisis\u001b[39;00m\n\u001b[1;32m      3\u001b[0m \u001b[38;5;66;03m# H0= There is no difference in fuel-efficiency in cars from 2008 vs 1999.\u001b[39;00m\n\u001b[1;32m      4\u001b[0m \u001b[38;5;66;03m# HA= There is a differnce in fuel-efficiency in cars from 2008 vs 1999.\u001b[39;00m\n\u001b[0;32m----> 5\u001b[0m \u001b[38;5;28mprint\u001b[39m(\u001b[43mmpg_2008\u001b[49m\u001b[38;5;241m.\u001b[39maverage_mileage\u001b[38;5;241m.\u001b[39mmean())\n\u001b[1;32m      6\u001b[0m \u001b[38;5;28mprint\u001b[39m(mpg_1999\u001b[38;5;241m.\u001b[39maverage_mileage\u001b[38;5;241m.\u001b[39mmean())\n",
      "\u001b[0;31mNameError\u001b[0m: name 'mpg_2008' is not defined"
     ]
    }
   ],
   "source": [
    "#     Is there a difference in fuel-efficiency in cars from 2008 vs 1999?\n",
    "#Define the hypothisis\n",
    "# H0= There is no difference in fuel-efficiency in cars from 2008 vs 1999.\n",
    "# HA= There is a differnce in fuel-efficiency in cars from 2008 vs 1999.\n",
    "print(mpg_2008.average_mileage.mean())\n",
    "print(mpg_1999.average_mileage.mean())"
   ]
  },
  {
   "cell_type": "code",
   "execution_count": null,
   "id": "1a19df02",
   "metadata": {},
   "outputs": [],
   "source": [
    "# Create data frames for the two samples (2008 and 1999)\n",
    "mpg_2008 = mpg[mpg['year'] == 2008]\n",
    "mpg_1999 = mpg[mpg['year'] == 1999]\n",
    "# Set the level of significance\n",
    "alpha = 0.05\n"
   ]
  },
  {
   "cell_type": "code",
   "execution_count": null,
   "id": "cd32c81a",
   "metadata": {},
   "outputs": [],
   "source": [
    "# Perform the two-sample t-test\n",
    "\n",
    "t, p = stats.ttest_ind(mpg_2008['average_mileage'], mpg_1999['average_mileage'], equal_var=False)\n",
    "print(t,p)\n",
    "\n",
    "# Determine whether to reject the null hypothesis\n",
    "if p < alpha:\n",
    "    print('Reject the null hypothesis. \\nThere is a differnce in fuel-efficiency in cars from 2008 vs 1999')\n",
    "else:\n",
    "    print('Fail to reject the null hypothesis. \\nThere is no  differnce in fuel-efficiency in cars from 2008 vs 1999')"
   ]
  },
  {
   "cell_type": "code",
   "execution_count": null,
   "id": "40a75f23",
   "metadata": {},
   "outputs": [],
   "source": [
    "#     Are compact cars more fuel-efficient than the average car?\n",
    "#Form Hypothisis\n",
    "# H0 = The fuel effeciency of compact cars is not greater than the fuel effeciency of the average car. \n",
    "# HA = The fuel effeciency of compact cars is greater than the fuel effeciency of the average car. \n"
   ]
  },
  {
   "cell_type": "code",
   "execution_count": null,
   "id": "8b9d5a04",
   "metadata": {},
   "outputs": [],
   "source": [
    "# Create data frames for compact cars and all cars\n",
    "\n",
    "mpg_compact = mpg[mpg['class'] == 'compact']\n",
    "mpg_all = mpg\n",
    "# Set the level of significance\n",
    "alpha = 0.05"
   ]
  },
  {
   "cell_type": "code",
   "execution_count": null,
   "id": "9d5225af",
   "metadata": {},
   "outputs": [],
   "source": [
    "# Perform one-sample t-test for compact cars against the population mean\n",
    "t, p = stats.ttest_1samp(mpg_compact['average_mileage'], mpg_all['average_mileage'].mean())\n",
    "print(t,p/2)\n",
    "# Determine whether to reject the null hypothesis\n",
    "if (t > 0) and (p/2 < alpha):\n",
    "    print('Reject the null hypothesis. \\nCompact cars are more fuel efficent than the average car')\n",
    "else:\n",
    "    print('Fail to reject the null hypothesis. \\nCompact cars are not more fuel efficent than the average car')"
   ]
  },
  {
   "cell_type": "code",
   "execution_count": null,
   "id": "58c16e27",
   "metadata": {},
   "outputs": [],
   "source": [
    "#     Do manual cars get better gas mileage than automatic cars?\n",
    "#Form Hypothisis\n",
    "# H0 = The fuel efficincy of manual cars is not greater than the fuel efficency of automatic cars.\n",
    "# HA = The fuel efficincy of manual cars is greater than the fuel efficency of automatic cars.\n",
    "mpg['trans'] = mpg['trans'].str.lower().str.replace('^auto.*', 'auto')\n",
    "mpg['trans'] = mpg['trans'].str.lower().str.replace('^manual.*', 'manual')\n"
   ]
  },
  {
   "cell_type": "code",
   "execution_count": null,
   "id": "68b4ec4e",
   "metadata": {},
   "outputs": [],
   "source": [
    "# Create data frames for manual cars and automatic cars\n",
    "mpg_manual = mpg[mpg['trans'] == 'manual']\n",
    "mpg_automatic = mpg[mpg['trans'] == 'auto']\n",
    "# Set the level of significance\n",
    "alpha = 0.05\n",
    "print(mpg_automatic.average_mileage.mean())\n",
    "print(mpg_manual.average_mileage.mean())"
   ]
  },
  {
   "cell_type": "code",
   "execution_count": null,
   "id": "edfe63eb",
   "metadata": {},
   "outputs": [],
   "source": []
  },
  {
   "cell_type": "code",
   "execution_count": null,
   "id": "16c170c7",
   "metadata": {},
   "outputs": [],
   "source": [
    "stats.levene(mpg_automatic.average_mileage,mpg_manual.average_mileage)"
   ]
  },
  {
   "cell_type": "code",
   "execution_count": null,
   "id": "fb0f68cc",
   "metadata": {},
   "outputs": [],
   "source": []
  },
  {
   "cell_type": "code",
   "execution_count": null,
   "id": "40b730b1",
   "metadata": {},
   "outputs": [],
   "source": [
    "# run the independent or  two-sample t-test\n",
    "t, p = stats.ttest_ind(mpg_manual['average_mileage'], mpg_automatic['average_mileage'], equal_var=False)\n",
    "print(t,p/2)"
   ]
  },
  {
   "cell_type": "code",
   "execution_count": null,
   "id": "a5fd6474",
   "metadata": {},
   "outputs": [],
   "source": [
    "# Determine whether to reject the null hypothesis\n",
    "if (t > 0) and (p/2 < alpha):\n",
    "    print('Reject the null hypothesis. \\nmanual cars are more fuel efficent than the automatic car')\n",
    "else:\n",
    "    print('Fail to reject the null hypothesis. \\nManual cars are not more fuel efficent than the automatic car')"
   ]
  },
  {
   "cell_type": "code",
   "execution_count": null,
   "id": "61481b0b",
   "metadata": {},
   "outputs": [],
   "source": []
  },
  {
   "cell_type": "code",
   "execution_count": null,
   "id": "32588709",
   "metadata": {},
   "outputs": [],
   "source": []
  },
  {
   "cell_type": "code",
   "execution_count": null,
   "id": "af4368ae",
   "metadata": {},
   "outputs": [],
   "source": []
  },
  {
   "cell_type": "code",
   "execution_count": null,
   "id": "5ec1e564",
   "metadata": {},
   "outputs": [],
   "source": []
  },
  {
   "cell_type": "markdown",
   "id": "fc48713e",
   "metadata": {},
   "source": [
    "# Correlation Exercises\n"
   ]
  },
  {
   "cell_type": "code",
   "execution_count": null,
   "id": "60a593b4",
   "metadata": {},
   "outputs": [],
   "source": [
    "import pandas as pd\n",
    "import numpy as np\n",
    "import matplotlib.pyplot as plt\n",
    "import seaborn as sns\n",
    "\n",
    "from math import sqrt\n",
    "\n",
    "from scipy import stats\n",
    "from pydataset import data\n",
    "\n",
    "\n"
   ]
  },
  {
   "cell_type": "code",
   "execution_count": null,
   "id": "1ddb7498",
   "metadata": {},
   "outputs": [],
   "source": [
    "# 1.\n",
    "#Answer with the type of stats test you would use (assume normal distribution):\n",
    "#Is there a relationship between the length of your arm and the length of your foot? pearson r\n",
    "#Do guys and gals quit their jobs at the same rate? T-test\n",
    "#Does the length of time of the lecture correlate with a students grade? pearson r or spearson rho"
   ]
  },
  {
   "cell_type": "code",
   "execution_count": 43,
   "id": "fedec887",
   "metadata": {},
   "outputs": [],
   "source": [
    "# 2. Use the telco_churn data.\n",
    "def get_db_url(database):\n",
    "    from env import host, user, password\n",
    "    return f'mysql+pymysql://{user}:{password}@{host}/{database}'\n",
    "url = get_db_url('telco_churn')\n",
    "query = '''\n",
    "select customer_id, monthly_charges,case when total_charges = '' then 0 else total_charges end as total_charges,phone_service,internet_service_type,tenure\n",
    "from customers\n",
    "join internet_service_types using (internet_service_type_id)\n",
    "'''\n",
    "telco=pd.read_sql(query,url)\n"
   ]
  },
  {
   "cell_type": "code",
   "execution_count": 44,
   "id": "e0bec474",
   "metadata": {},
   "outputs": [
    {
     "name": "stdout",
     "output_type": "stream",
     "text": [
      "<class 'pandas.core.frame.DataFrame'>\n",
      "RangeIndex: 7043 entries, 0 to 7042\n",
      "Data columns (total 6 columns):\n",
      " #   Column                 Non-Null Count  Dtype  \n",
      "---  ------                 --------------  -----  \n",
      " 0   customer_id            7043 non-null   object \n",
      " 1   monthly_charges        7043 non-null   float64\n",
      " 2   total_charges          7043 non-null   object \n",
      " 3   phone_service          7043 non-null   object \n",
      " 4   internet_service_type  7043 non-null   object \n",
      " 5   tenure                 7043 non-null   int64  \n",
      "dtypes: float64(1), int64(1), object(4)\n",
      "memory usage: 330.3+ KB\n"
     ]
    }
   ],
   "source": [
    "telco.info()"
   ]
  },
  {
   "cell_type": "code",
   "execution_count": 45,
   "id": "601f7ba0",
   "metadata": {},
   "outputs": [
    {
     "data": {
      "text/html": [
       "<div>\n",
       "<style scoped>\n",
       "    .dataframe tbody tr th:only-of-type {\n",
       "        vertical-align: middle;\n",
       "    }\n",
       "\n",
       "    .dataframe tbody tr th {\n",
       "        vertical-align: top;\n",
       "    }\n",
       "\n",
       "    .dataframe thead th {\n",
       "        text-align: right;\n",
       "    }\n",
       "</style>\n",
       "<table border=\"1\" class=\"dataframe\">\n",
       "  <thead>\n",
       "    <tr style=\"text-align: right;\">\n",
       "      <th></th>\n",
       "      <th>customer_id</th>\n",
       "      <th>monthly_charges</th>\n",
       "      <th>total_charges</th>\n",
       "      <th>phone_service</th>\n",
       "      <th>internet_service_type</th>\n",
       "      <th>tenure</th>\n",
       "    </tr>\n",
       "  </thead>\n",
       "  <tbody>\n",
       "    <tr>\n",
       "      <th>2855</th>\n",
       "      <td>4075-WKNIU</td>\n",
       "      <td>73.35</td>\n",
       "      <td>0</td>\n",
       "      <td>Yes</td>\n",
       "      <td>DSL</td>\n",
       "      <td>0</td>\n",
       "    </tr>\n",
       "    <tr>\n",
       "      <th>3118</th>\n",
       "      <td>4472-LVYGI</td>\n",
       "      <td>52.55</td>\n",
       "      <td>0</td>\n",
       "      <td>No</td>\n",
       "      <td>DSL</td>\n",
       "      <td>0</td>\n",
       "    </tr>\n",
       "    <tr>\n",
       "      <th>3052</th>\n",
       "      <td>4367-NUYAO</td>\n",
       "      <td>25.75</td>\n",
       "      <td>0</td>\n",
       "      <td>Yes</td>\n",
       "      <td>None</td>\n",
       "      <td>0</td>\n",
       "    </tr>\n",
       "    <tr>\n",
       "      <th>5433</th>\n",
       "      <td>7644-OMVMY</td>\n",
       "      <td>19.85</td>\n",
       "      <td>0</td>\n",
       "      <td>Yes</td>\n",
       "      <td>None</td>\n",
       "      <td>0</td>\n",
       "    </tr>\n",
       "    <tr>\n",
       "      <th>1731</th>\n",
       "      <td>2520-SGTTA</td>\n",
       "      <td>20.00</td>\n",
       "      <td>0</td>\n",
       "      <td>Yes</td>\n",
       "      <td>None</td>\n",
       "      <td>0</td>\n",
       "    </tr>\n",
       "    <tr>\n",
       "      <th>...</th>\n",
       "      <td>...</td>\n",
       "      <td>...</td>\n",
       "      <td>...</td>\n",
       "      <td>...</td>\n",
       "      <td>...</td>\n",
       "      <td>...</td>\n",
       "    </tr>\n",
       "    <tr>\n",
       "      <th>5868</th>\n",
       "      <td>8249-THVEC</td>\n",
       "      <td>19.40</td>\n",
       "      <td>997.75</td>\n",
       "      <td>Yes</td>\n",
       "      <td>None</td>\n",
       "      <td>51</td>\n",
       "    </tr>\n",
       "    <tr>\n",
       "      <th>4298</th>\n",
       "      <td>6051-PTVNS</td>\n",
       "      <td>19.15</td>\n",
       "      <td>998.1</td>\n",
       "      <td>Yes</td>\n",
       "      <td>None</td>\n",
       "      <td>55</td>\n",
       "    </tr>\n",
       "    <tr>\n",
       "      <th>4173</th>\n",
       "      <td>5899-MQZZL</td>\n",
       "      <td>75.00</td>\n",
       "      <td>999.45</td>\n",
       "      <td>Yes</td>\n",
       "      <td>Fiber optic</td>\n",
       "      <td>13</td>\n",
       "    </tr>\n",
       "    <tr>\n",
       "      <th>3162</th>\n",
       "      <td>4536-PLEQY</td>\n",
       "      <td>85.05</td>\n",
       "      <td>999.8</td>\n",
       "      <td>Yes</td>\n",
       "      <td>Fiber optic</td>\n",
       "      <td>12</td>\n",
       "    </tr>\n",
       "    <tr>\n",
       "      <th>6421</th>\n",
       "      <td>9093-FPDLG</td>\n",
       "      <td>94.20</td>\n",
       "      <td>999.9</td>\n",
       "      <td>Yes</td>\n",
       "      <td>Fiber optic</td>\n",
       "      <td>11</td>\n",
       "    </tr>\n",
       "  </tbody>\n",
       "</table>\n",
       "<p>7043 rows × 6 columns</p>\n",
       "</div>"
      ],
      "text/plain": [
       "     customer_id  monthly_charges total_charges phone_service  \\\n",
       "2855  4075-WKNIU            73.35             0           Yes   \n",
       "3118  4472-LVYGI            52.55             0            No   \n",
       "3052  4367-NUYAO            25.75             0           Yes   \n",
       "5433  7644-OMVMY            19.85             0           Yes   \n",
       "1731  2520-SGTTA            20.00             0           Yes   \n",
       "...          ...              ...           ...           ...   \n",
       "5868  8249-THVEC            19.40        997.75           Yes   \n",
       "4298  6051-PTVNS            19.15         998.1           Yes   \n",
       "4173  5899-MQZZL            75.00        999.45           Yes   \n",
       "3162  4536-PLEQY            85.05         999.8           Yes   \n",
       "6421  9093-FPDLG            94.20         999.9           Yes   \n",
       "\n",
       "     internet_service_type  tenure  \n",
       "2855                   DSL       0  \n",
       "3118                   DSL       0  \n",
       "3052                  None       0  \n",
       "5433                  None       0  \n",
       "1731                  None       0  \n",
       "...                    ...     ...  \n",
       "5868                  None      51  \n",
       "4298                  None      55  \n",
       "4173           Fiber optic      13  \n",
       "3162           Fiber optic      12  \n",
       "6421           Fiber optic      11  \n",
       "\n",
       "[7043 rows x 6 columns]"
      ]
     },
     "execution_count": 45,
     "metadata": {},
     "output_type": "execute_result"
    }
   ],
   "source": [
    "telco.sort_values('total_charges')"
   ]
  },
  {
   "cell_type": "code",
   "execution_count": 46,
   "id": "2c85db9c",
   "metadata": {},
   "outputs": [],
   "source": [
    "telco['total_charges']=telco['total_charges'].astype(float)"
   ]
  },
  {
   "cell_type": "code",
   "execution_count": 47,
   "id": "502be643",
   "metadata": {},
   "outputs": [
    {
     "name": "stdout",
     "output_type": "stream",
     "text": [
      "<class 'pandas.core.frame.DataFrame'>\n",
      "RangeIndex: 7043 entries, 0 to 7042\n",
      "Data columns (total 6 columns):\n",
      " #   Column                 Non-Null Count  Dtype  \n",
      "---  ------                 --------------  -----  \n",
      " 0   customer_id            7043 non-null   object \n",
      " 1   monthly_charges        7043 non-null   float64\n",
      " 2   total_charges          7043 non-null   float64\n",
      " 3   phone_service          7043 non-null   object \n",
      " 4   internet_service_type  7043 non-null   object \n",
      " 5   tenure                 7043 non-null   int64  \n",
      "dtypes: float64(2), int64(1), object(3)\n",
      "memory usage: 330.3+ KB\n"
     ]
    }
   ],
   "source": [
    "telco.info()"
   ]
  },
  {
   "cell_type": "code",
   "execution_count": 48,
   "id": "9291d812",
   "metadata": {},
   "outputs": [],
   "source": [
    "#Does tenure correlate with monthly charges? yes, a weak one"
   ]
  },
  {
   "cell_type": "markdown",
   "id": "50f70579",
   "metadata": {},
   "source": [
    "$H_0$ : There is no relationship between tenure and monthly charges\n",
    "$H_A$ : There is a relationship between tenure and monthly charges"
   ]
  },
  {
   "cell_type": "code",
   "execution_count": 49,
   "id": "bd5cd569",
   "metadata": {},
   "outputs": [
    {
     "data": {
      "image/png": "[encoded data removed]",
      "text/plain": [
       "<Figure size 640x480 with 1 Axes>"
      ]
     },
     "metadata": {},
     "output_type": "display_data"
    }
   ],
   "source": [
    "r, p = stats.pearsonr(telco.tenure, telco.monthly_charges)\n",
    "\n",
    "telco.plot.scatter('tenure', 'monthly_charges')\n",
    "plt.title('tenure vs monthly_charges')\n",
    "plt.text(8, 80, f'r = {r:.3f}')\n",
    "plt.show()"
   ]
  },
  {
   "cell_type": "code",
   "execution_count": 52,
   "id": "42b4f86f",
   "metadata": {},
   "outputs": [
    {
     "data": {
      "text/plain": [
       "(0.24789985628615246, 4.094044991483017e-99)"
      ]
     },
     "execution_count": 52,
     "metadata": {},
     "output_type": "execute_result"
    }
   ],
   "source": [
    "r, p = stats.pearsonr(telco.tenure, telco.monthly_charges)\n",
    "r,p"
   ]
  },
  {
   "cell_type": "code",
   "execution_count": 51,
   "id": "174ca940",
   "metadata": {},
   "outputs": [
    {
     "data": {
      "text/plain": [
       "<AxesSubplot:>"
      ]
     },
     "execution_count": 51,
     "metadata": {},
     "output_type": "execute_result"
    },
    {
     "data": {
      "image/png": "[encoded data removed]",
      "text/plain": [
       "<Figure size 640x480 with 1 Axes>"
      ]
     },
     "metadata": {},
     "output_type": "display_data"
    }
   ],
   "source": [
    "telco.monthly_charges.hist()\n",
    "telco.tenure.hist()"
   ]
  },
  {
   "cell_type": "code",
   "execution_count": 54,
   "id": "73f02b5e",
   "metadata": {},
   "outputs": [
    {
     "data": {
      "image/png": "[encoded data removed]",
      "text/plain": [
       "<Figure size 640x480 with 1 Axes>"
      ]
     },
     "metadata": {},
     "output_type": "display_data"
    }
   ],
   "source": [
    "#Total charges? yes\n",
    "r, p = stats.pearsonr(telco.tenure, telco.total_charges)\n",
    "\n",
    "telco.plot.scatter('tenure', 'total_charges')\n",
    "plt.title('tenure vs total_charges')\n",
    "plt.text(8, 80, f'r = {r:.3f}')\n",
    "plt.show()\n",
    "\n"
   ]
  },
  {
   "cell_type": "code",
   "execution_count": 55,
   "id": "863689a5",
   "metadata": {},
   "outputs": [
    {
     "name": "stdout",
     "output_type": "stream",
     "text": [
      "Correlation coefficient: 0.83\n",
      "P-value: 0.00\n"
     ]
    }
   ],
   "source": [
    "r, p = stats.pearsonr(telco.tenure, telco.total_charges)\n",
    "print(f\"Correlation coefficient: {r:.2f}\")\n",
    "\n",
    "print(f\"P-value: {p:.2f}\")"
   ]
  },
  {
   "cell_type": "code",
   "execution_count": null,
   "id": "1a835db5",
   "metadata": {},
   "outputs": [],
   "source": [
    "#What happens if you control for phone and internet service?they all have an even stronger corrolation compared to total charges on its own"
   ]
  },
  {
   "cell_type": "code",
   "execution_count": 56,
   "id": "424f6f39",
   "metadata": {},
   "outputs": [
    {
     "data": {
      "text/html": [
       "<div>\n",
       "<style scoped>\n",
       "    .dataframe tbody tr th:only-of-type {\n",
       "        vertical-align: middle;\n",
       "    }\n",
       "\n",
       "    .dataframe tbody tr th {\n",
       "        vertical-align: top;\n",
       "    }\n",
       "\n",
       "    .dataframe thead th {\n",
       "        text-align: right;\n",
       "    }\n",
       "</style>\n",
       "<table border=\"1\" class=\"dataframe\">\n",
       "  <thead>\n",
       "    <tr style=\"text-align: right;\">\n",
       "      <th></th>\n",
       "      <th>phone_service</th>\n",
       "      <th>internet_service_type</th>\n",
       "      <th>corr</th>\n",
       "    </tr>\n",
       "  </thead>\n",
       "  <tbody>\n",
       "    <tr>\n",
       "      <th>0</th>\n",
       "      <td>No</td>\n",
       "      <td>DSL</td>\n",
       "      <td>0.953570</td>\n",
       "    </tr>\n",
       "    <tr>\n",
       "      <th>1</th>\n",
       "      <td>Yes</td>\n",
       "      <td>DSL</td>\n",
       "      <td>0.970593</td>\n",
       "    </tr>\n",
       "    <tr>\n",
       "      <th>2</th>\n",
       "      <td>Yes</td>\n",
       "      <td>Fiber optic</td>\n",
       "      <td>0.985309</td>\n",
       "    </tr>\n",
       "    <tr>\n",
       "      <th>3</th>\n",
       "      <td>Yes</td>\n",
       "      <td>None</td>\n",
       "      <td>0.981567</td>\n",
       "    </tr>\n",
       "  </tbody>\n",
       "</table>\n",
       "</div>"
      ],
      "text/plain": [
       "  phone_service internet_service_type      corr\n",
       "0            No                   DSL  0.953570\n",
       "1           Yes                   DSL  0.970593\n",
       "2           Yes           Fiber optic  0.985309\n",
       "3           Yes                  None  0.981567"
      ]
     },
     "execution_count": 56,
     "metadata": {},
     "output_type": "execute_result"
    }
   ],
   "source": [
    "grouped = telco.groupby(['phone_service', 'internet_service_type'])\n",
    "corr_df = grouped.apply(lambda x: x[['tenure', 'total_charges']].corr().iloc[0,1])\n",
    "corr_df = corr_df.reset_index().rename(columns={0: 'corr'})\n",
    "corr_df\n"
   ]
  },
  {
   "cell_type": "code",
   "execution_count": 171,
   "id": "e95d42c8",
   "metadata": {},
   "outputs": [],
   "source": [
    "# 3. Use the employees database.\n",
    "def get_db_url(database):\n",
    "    from env import host, user, password\n",
    "    return f'mysql+pymysql://{user}:{password}@{host}/{database}'\n",
    "url= get_db_url('employees')"
   ]
  },
  {
   "cell_type": "code",
   "execution_count": 180,
   "id": "4c25b21c",
   "metadata": {},
   "outputs": [],
   "source": [
    "#set sql query\n",
    "query = '''\n",
    "select * from (\n",
    "    select \n",
    "        e.emp_no\n",
    "        ,salary\n",
    "        ,e.hire_date\n",
    "        ,case when s.to_date = '9999-01-01' \n",
    "            then (select MAX(to_date) from salaries where to_date != '9999-01-01')\n",
    "            else s.to_date\n",
    "            end as to_date\n",
    "        ,row_number() over(partition by e.emp_no, e.hire_date order by s.to_date DESC) rn\n",
    "    from employees e\n",
    "    join salaries s on s.emp_no = e.emp_no\n",
    " ) a where rn = 1;\n",
    "        '''"
   ]
  },
  {
   "cell_type": "code",
   "execution_count": 181,
   "id": "6d66ae17",
   "metadata": {},
   "outputs": [
    {
     "name": "stdout",
     "output_type": "stream",
     "text": [
      "<class 'pandas.core.frame.DataFrame'>\n",
      "RangeIndex: 300024 entries, 0 to 300023\n",
      "Data columns (total 5 columns):\n",
      " #   Column     Non-Null Count   Dtype \n",
      "---  ------     --------------   ----- \n",
      " 0   emp_no     300024 non-null  int64 \n",
      " 1   salary     300024 non-null  int64 \n",
      " 2   hire_date  300024 non-null  object\n",
      " 3   to_date    300024 non-null  object\n",
      " 4   rn         300024 non-null  int64 \n",
      "dtypes: int64(3), object(2)\n",
      "memory usage: 11.4+ MB\n"
     ]
    }
   ],
   "source": [
    "emp=pd.read_sql(query,url)\n",
    "emp.info()"
   ]
  },
  {
   "cell_type": "markdown",
   "id": "f8b380d5",
   "metadata": {},
   "source": [
    "1: State Hypothesis & Set  𝛼\n",
    " \n",
    "\n",
    "𝐻0\n",
    " : There is no correlation between tenure and salary\n",
    "𝐻𝑎\n",
    " : There is a correlation between tenure and salary"
   ]
  },
  {
   "cell_type": "code",
   "execution_count": 186,
   "id": "fd32781a",
   "metadata": {},
   "outputs": [],
   "source": [
    "# set α\n",
    "α = 0.05"
   ]
  },
  {
   "cell_type": "code",
   "execution_count": 187,
   "id": "f6b6b400",
   "metadata": {},
   "outputs": [
    {
     "data": {
      "text/plain": [
       "0        5880 days\n",
       "1        6097 days\n",
       "2        5817 days\n",
       "3        5722 days\n",
       "4        4706 days\n",
       "            ...   \n",
       "300019   3488 days\n",
       "300020   4326 days\n",
       "300021   5946 days\n",
       "300022   3214 days\n",
       "300023   1705 days\n",
       "Length: 300024, dtype: timedelta64[ns]"
      ]
     },
     "execution_count": 187,
     "metadata": {},
     "output_type": "execute_result"
    }
   ],
   "source": [
    "#subtract dates to get tenure\n",
    "(emp.to_date - emp.hire_date)"
   ]
  },
  {
   "cell_type": "code",
   "execution_count": 190,
   "id": "5371a964",
   "metadata": {},
   "outputs": [
    {
     "data": {
      "text/html": [
       "<div>\n",
       "<style scoped>\n",
       "    .dataframe tbody tr th:only-of-type {\n",
       "        vertical-align: middle;\n",
       "    }\n",
       "\n",
       "    .dataframe tbody tr th {\n",
       "        vertical-align: top;\n",
       "    }\n",
       "\n",
       "    .dataframe thead th {\n",
       "        text-align: right;\n",
       "    }\n",
       "</style>\n",
       "<table border=\"1\" class=\"dataframe\">\n",
       "  <thead>\n",
       "    <tr style=\"text-align: right;\">\n",
       "      <th></th>\n",
       "      <th>0</th>\n",
       "      <th>1</th>\n",
       "    </tr>\n",
       "  </thead>\n",
       "  <tbody>\n",
       "    <tr>\n",
       "      <th>0</th>\n",
       "      <td>5880</td>\n",
       "      <td>days</td>\n",
       "    </tr>\n",
       "    <tr>\n",
       "      <th>1</th>\n",
       "      <td>6097</td>\n",
       "      <td>days</td>\n",
       "    </tr>\n",
       "    <tr>\n",
       "      <th>2</th>\n",
       "      <td>5817</td>\n",
       "      <td>days</td>\n",
       "    </tr>\n",
       "    <tr>\n",
       "      <th>3</th>\n",
       "      <td>5722</td>\n",
       "      <td>days</td>\n",
       "    </tr>\n",
       "    <tr>\n",
       "      <th>4</th>\n",
       "      <td>4706</td>\n",
       "      <td>days</td>\n",
       "    </tr>\n",
       "    <tr>\n",
       "      <th>...</th>\n",
       "      <td>...</td>\n",
       "      <td>...</td>\n",
       "    </tr>\n",
       "    <tr>\n",
       "      <th>300019</th>\n",
       "      <td>3488</td>\n",
       "      <td>days</td>\n",
       "    </tr>\n",
       "    <tr>\n",
       "      <th>300020</th>\n",
       "      <td>4326</td>\n",
       "      <td>days</td>\n",
       "    </tr>\n",
       "    <tr>\n",
       "      <th>300021</th>\n",
       "      <td>5946</td>\n",
       "      <td>days</td>\n",
       "    </tr>\n",
       "    <tr>\n",
       "      <th>300022</th>\n",
       "      <td>3214</td>\n",
       "      <td>days</td>\n",
       "    </tr>\n",
       "    <tr>\n",
       "      <th>300023</th>\n",
       "      <td>1705</td>\n",
       "      <td>days</td>\n",
       "    </tr>\n",
       "  </tbody>\n",
       "</table>\n",
       "<p>300024 rows × 2 columns</p>\n",
       "</div>"
      ],
      "text/plain": [
       "           0     1\n",
       "0       5880  days\n",
       "1       6097  days\n",
       "2       5817  days\n",
       "3       5722  days\n",
       "4       4706  days\n",
       "...      ...   ...\n",
       "300019  3488  days\n",
       "300020  4326  days\n",
       "300021  5946  days\n",
       "300022  3214  days\n",
       "300023  1705  days\n",
       "\n",
       "[300024 rows x 2 columns]"
      ]
     },
     "execution_count": 190,
     "metadata": {},
     "output_type": "execute_result"
    }
   ],
   "source": [
    "(emp.to_date - emp.hire_date).astype(str).str.split(' ', expand = True)"
   ]
  },
  {
   "cell_type": "code",
   "execution_count": 193,
   "id": "781b9ebb",
   "metadata": {},
   "outputs": [],
   "source": [
    "emp['tenure'] = (emp.to_date - emp.hire_date).astype(str).str.split(' ', expand = True)[0]"
   ]
  },
  {
   "cell_type": "code",
   "execution_count": 194,
   "id": "4c52dd1f",
   "metadata": {},
   "outputs": [],
   "source": [
    "emp.tenure = emp.tenure.astype(int)\n"
   ]
  },
  {
   "cell_type": "code",
   "execution_count": 196,
   "id": "f42380ae",
   "metadata": {},
   "outputs": [],
   "source": [
    "#create the dataframe with the info we want\n",
    "tenure_emp = emp[['tenure', 'salary']]"
   ]
  },
  {
   "cell_type": "code",
   "execution_count": 39,
   "id": "98b95238",
   "metadata": {},
   "outputs": [
    {
     "data": {
      "text/plain": [
       "[<pandas.core.groupby.generic.DataFrameGroupBy object at 0x2dc86bdc0>]"
      ]
     },
     "execution_count": 39,
     "metadata": {},
     "output_type": "execute_result"
    }
   ],
   "source": [
    "[emp.sort_values(['full_name','to_date'],ascending=False).groupby(['full_name','to_date'])]"
   ]
  },
  {
   "cell_type": "code",
   "execution_count": 197,
   "id": "31b94804",
   "metadata": {},
   "outputs": [
    {
     "name": "stdout",
     "output_type": "stream",
     "text": [
      "<class 'pandas.core.frame.DataFrame'>\n",
      "RangeIndex: 300024 entries, 0 to 300023\n",
      "Data columns (total 2 columns):\n",
      " #   Column  Non-Null Count   Dtype\n",
      "---  ------  --------------   -----\n",
      " 0   tenure  300024 non-null  int64\n",
      " 1   salary  300024 non-null  int64\n",
      "dtypes: int64(2)\n",
      "memory usage: 4.6 MB\n"
     ]
    }
   ],
   "source": [
    "tenure_emp.info()"
   ]
  },
  {
   "cell_type": "code",
   "execution_count": 198,
   "id": "3332f4f0",
   "metadata": {},
   "outputs": [
    {
     "data": {
      "image/png": "[encoded data removed]",
      "text/plain": [
       "<Figure size 640x480 with 1 Axes>"
      ]
     },
     "metadata": {},
     "output_type": "display_data"
    }
   ],
   "source": [
    "sns.regplot(x='tenure', y = 'salary', data=tenure_emp, marker='.', line_kws={'color': 'orange'})\n",
    "plt.show()"
   ]
  },
  {
   "cell_type": "code",
   "execution_count": 199,
   "id": "0f49adce",
   "metadata": {},
   "outputs": [
    {
     "data": {
      "image/png": "[encoded data removed]",
      "text/plain": [
       "<Figure size 640x480 with 1 Axes>"
      ]
     },
     "metadata": {},
     "output_type": "display_data"
    },
    {
     "data": {
      "image/png": "[encoded data removed]",
      "text/plain": [
       "<Figure size 640x480 with 1 Axes>"
      ]
     },
     "metadata": {},
     "output_type": "display_data"
    }
   ],
   "source": [
    "tenure_emp.tenure.hist()\n",
    "plt.show()\n",
    "\n",
    "tenure_emp.salary.hist()\n",
    "plt.show()"
   ]
  },
  {
   "cell_type": "code",
   "execution_count": 201,
   "id": "d884c34c",
   "metadata": {},
   "outputs": [
    {
     "data": {
      "text/plain": [
       "(0.36928933867674374, 0.0)"
      ]
     },
     "execution_count": 201,
     "metadata": {},
     "output_type": "execute_result"
    }
   ],
   "source": [
    "# Since it's not normally distributed, use Spearman\n",
    "r,p = stats.pearsonr(tenure_emp.tenure, tenure_emp.salary)\n",
    "r,p"
   ]
  },
  {
   "cell_type": "code",
   "execution_count": 202,
   "id": "8ffc3c96",
   "metadata": {},
   "outputs": [
    {
     "data": {
      "text/plain": [
       "(0.3752474702658628, 0.0)"
      ]
     },
     "execution_count": 202,
     "metadata": {},
     "output_type": "execute_result"
    }
   ],
   "source": [
    "# Since it's not normally distributed, use Spearman\n",
    "sr,sp = stats.spearmanr(tenure_emp.tenure, tenure_emp.salary)\n",
    "sr,sp"
   ]
  },
  {
   "cell_type": "code",
   "execution_count": 203,
   "id": "9801735d",
   "metadata": {},
   "outputs": [],
   "source": [
    "def eval_Sresult(r, p, α=0.05):\n",
    "    if p < α:\n",
    "        return print(f\"\"\"We reject H₀, there is a monotonic relationship.\n",
    "Spearman’s r: {r:2f}\n",
    "P-value: {p}\"\"\")\n",
    "    else:\n",
    "        return print(f\"\"\"We fail to reject H₀: that there is a monotonic relationship.\n",
    "Spearman’s r: {r:2f}\n",
    "P-value: {p}\"\"\")"
   ]
  },
  {
   "cell_type": "code",
   "execution_count": 204,
   "id": "acf3b4cc",
   "metadata": {},
   "outputs": [
    {
     "name": "stdout",
     "output_type": "stream",
     "text": [
      "We reject H₀, there is a monotonic relationship.\n",
      "Spearman’s r: 0.369289\n",
      "P-value: 0.0\n"
     ]
    }
   ],
   "source": [
    "eval_Sresult(r, p, α=0.05)"
   ]
  },
  {
   "cell_type": "code",
   "execution_count": null,
   "id": "92f1233c",
   "metadata": {},
   "outputs": [],
   "source": [
    "#Is there a relationship between how long an employee has been with the company and their salary?\n"
   ]
  },
  {
   "cell_type": "code",
   "execution_count": null,
   "id": "6ccd3e16",
   "metadata": {},
   "outputs": [],
   "source": []
  },
  {
   "cell_type": "code",
   "execution_count": null,
   "id": "e9a16444",
   "metadata": {},
   "outputs": [],
   "source": [
    "#Is there a relationship between how long an employee has been with the company and the number of titles they have had?"
   ]
  },
  {
   "cell_type": "code",
   "execution_count": null,
   "id": "f3f50473",
   "metadata": {},
   "outputs": [],
   "source": []
  },
  {
   "cell_type": "code",
   "execution_count": 11,
   "id": "16990298",
   "metadata": {},
   "outputs": [
    {
     "data": {
      "text/html": [
       "<div>\n",
       "<style scoped>\n",
       "    .dataframe tbody tr th:only-of-type {\n",
       "        vertical-align: middle;\n",
       "    }\n",
       "\n",
       "    .dataframe tbody tr th {\n",
       "        vertical-align: top;\n",
       "    }\n",
       "\n",
       "    .dataframe thead th {\n",
       "        text-align: right;\n",
       "    }\n",
       "</style>\n",
       "<table border=\"1\" class=\"dataframe\">\n",
       "  <thead>\n",
       "    <tr style=\"text-align: right;\">\n",
       "      <th></th>\n",
       "      <th>Reaction</th>\n",
       "      <th>Days</th>\n",
       "      <th>Subject</th>\n",
       "    </tr>\n",
       "  </thead>\n",
       "  <tbody>\n",
       "    <tr>\n",
       "      <th>1</th>\n",
       "      <td>249.5600</td>\n",
       "      <td>0</td>\n",
       "      <td>308</td>\n",
       "    </tr>\n",
       "    <tr>\n",
       "      <th>2</th>\n",
       "      <td>258.7047</td>\n",
       "      <td>1</td>\n",
       "      <td>308</td>\n",
       "    </tr>\n",
       "    <tr>\n",
       "      <th>3</th>\n",
       "      <td>250.8006</td>\n",
       "      <td>2</td>\n",
       "      <td>308</td>\n",
       "    </tr>\n",
       "    <tr>\n",
       "      <th>4</th>\n",
       "      <td>321.4398</td>\n",
       "      <td>3</td>\n",
       "      <td>308</td>\n",
       "    </tr>\n",
       "    <tr>\n",
       "      <th>5</th>\n",
       "      <td>356.8519</td>\n",
       "      <td>4</td>\n",
       "      <td>308</td>\n",
       "    </tr>\n",
       "  </tbody>\n",
       "</table>\n",
       "</div>"
      ],
      "text/plain": [
       "   Reaction  Days  Subject\n",
       "1  249.5600     0      308\n",
       "2  258.7047     1      308\n",
       "3  250.8006     2      308\n",
       "4  321.4398     3      308\n",
       "5  356.8519     4      308"
      ]
     },
     "execution_count": 11,
     "metadata": {},
     "output_type": "execute_result"
    }
   ],
   "source": [
    "# 4. Use the sleepstudy data.\n",
    "from pydataset import data\n",
    "sleepy = data('sleepstudy')\n",
    "sleepy.head()\n"
   ]
  },
  {
   "cell_type": "code",
   "execution_count": 13,
   "id": "609eee49",
   "metadata": {},
   "outputs": [
    {
     "data": {
      "image/png": "[encoded data removed]",
      "text/plain": [
       "<Figure size 640x480 with 1 Axes>"
      ]
     },
     "metadata": {},
     "output_type": "display_data"
    }
   ],
   "source": [
    "#Is there a relationship between days and reaction time? there is a moderte corrolation\n",
    "r, p = stats.pearsonr(sleepy.Days, sleepy.Reaction)\n",
    "\n",
    "sleepy.plot.scatter('Days', 'Reaction')\n",
    "plt.title('Days vs Reaction')\n",
    "plt.text(8, 80, f'r = {r:.3f}')\n",
    "plt.show()"
   ]
  },
  {
   "cell_type": "code",
   "execution_count": 14,
   "id": "d2548d98",
   "metadata": {},
   "outputs": [
    {
     "data": {
      "text/plain": [
       "(0.5352302262650255, 9.89409632221439e-15)"
      ]
     },
     "execution_count": 14,
     "metadata": {},
     "output_type": "execute_result"
    }
   ],
   "source": [
    "r,p"
   ]
  },
  {
   "cell_type": "markdown",
   "id": "a01047a8",
   "metadata": {},
   "source": [
    "# Chi Squared"
   ]
  },
  {
   "cell_type": "markdown",
   "id": "9446f3a3",
   "metadata": {},
   "source": [
    "### 1.Answer with the type of stats test you would use (assume normal distribution):\n",
    "\n",
    "1. Do students get better test grades if they have a rubber duck on their desk?1 sample, 1 tail T test\n",
    "2. Does smoking affect when or not someone has lung cancer?CHI2\n",
    "3. Is gender independent of a person’s blood type?CHI2\n",
    "4. A farming company wants to know if a new fertilizer has improved crop yield or not?1 sample, 1 tail T-test\n",
    "5. Does the length of time of the lecture correlate with a students grade?Corrolation\n",
    "6. Do people with dogs live in apartments more than people with cats? 2 sample, 1 tail T-test"
   ]
  },
  {
   "cell_type": "code",
   "execution_count": 139,
   "id": "7e19bb0e",
   "metadata": {},
   "outputs": [],
   "source": [
    "import pandas as pd\n",
    "from scipy import stats\n",
    "from pydataset import data\n",
    "import numpy as np\n",
    "#2. Use the following contingency table to help answer the question of whether using a macbook and \n",
    "#   being a codeup student are independent of each other.\n",
    "#                   \tCodeup Student\tNot Codeup Student\n",
    "#Uses a Macbook             \t49          \t20\n",
    "#Doesn't Use A Macbook      \t1           \t30\n",
    "# Null Hypothisis: There is no assosiation between Codeup Students and Macbook users\n",
    "# Alt Hypothisis: There is an assosiation between Codeup Students and Macbook users\n",
    "\n",
    "#Answer:  There exists some relationship between code up students and Macbook useres\n",
    "\n",
    "alpha= 0.05\n",
    "group1='Codeup Student'\n",
    "group2='Macbook User'"
   ]
  },
  {
   "cell_type": "code",
   "execution_count": 138,
   "id": "6666d048",
   "metadata": {},
   "outputs": [
    {
     "data": {
      "text/plain": [
       "[[49, 20], [1, 30]]"
      ]
     },
     "execution_count": 138,
     "metadata": {},
     "output_type": "execute_result"
    }
   ],
   "source": [
    "# create the DataFrame\n",
    "data = [[49,20],[1, 30]]\n",
    "data"
   ]
  },
  {
   "cell_type": "code",
   "execution_count": 111,
   "id": "291543e4",
   "metadata": {},
   "outputs": [
    {
     "data": {
      "text/html": [
       "<div>\n",
       "<style scoped>\n",
       "    .dataframe tbody tr th:only-of-type {\n",
       "        vertical-align: middle;\n",
       "    }\n",
       "\n",
       "    .dataframe tbody tr th {\n",
       "        vertical-align: top;\n",
       "    }\n",
       "\n",
       "    .dataframe thead th {\n",
       "        text-align: right;\n",
       "    }\n",
       "</style>\n",
       "<table border=\"1\" class=\"dataframe\">\n",
       "  <thead>\n",
       "    <tr style=\"text-align: right;\">\n",
       "      <th></th>\n",
       "      <th>Codeup Student</th>\n",
       "      <th>Not Codeup Student</th>\n",
       "    </tr>\n",
       "  </thead>\n",
       "  <tbody>\n",
       "    <tr>\n",
       "      <th>#Uses a Macbook</th>\n",
       "      <td>49</td>\n",
       "      <td>20</td>\n",
       "    </tr>\n",
       "    <tr>\n",
       "      <th>#Doesn't Use A Macbook</th>\n",
       "      <td>1</td>\n",
       "      <td>30</td>\n",
       "    </tr>\n",
       "  </tbody>\n",
       "</table>\n",
       "</div>"
      ],
      "text/plain": [
       "                        Codeup Student  Not Codeup Student\n",
       "#Uses a Macbook                     49                  20\n",
       "#Doesn't Use A Macbook               1                  30"
      ]
     },
     "execution_count": 111,
     "metadata": {},
     "output_type": "execute_result"
    }
   ],
   "source": [
    "df = pd.DataFrame(data, index=['#Uses a Macbook', \"#Doesn't Use A Macbook\"],columns=['Codeup Student', 'Not Codeup Student'])\n",
    "df"
   ]
  },
  {
   "cell_type": "code",
   "execution_count": 112,
   "id": "30680ef4",
   "metadata": {},
   "outputs": [
    {
     "data": {
      "text/html": [
       "<div>\n",
       "<style scoped>\n",
       "    .dataframe tbody tr th:only-of-type {\n",
       "        vertical-align: middle;\n",
       "    }\n",
       "\n",
       "    .dataframe tbody tr th {\n",
       "        vertical-align: top;\n",
       "    }\n",
       "\n",
       "    .dataframe thead th {\n",
       "        text-align: right;\n",
       "    }\n",
       "</style>\n",
       "<table border=\"1\" class=\"dataframe\">\n",
       "  <thead>\n",
       "    <tr style=\"text-align: right;\">\n",
       "      <th></th>\n",
       "      <th>Codeup Student</th>\n",
       "      <th>Not Codeup Student</th>\n",
       "    </tr>\n",
       "  </thead>\n",
       "  <tbody>\n",
       "    <tr>\n",
       "      <th>#Uses a Macbook</th>\n",
       "      <td>49</td>\n",
       "      <td>20</td>\n",
       "    </tr>\n",
       "    <tr>\n",
       "      <th>#Doesn't Use A Macbook</th>\n",
       "      <td>1</td>\n",
       "      <td>30</td>\n",
       "    </tr>\n",
       "  </tbody>\n",
       "</table>\n",
       "</div>"
      ],
      "text/plain": [
       "                        Codeup Student  Not Codeup Student\n",
       "#Uses a Macbook                     49                  20\n",
       "#Doesn't Use A Macbook               1                  30"
      ]
     },
     "execution_count": 112,
     "metadata": {},
     "output_type": "execute_result"
    }
   ],
   "source": [
    "observed = df\n",
    "observed\n"
   ]
  },
  {
   "cell_type": "code",
   "execution_count": 113,
   "id": "a4cd9823",
   "metadata": {},
   "outputs": [],
   "source": [
    "chi2, p, degf, expected = stats.chi2_contingency(observed)\n"
   ]
  },
  {
   "cell_type": "code",
   "execution_count": 114,
   "id": "4394b6ee",
   "metadata": {},
   "outputs": [
    {
     "name": "stdout",
     "output_type": "stream",
     "text": [
      "Observed Values\n",
      "\n",
      "[[49 20]\n",
      " [ 1 30]]\n",
      "---\n",
      "Expected Values\n",
      "\n",
      "[[34 34]\n",
      " [15 15]]\n",
      "---\n",
      "\n",
      "chi^2 = 36.6526\n",
      "p     = 0.0000\n"
     ]
    }
   ],
   "source": [
    "# print 'Observed Values' followed by a new line\n",
    "print('Observed Values\\n')\n",
    "\n",
    "# print the values from the 'observed' dataframe\n",
    "print(observed.values)\n",
    "\n",
    "# print --- and then a new line, 'Expected Values', followed by another new line\n",
    "print('---\\nExpected Values\\n')\n",
    "\n",
    "# print the expected values array\n",
    "print(expected.astype(int))\n",
    "\n",
    "# print a new line\n",
    "print('---\\n')\n",
    "\n",
    "# print the chi2 value, formatted to a float with 4 digits. \n",
    "print(f'chi^2 = {chi2:.4f}') \n",
    "\n",
    "# print the p-value, formatted to a float with 4 digits. \n",
    "print(f'p     = {p:.4f}')\n"
   ]
  },
  {
   "cell_type": "code",
   "execution_count": 117,
   "id": "0c7088f9",
   "metadata": {},
   "outputs": [],
   "source": [
    "alpha = 0.05\n",
    "p     = 0.0000\n",
    "def eval_results(p, alpha, group1, group2):\n",
    "    '''\n",
    "    this function will take in the p-value, alpha, and a name for the 2 variables \n",
    "    you are comparing (group 1 and group 2)\n",
    "    '''\n",
    "    if p < alpha:\n",
    "        print(f'There exists some relationship between {group1} and the {group2}. (p-value: {p})')\n",
    "    else:\n",
    "        print(f'There is not a significant relationship between {group1} and {group2}. (p-value: {p})')\n"
   ]
  },
  {
   "cell_type": "code",
   "execution_count": 140,
   "id": "294df4dc",
   "metadata": {},
   "outputs": [
    {
     "name": "stdout",
     "output_type": "stream",
     "text": [
      "There exists some relationship between Codeup Student and the Macbook User. (p-value: 0.01702768537665195)\n"
     ]
    }
   ],
   "source": [
    "eval_results(p, alpha, group1='Codeup Student', group2='Macbook User')"
   ]
  },
  {
   "cell_type": "code",
   "execution_count": 122,
   "id": "2b4cddcb",
   "metadata": {},
   "outputs": [
    {
     "data": {
      "text/html": [
       "<div>\n",
       "<style scoped>\n",
       "    .dataframe tbody tr th:only-of-type {\n",
       "        vertical-align: middle;\n",
       "    }\n",
       "\n",
       "    .dataframe tbody tr th {\n",
       "        vertical-align: top;\n",
       "    }\n",
       "\n",
       "    .dataframe thead th {\n",
       "        text-align: right;\n",
       "    }\n",
       "</style>\n",
       "<table border=\"1\" class=\"dataframe\">\n",
       "  <thead>\n",
       "    <tr style=\"text-align: right;\">\n",
       "      <th></th>\n",
       "      <th>manufacturer</th>\n",
       "      <th>model</th>\n",
       "      <th>displ</th>\n",
       "      <th>year</th>\n",
       "      <th>cyl</th>\n",
       "      <th>trans</th>\n",
       "      <th>drv</th>\n",
       "      <th>cty</th>\n",
       "      <th>hwy</th>\n",
       "      <th>fl</th>\n",
       "      <th>class</th>\n",
       "      <th>transmission</th>\n",
       "    </tr>\n",
       "  </thead>\n",
       "  <tbody>\n",
       "    <tr>\n",
       "      <th>1</th>\n",
       "      <td>audi</td>\n",
       "      <td>a4</td>\n",
       "      <td>1.8</td>\n",
       "      <td>1999</td>\n",
       "      <td>4</td>\n",
       "      <td>auto(l5)</td>\n",
       "      <td>f</td>\n",
       "      <td>18</td>\n",
       "      <td>29</td>\n",
       "      <td>p</td>\n",
       "      <td>compact</td>\n",
       "      <td>auto</td>\n",
       "    </tr>\n",
       "    <tr>\n",
       "      <th>2</th>\n",
       "      <td>audi</td>\n",
       "      <td>a4</td>\n",
       "      <td>1.8</td>\n",
       "      <td>1999</td>\n",
       "      <td>4</td>\n",
       "      <td>manual(m5)</td>\n",
       "      <td>f</td>\n",
       "      <td>21</td>\n",
       "      <td>29</td>\n",
       "      <td>p</td>\n",
       "      <td>compact</td>\n",
       "      <td>manual</td>\n",
       "    </tr>\n",
       "    <tr>\n",
       "      <th>3</th>\n",
       "      <td>audi</td>\n",
       "      <td>a4</td>\n",
       "      <td>2.0</td>\n",
       "      <td>2008</td>\n",
       "      <td>4</td>\n",
       "      <td>manual(m6)</td>\n",
       "      <td>f</td>\n",
       "      <td>20</td>\n",
       "      <td>31</td>\n",
       "      <td>p</td>\n",
       "      <td>compact</td>\n",
       "      <td>manual</td>\n",
       "    </tr>\n",
       "    <tr>\n",
       "      <th>4</th>\n",
       "      <td>audi</td>\n",
       "      <td>a4</td>\n",
       "      <td>2.0</td>\n",
       "      <td>2008</td>\n",
       "      <td>4</td>\n",
       "      <td>auto(av)</td>\n",
       "      <td>f</td>\n",
       "      <td>21</td>\n",
       "      <td>30</td>\n",
       "      <td>p</td>\n",
       "      <td>compact</td>\n",
       "      <td>auto</td>\n",
       "    </tr>\n",
       "    <tr>\n",
       "      <th>5</th>\n",
       "      <td>audi</td>\n",
       "      <td>a4</td>\n",
       "      <td>2.8</td>\n",
       "      <td>1999</td>\n",
       "      <td>6</td>\n",
       "      <td>auto(l5)</td>\n",
       "      <td>f</td>\n",
       "      <td>16</td>\n",
       "      <td>26</td>\n",
       "      <td>p</td>\n",
       "      <td>compact</td>\n",
       "      <td>auto</td>\n",
       "    </tr>\n",
       "  </tbody>\n",
       "</table>\n",
       "</div>"
      ],
      "text/plain": [
       "  manufacturer model  displ  year  cyl       trans drv  cty  hwy fl    class  \\\n",
       "1         audi    a4    1.8  1999    4    auto(l5)   f   18   29  p  compact   \n",
       "2         audi    a4    1.8  1999    4  manual(m5)   f   21   29  p  compact   \n",
       "3         audi    a4    2.0  2008    4  manual(m6)   f   20   31  p  compact   \n",
       "4         audi    a4    2.0  2008    4    auto(av)   f   21   30  p  compact   \n",
       "5         audi    a4    2.8  1999    6    auto(l5)   f   16   26  p  compact   \n",
       "\n",
       "  transmission  \n",
       "1         auto  \n",
       "2       manual  \n",
       "3       manual  \n",
       "4         auto  \n",
       "5         auto  "
      ]
     },
     "execution_count": 122,
     "metadata": {},
     "output_type": "execute_result"
    }
   ],
   "source": [
    "# 3. Choose another 2 categorical variables from the mpg dataset and perform a chi2\n",
    "# contingency table test with them. Be sure to state your null and alternative hypotheses.\n",
    "from pydataset import data\n",
    "mpg = data('mpg')\n",
    "mpg['transmission'] = mpg.trans.str[:-4] # a little cleaning goes a long way\n",
    "mpg.head()"
   ]
  },
  {
   "cell_type": "markdown",
   "id": "87059935",
   "metadata": {},
   "source": [
    "### Hyposthisis\n",
    " (Null Hypothesis): cyl is independent of year.\n",
    " (Alternative Hypothesis): cyl is dependent on year type.\n",
    " "
   ]
  },
  {
   "cell_type": "code",
   "execution_count": 134,
   "id": "4cf71f51",
   "metadata": {},
   "outputs": [],
   "source": [
    "observed = pd.crosstab(mpg.year, mpg.cyl)\n",
    "observed\n",
    "alpha=.05\n",
    "group1= 'cyl'\n",
    "group2= 'year'"
   ]
  },
  {
   "cell_type": "code",
   "execution_count": 135,
   "id": "e134453f",
   "metadata": {},
   "outputs": [],
   "source": [
    "chi2, p, degf, expected = stats.chi2_contingency(observed)\n"
   ]
  },
  {
   "cell_type": "code",
   "execution_count": 129,
   "id": "8db88440",
   "metadata": {},
   "outputs": [
    {
     "name": "stdout",
     "output_type": "stream",
     "text": [
      "Observed Values\n",
      "\n",
      "[[45  0 45 27]\n",
      " [36  4 34 43]]\n",
      "---\n",
      "Expected Values\n",
      "\n",
      "[[40  2 39 35]\n",
      " [40  2 39 35]]\n",
      "---\n",
      "\n",
      "chi^2 = 10.1888\n",
      "p     = 0.0170\n"
     ]
    }
   ],
   "source": [
    "# print 'Observed Values' followed by a new line\n",
    "print('Observed Values\\n')\n",
    "\n",
    "# print the values from the 'observed' dataframe\n",
    "print(observed.values)\n",
    "\n",
    "# print --- and then a new line, 'Expected Values', followed by another new line\n",
    "print('---\\nExpected Values\\n')\n",
    "\n",
    "# print the expected values array\n",
    "print(expected.astype(int))\n",
    "\n",
    "# print a new line\n",
    "print('---\\n')\n",
    "\n",
    "# print the chi2 value, formatted to a float with 4 digits. \n",
    "print(f'chi^2 = {chi2:.4f}') \n",
    "\n",
    "# print the p-value, formatted to a float with 4 digits. \n",
    "print(f'p     = {p:.4f}')\n"
   ]
  },
  {
   "cell_type": "code",
   "execution_count": 136,
   "id": "ff6bbd27",
   "metadata": {},
   "outputs": [
    {
     "name": "stdout",
     "output_type": "stream",
     "text": [
      "There exists some relationship between cyl and the year. (p-value: 0.01702768537665195)\n"
     ]
    }
   ],
   "source": [
    "eval_results(p, alpha, group1='cyl', group2='year')\n"
   ]
  },
  {
   "cell_type": "code",
   "execution_count": 137,
   "id": "b3531367",
   "metadata": {},
   "outputs": [],
   "source": [
    "# 4. Use the data from the employees database to answer these questions:\n",
    "\n",
    "#Is an employee's gender independent of whether an employee works in sales or marketing? (only look at current employees)\n",
    "#Is an employee's gender independent of whether or not they are or have been a manager?\n"
   ]
  },
  {
   "cell_type": "code",
   "execution_count": 147,
   "id": "05fbc4e7",
   "metadata": {},
   "outputs": [],
   "source": [
    "import env\n",
    "def get_db_url(database):\n",
    "    from env import host, user, password\n",
    "    return f'mysql+pymysql://{user}:{password}@{host}/{database}'\n",
    "url = get_db_url('employees')"
   ]
  },
  {
   "cell_type": "markdown",
   "id": "fdc0550a",
   "metadata": {},
   "source": [
    "HO: There is no association between gender and whether or not they work in sales or marketing\n",
    "HO: There is an association between gender and whether or not they work in sales or marketing"
   ]
  },
  {
   "cell_type": "code",
   "execution_count": 148,
   "id": "78d4c072",
   "metadata": {},
   "outputs": [],
   "source": [
    "#set sql query\n",
    "query = ''' \n",
    "        select emp_no, gender, dept_name\n",
    "        from employees\n",
    "            join dept_emp\n",
    "                using (emp_no)\n",
    "            join departments\n",
    "                using (dept_no)\n",
    "        where to_date = '9999-01-01'\n",
    "        and dept_name in ('Marketing','Sales')\n",
    "        '''"
   ]
  },
  {
   "cell_type": "code",
   "execution_count": 150,
   "id": "43fa480f",
   "metadata": {},
   "outputs": [
    {
     "data": {
      "text/html": [
       "<div>\n",
       "<style scoped>\n",
       "    .dataframe tbody tr th:only-of-type {\n",
       "        vertical-align: middle;\n",
       "    }\n",
       "\n",
       "    .dataframe tbody tr th {\n",
       "        vertical-align: top;\n",
       "    }\n",
       "\n",
       "    .dataframe thead th {\n",
       "        text-align: right;\n",
       "    }\n",
       "</style>\n",
       "<table border=\"1\" class=\"dataframe\">\n",
       "  <thead>\n",
       "    <tr style=\"text-align: right;\">\n",
       "      <th></th>\n",
       "      <th>emp_no</th>\n",
       "      <th>gender</th>\n",
       "      <th>dept_name</th>\n",
       "    </tr>\n",
       "  </thead>\n",
       "  <tbody>\n",
       "    <tr>\n",
       "      <th>0</th>\n",
       "      <td>10017</td>\n",
       "      <td>F</td>\n",
       "      <td>Marketing</td>\n",
       "    </tr>\n",
       "    <tr>\n",
       "      <th>1</th>\n",
       "      <td>10058</td>\n",
       "      <td>M</td>\n",
       "      <td>Marketing</td>\n",
       "    </tr>\n",
       "    <tr>\n",
       "      <th>2</th>\n",
       "      <td>10140</td>\n",
       "      <td>F</td>\n",
       "      <td>Marketing</td>\n",
       "    </tr>\n",
       "    <tr>\n",
       "      <th>3</th>\n",
       "      <td>10228</td>\n",
       "      <td>F</td>\n",
       "      <td>Marketing</td>\n",
       "    </tr>\n",
       "    <tr>\n",
       "      <th>4</th>\n",
       "      <td>10239</td>\n",
       "      <td>F</td>\n",
       "      <td>Marketing</td>\n",
       "    </tr>\n",
       "    <tr>\n",
       "      <th>...</th>\n",
       "      <td>...</td>\n",
       "      <td>...</td>\n",
       "      <td>...</td>\n",
       "    </tr>\n",
       "    <tr>\n",
       "      <th>52538</th>\n",
       "      <td>499966</td>\n",
       "      <td>F</td>\n",
       "      <td>Sales</td>\n",
       "    </tr>\n",
       "    <tr>\n",
       "      <th>52539</th>\n",
       "      <td>499976</td>\n",
       "      <td>M</td>\n",
       "      <td>Sales</td>\n",
       "    </tr>\n",
       "    <tr>\n",
       "      <th>52540</th>\n",
       "      <td>499980</td>\n",
       "      <td>M</td>\n",
       "      <td>Sales</td>\n",
       "    </tr>\n",
       "    <tr>\n",
       "      <th>52541</th>\n",
       "      <td>499986</td>\n",
       "      <td>F</td>\n",
       "      <td>Sales</td>\n",
       "    </tr>\n",
       "    <tr>\n",
       "      <th>52542</th>\n",
       "      <td>499987</td>\n",
       "      <td>F</td>\n",
       "      <td>Sales</td>\n",
       "    </tr>\n",
       "  </tbody>\n",
       "</table>\n",
       "<p>52543 rows × 3 columns</p>\n",
       "</div>"
      ],
      "text/plain": [
       "       emp_no gender  dept_name\n",
       "0       10017      F  Marketing\n",
       "1       10058      M  Marketing\n",
       "2       10140      F  Marketing\n",
       "3       10228      F  Marketing\n",
       "4       10239      F  Marketing\n",
       "...       ...    ...        ...\n",
       "52538  499966      F      Sales\n",
       "52539  499976      M      Sales\n",
       "52540  499980      M      Sales\n",
       "52541  499986      F      Sales\n",
       "52542  499987      F      Sales\n",
       "\n",
       "[52543 rows x 3 columns]"
      ]
     },
     "execution_count": 150,
     "metadata": {},
     "output_type": "execute_result"
    }
   ],
   "source": [
    "df = pd.read_sql(query,url)\n",
    "df"
   ]
  },
  {
   "cell_type": "code",
   "execution_count": 152,
   "id": "497ccd5f",
   "metadata": {},
   "outputs": [
    {
     "data": {
      "text/plain": [
       "M    31680\n",
       "F    20863\n",
       "Name: gender, dtype: int64"
      ]
     },
     "execution_count": 152,
     "metadata": {},
     "output_type": "execute_result"
    }
   ],
   "source": [
    "#view gender data\n",
    "df.gender.value_counts()"
   ]
  },
  {
   "cell_type": "code",
   "execution_count": 153,
   "id": "a1810f96",
   "metadata": {},
   "outputs": [
    {
     "data": {
      "text/plain": [
       "Sales        37701\n",
       "Marketing    14842\n",
       "Name: dept_name, dtype: int64"
      ]
     },
     "execution_count": 153,
     "metadata": {},
     "output_type": "execute_result"
    }
   ],
   "source": [
    "#view dept_name data\n",
    "df.dept_name.value_counts()"
   ]
  },
  {
   "cell_type": "code",
   "execution_count": 154,
   "id": "fca91d9f",
   "metadata": {},
   "outputs": [
    {
     "data": {
      "text/html": [
       "<div>\n",
       "<style scoped>\n",
       "    .dataframe tbody tr th:only-of-type {\n",
       "        vertical-align: middle;\n",
       "    }\n",
       "\n",
       "    .dataframe tbody tr th {\n",
       "        vertical-align: top;\n",
       "    }\n",
       "\n",
       "    .dataframe thead th {\n",
       "        text-align: right;\n",
       "    }\n",
       "</style>\n",
       "<table border=\"1\" class=\"dataframe\">\n",
       "  <thead>\n",
       "    <tr style=\"text-align: right;\">\n",
       "      <th>dept_name</th>\n",
       "      <th>Marketing</th>\n",
       "      <th>Sales</th>\n",
       "    </tr>\n",
       "    <tr>\n",
       "      <th>gender</th>\n",
       "      <th></th>\n",
       "      <th></th>\n",
       "    </tr>\n",
       "  </thead>\n",
       "  <tbody>\n",
       "    <tr>\n",
       "      <th>F</th>\n",
       "      <td>5864</td>\n",
       "      <td>14999</td>\n",
       "    </tr>\n",
       "    <tr>\n",
       "      <th>M</th>\n",
       "      <td>8978</td>\n",
       "      <td>22702</td>\n",
       "    </tr>\n",
       "  </tbody>\n",
       "</table>\n",
       "</div>"
      ],
      "text/plain": [
       "dept_name  Marketing  Sales\n",
       "gender                     \n",
       "F               5864  14999\n",
       "M               8978  22702"
      ]
     },
     "execution_count": 154,
     "metadata": {},
     "output_type": "execute_result"
    }
   ],
   "source": [
    "#create contigency table\n",
    "observed = pd.crosstab(df.gender, df.dept_name)\n",
    "observed"
   ]
  },
  {
   "cell_type": "code",
   "execution_count": 155,
   "id": "ac74d60c",
   "metadata": {},
   "outputs": [],
   "source": [
    "#calculate chi2 and p-value\n",
    "chi2, p, degf, expected = stats.chi2_contingency(observed)"
   ]
  },
  {
   "cell_type": "code",
   "execution_count": 156,
   "id": "590b5cd0",
   "metadata": {},
   "outputs": [
    {
     "name": "stdout",
     "output_type": "stream",
     "text": [
      "Observed\n",
      "[[ 5864 14999]\n",
      " [ 8978 22702]]\n",
      "\n",
      "Expected\n",
      "[[ 5893 14969]\n",
      " [ 8948 22731]]\n",
      "\n",
      "----\n",
      "chi^2 = 0.3240\n",
      "p     = 0.5692\n"
     ]
    }
   ],
   "source": [
    "#output values\n",
    "print('Observed')\n",
    "print(observed.values)\n",
    "print('\\nExpected')\n",
    "print(expected.astype(int))\n",
    "print('\\n----')\n",
    "print(f'chi^2 = {chi2:.4f}')\n",
    "print(f'p     = {p:.4f}')"
   ]
  },
  {
   "cell_type": "code",
   "execution_count": 157,
   "id": "2fecf900",
   "metadata": {},
   "outputs": [
    {
     "name": "stdout",
     "output_type": "stream",
     "text": [
      "We fail to reject the null hypothesis\n"
     ]
    }
   ],
   "source": [
    "#conclude\n",
    "if p < alpha:\n",
    "    print('We reject the null hypothesis')\n",
    "else:\n",
    "    print('We fail to reject the null hypothesis')"
   ]
  },
  {
   "cell_type": "code",
   "execution_count": null,
   "id": "01fc4932",
   "metadata": {},
   "outputs": [],
   "source": [
    "#Is an employee's gender independent of whether or not they are or have been a manager?"
   ]
  },
  {
   "cell_type": "markdown",
   "id": "004c96e9",
   "metadata": {},
   "source": [
    "\n",
    "$H_0$: there is no association between being a persons gender and being a manager\n",
    "\n",
    "$H_a$: there is a association between being a persons gender and being a manager\n",
    "\n"
   ]
  },
  {
   "cell_type": "code",
   "execution_count": 158,
   "id": "5cd999cd",
   "metadata": {},
   "outputs": [],
   "source": [
    "#set sql query\n",
    "query = '''\n",
    "        select emp_no, gender, dept_no\n",
    "        from employees\n",
    "            left join dept_manager\n",
    "                using (emp_no)\n",
    "        '''"
   ]
  },
  {
   "cell_type": "code",
   "execution_count": 160,
   "id": "2d5b1809",
   "metadata": {},
   "outputs": [
    {
     "data": {
      "text/html": [
       "<div>\n",
       "<style scoped>\n",
       "    .dataframe tbody tr th:only-of-type {\n",
       "        vertical-align: middle;\n",
       "    }\n",
       "\n",
       "    .dataframe tbody tr th {\n",
       "        vertical-align: top;\n",
       "    }\n",
       "\n",
       "    .dataframe thead th {\n",
       "        text-align: right;\n",
       "    }\n",
       "</style>\n",
       "<table border=\"1\" class=\"dataframe\">\n",
       "  <thead>\n",
       "    <tr style=\"text-align: right;\">\n",
       "      <th></th>\n",
       "      <th>emp_no</th>\n",
       "      <th>gender</th>\n",
       "      <th>dept_no</th>\n",
       "    </tr>\n",
       "  </thead>\n",
       "  <tbody>\n",
       "    <tr>\n",
       "      <th>0</th>\n",
       "      <td>10001</td>\n",
       "      <td>M</td>\n",
       "      <td>None</td>\n",
       "    </tr>\n",
       "    <tr>\n",
       "      <th>1</th>\n",
       "      <td>10002</td>\n",
       "      <td>F</td>\n",
       "      <td>None</td>\n",
       "    </tr>\n",
       "    <tr>\n",
       "      <th>2</th>\n",
       "      <td>10003</td>\n",
       "      <td>M</td>\n",
       "      <td>None</td>\n",
       "    </tr>\n",
       "    <tr>\n",
       "      <th>3</th>\n",
       "      <td>10004</td>\n",
       "      <td>M</td>\n",
       "      <td>None</td>\n",
       "    </tr>\n",
       "    <tr>\n",
       "      <th>4</th>\n",
       "      <td>10005</td>\n",
       "      <td>M</td>\n",
       "      <td>None</td>\n",
       "    </tr>\n",
       "    <tr>\n",
       "      <th>...</th>\n",
       "      <td>...</td>\n",
       "      <td>...</td>\n",
       "      <td>...</td>\n",
       "    </tr>\n",
       "    <tr>\n",
       "      <th>300019</th>\n",
       "      <td>499995</td>\n",
       "      <td>F</td>\n",
       "      <td>None</td>\n",
       "    </tr>\n",
       "    <tr>\n",
       "      <th>300020</th>\n",
       "      <td>499996</td>\n",
       "      <td>M</td>\n",
       "      <td>None</td>\n",
       "    </tr>\n",
       "    <tr>\n",
       "      <th>300021</th>\n",
       "      <td>499997</td>\n",
       "      <td>M</td>\n",
       "      <td>None</td>\n",
       "    </tr>\n",
       "    <tr>\n",
       "      <th>300022</th>\n",
       "      <td>499998</td>\n",
       "      <td>M</td>\n",
       "      <td>None</td>\n",
       "    </tr>\n",
       "    <tr>\n",
       "      <th>300023</th>\n",
       "      <td>499999</td>\n",
       "      <td>M</td>\n",
       "      <td>None</td>\n",
       "    </tr>\n",
       "  </tbody>\n",
       "</table>\n",
       "<p>300024 rows × 3 columns</p>\n",
       "</div>"
      ],
      "text/plain": [
       "        emp_no gender dept_no\n",
       "0        10001      M    None\n",
       "1        10002      F    None\n",
       "2        10003      M    None\n",
       "3        10004      M    None\n",
       "4        10005      M    None\n",
       "...        ...    ...     ...\n",
       "300019  499995      F    None\n",
       "300020  499996      M    None\n",
       "300021  499997      M    None\n",
       "300022  499998      M    None\n",
       "300023  499999      M    None\n",
       "\n",
       "[300024 rows x 3 columns]"
      ]
     },
     "execution_count": 160,
     "metadata": {},
     "output_type": "execute_result"
    }
   ],
   "source": [
    "#read in sql data\n",
    "df = pd.read_sql(query, url)\n",
    "df"
   ]
  },
  {
   "cell_type": "code",
   "execution_count": 161,
   "id": "8cdb2d28",
   "metadata": {},
   "outputs": [
    {
     "name": "stdout",
     "output_type": "stream",
     "text": [
      "<class 'pandas.core.frame.DataFrame'>\n",
      "RangeIndex: 300024 entries, 0 to 300023\n",
      "Data columns (total 3 columns):\n",
      " #   Column   Non-Null Count   Dtype \n",
      "---  ------   --------------   ----- \n",
      " 0   emp_no   300024 non-null  int64 \n",
      " 1   gender   300024 non-null  object\n",
      " 2   dept_no  24 non-null      object\n",
      "dtypes: int64(1), object(2)\n",
      "memory usage: 6.9+ MB\n"
     ]
    }
   ],
   "source": [
    "#look at data\n",
    "df.info()"
   ]
  },
  {
   "cell_type": "code",
   "execution_count": 162,
   "id": "cee8e7b5",
   "metadata": {},
   "outputs": [
    {
     "data": {
      "text/plain": [
       "None    300000\n",
       "d004         4\n",
       "d006         4\n",
       "d009         4\n",
       "d001         2\n",
       "d002         2\n",
       "d003         2\n",
       "d005         2\n",
       "d007         2\n",
       "d008         2\n",
       "Name: dept_no, dtype: int64"
      ]
     },
     "execution_count": 162,
     "metadata": {},
     "output_type": "execute_result"
    }
   ],
   "source": [
    "#look at dept_no data\n",
    "df.dept_no.value_counts(dropna=False)"
   ]
  },
  {
   "cell_type": "code",
   "execution_count": 163,
   "id": "015a7f58",
   "metadata": {},
   "outputs": [],
   "source": [
    "#fill in nulls\n",
    "df.dept_no = df.dept_no.fillna('not manager')"
   ]
  },
  {
   "cell_type": "code",
   "execution_count": 164,
   "id": "246c43ea",
   "metadata": {},
   "outputs": [
    {
     "data": {
      "text/plain": [
       "not manager    300000\n",
       "d004                4\n",
       "d006                4\n",
       "d009                4\n",
       "d001                2\n",
       "d002                2\n",
       "d003                2\n",
       "d005                2\n",
       "d007                2\n",
       "d008                2\n",
       "Name: dept_no, dtype: int64"
      ]
     },
     "execution_count": 164,
     "metadata": {},
     "output_type": "execute_result"
    }
   ],
   "source": [
    "df.dept_no.value_counts()"
   ]
  },
  {
   "cell_type": "code",
   "execution_count": 165,
   "id": "cfbfd5ef",
   "metadata": {},
   "outputs": [],
   "source": [
    "#make new column using np.where\n",
    "# np.where( condtion, this happens when true, this happens when false)\n",
    "df.dept_no = np.where( df.dept_no != 'not manager', \n",
    "                      'manager', 'not manager')"
   ]
  },
  {
   "cell_type": "code",
   "execution_count": 166,
   "id": "208efd06",
   "metadata": {},
   "outputs": [
    {
     "data": {
      "text/plain": [
       "not manager    300000\n",
       "manager            24\n",
       "Name: dept_no, dtype: int64"
      ]
     },
     "execution_count": 166,
     "metadata": {},
     "output_type": "execute_result"
    }
   ],
   "source": [
    "df.dept_no.value_counts()"
   ]
  },
  {
   "cell_type": "code",
   "execution_count": 167,
   "id": "dff13797",
   "metadata": {},
   "outputs": [
    {
     "data": {
      "text/html": [
       "<div>\n",
       "<style scoped>\n",
       "    .dataframe tbody tr th:only-of-type {\n",
       "        vertical-align: middle;\n",
       "    }\n",
       "\n",
       "    .dataframe tbody tr th {\n",
       "        vertical-align: top;\n",
       "    }\n",
       "\n",
       "    .dataframe thead th {\n",
       "        text-align: right;\n",
       "    }\n",
       "</style>\n",
       "<table border=\"1\" class=\"dataframe\">\n",
       "  <thead>\n",
       "    <tr style=\"text-align: right;\">\n",
       "      <th>dept_no</th>\n",
       "      <th>manager</th>\n",
       "      <th>not manager</th>\n",
       "    </tr>\n",
       "    <tr>\n",
       "      <th>gender</th>\n",
       "      <th></th>\n",
       "      <th></th>\n",
       "    </tr>\n",
       "  </thead>\n",
       "  <tbody>\n",
       "    <tr>\n",
       "      <th>F</th>\n",
       "      <td>13</td>\n",
       "      <td>120038</td>\n",
       "    </tr>\n",
       "    <tr>\n",
       "      <th>M</th>\n",
       "      <td>11</td>\n",
       "      <td>179962</td>\n",
       "    </tr>\n",
       "  </tbody>\n",
       "</table>\n",
       "</div>"
      ],
      "text/plain": [
       "dept_no  manager  not manager\n",
       "gender                       \n",
       "F             13       120038\n",
       "M             11       179962"
      ]
     },
     "execution_count": 167,
     "metadata": {},
     "output_type": "execute_result"
    }
   ],
   "source": [
    "#create contigency table\n",
    "observed = pd.crosstab(df.gender, df.dept_no)\n",
    "observed"
   ]
  },
  {
   "cell_type": "code",
   "execution_count": 168,
   "id": "a155a1e7",
   "metadata": {},
   "outputs": [],
   "source": [
    "#calculate chi2 and p-value\n",
    "chi2, p, degf, expected = stats.chi2_contingency(observed)"
   ]
  },
  {
   "cell_type": "code",
   "execution_count": 169,
   "id": "9eb0ebe9",
   "metadata": {},
   "outputs": [
    {
     "name": "stdout",
     "output_type": "stream",
     "text": [
      "Observed\n",
      "[[    13 120038]\n",
      " [    11 179962]]\n",
      "\n",
      "Expected\n",
      "[[     9 120041]\n",
      " [    14 179958]]\n",
      "\n",
      "----\n",
      "chi^2 = 1.4567\n",
      "p     = 0.2275\n"
     ]
    }
   ],
   "source": [
    "#output values\n",
    "print('Observed')\n",
    "print(observed.values)\n",
    "print('\\nExpected')\n",
    "print(expected.astype(int))\n",
    "print('\\n----')\n",
    "print(f'chi^2 = {chi2:.4f}')\n",
    "print(f'p     = {p:.4f}')"
   ]
  },
  {
   "cell_type": "code",
   "execution_count": 170,
   "id": "b9fc4f93",
   "metadata": {},
   "outputs": [
    {
     "name": "stdout",
     "output_type": "stream",
     "text": [
      "we fail to reject the null hypothesis\n"
     ]
    }
   ],
   "source": [
    "#conclude\n",
    "if p < alpha:\n",
    "    print('We reject the null hypothesis')\n",
    "else:\n",
    "    print(\"we fail to reject the null hypothesis\")"
   ]
  },
  {
   "cell_type": "markdown",
   "id": "a5526b24",
   "metadata": {},
   "source": [
    "# Helpful function\n"
   ]
  },
  {
   "cell_type": "code",
   "execution_count": null,
   "id": "2c33fd72",
   "metadata": {},
   "outputs": [],
   "source": [
    "def chi2_test(table, variables=False):\n",
    "    chi2, p, degf, expected = stats.chi2_contingency(table)\n",
    "    print('Observed')\n",
    "    print(observed.values)\n",
    "    print('\\nExpected')\n",
    "    print(expected.astype(int))\n",
    "    print('\\n----')\n",
    "    print(f'chi^2 = {chi2:.4f}')\n",
    "    print(f'p     = {p}')\n",
    "    if variables:\n",
    "        return  chi2, p, degf, expected\n",
    "    else:\n",
    "        return"
   ]
  },
  {
   "cell_type": "code",
   "execution_count": null,
   "id": "e41eb1ed",
   "metadata": {},
   "outputs": [],
   "source": []
  },
  {
   "cell_type": "code",
   "execution_count": null,
   "id": "b1fd0b83",
   "metadata": {},
   "outputs": [],
   "source": []
  },
  {
   "cell_type": "code",
   "execution_count": null,
   "id": "ab485531",
   "metadata": {},
   "outputs": [],
   "source": []
  },
  {
   "cell_type": "code",
   "execution_count": null,
   "id": "881921e7",
   "metadata": {},
   "outputs": [],
   "source": []
  },
  {
   "cell_type": "code",
   "execution_count": null,
   "id": "a72c4747",
   "metadata": {},
   "outputs": [],
   "source": []
  },
  {
   "cell_type": "code",
   "execution_count": null,
   "id": "6d3b8aa8",
   "metadata": {},
   "outputs": [],
   "source": []
  }
 ],
 "metadata": {
  "kernelspec": {
   "display_name": "Python 3 (ipykernel)",
   "language": "python",
   "name": "python3"
  },
  "language_info": {
   "codemirror_mode": {
    "name": "ipython",
    "version": 3
   },
   "file_extension": ".py",
   "mimetype": "text/x-python",
   "name": "python",
   "nbconvert_exporter": "python",
   "pygments_lexer": "ipython3",
   "version": "3.9.13"
  }
 },
 "nbformat": 4,
 "nbformat_minor": 5
}
