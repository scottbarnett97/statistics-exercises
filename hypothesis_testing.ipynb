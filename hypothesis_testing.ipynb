{
 "cells": [
  {
   "cell_type": "markdown",
   "id": "df3cf5ea",
   "metadata": {},
   "source": [
    "# Exercises\n",
    "hypothesis_testing"
   ]
  },
  {
   "cell_type": "markdown",
   "id": "8a65a8b1",
   "metadata": {},
   "source": [
    "For each of the following questions, formulate a null and alternative hypothesis (be as specific as you can be), then give an example of what a true positive, true negative, type I and type II errors would look like. Note that some of the questions are intentionally phrased in a vague way. It is your job to reword these as more precise questions that could be tested."
   ]
  },
  {
   "cell_type": "markdown",
   "id": "aa46cce1",
   "metadata": {},
   "source": [
    "  1.Has the network latency gone up since we switched internet service providers?\n",
    "true negative == H0 is true and Ho is Accepted\n",
    "true positive == H0 is false and H0 is rejected\n",
    "False Positive == H0 is True but is rejected\n",
    "False Negative == H0 is false but is Accepted"
   ]
  },
  {
   "cell_type": "markdown",
   "id": "f8e3544f",
   "metadata": {},
   "source": [
    "Null: The network latency now is the same or lower than it was before we switched providers.\n",
    "\n",
    "Alternate:  The network latency is now higher than it was before we switched providers.\n",
    "\n",
    "\n",
    "True Negative: network latency is the same or lower than it was before we switched providers, H0 is Accepted\n",
    "True Positive: network latency is not the same or lower than it was before we switched providers, H0 not Accepted\n",
    "Type 1 Error (False Positive):network latency is the same or lower than it was before we switched providers, but rejected\n",
    "Type 2 Error (False Negative):network latency is not the same or lower than it was before we switched providers, but accepted"
   ]
  },
  {
   "cell_type": "markdown",
   "id": "a3f95770",
   "metadata": {},
   "source": [
    "2. Is the website redesign any good?\n"
   ]
  },
  {
   "cell_type": "markdown",
   "id": "55bfa100",
   "metadata": {},
   "source": [
    "Null: The website design is equal to or less \"good\" than it was before the redesign.\n",
    "\n",
    "Alternate:  The website design is better or 'more' \"good\" than it was before the redesign.\n",
    "\n",
    "\n",
    "True Negative:The website design is equal to or less \"good\" than it was before the redesign, and is accepted\n",
    "True Positive:The website design is not equal to or less \"good\" than it was before the redesign, and is rejected\n",
    "Type 1 Error (False Positive):The website design is equal to or less \"good\" than it was before the redesign, but is rejected\n",
    "Type 2 Error (False Negative):The website design is not equal to or less \"good\" than it was before the redesign, but is accepted"
   ]
  },
  {
   "cell_type": "markdown",
   "id": "dbb45f1f",
   "metadata": {},
   "source": [
    "3. Is our television ad driving more sales?\n"
   ]
  },
  {
   "cell_type": "markdown",
   "id": "811ec8ea",
   "metadata": {},
   "source": [
    "Null: Our sales are the same or lower than they were before the TV ads started.\n",
    "\n",
    "Alternate: Our sales are higher than than they were before the TV ads started.\n",
    "\n",
    "\n",
    "True Negative: Our sales are the same or lower than they were before the TV ads started, and is accepted\n",
    "True Positive: Our sales are NOT the same or lower than they were before the TV ads started, and H0 is rejected\n",
    "Type 1 Error (False Positive):Our sales are the same or lower than they were before the TV ads started, but is rejected\n",
    "Type 2 Error (False Negative):Our sales are NOT the same or lower than they were before the TV ads started, but H0 is accepted"
   ]
  },
  {
   "cell_type": "markdown",
   "id": "8c749582",
   "metadata": {},
   "source": [
    "# Exercises -- Comaparison of Means\n"
   ]
  },
  {
   "cell_type": "code",
   "execution_count": 8,
   "id": "f108c661",
   "metadata": {},
   "outputs": [],
   "source": [
    "import pandas as pd\n",
    "import matplotlib.pyplot as plt\n",
    "import scipy.stats as stats\n",
    "import seaborn as sns\n",
    "import numpy as np\n",
    "import env"
   ]
  },
  {
   "cell_type": "code",
   "execution_count": null,
   "id": "51561496",
   "metadata": {},
   "outputs": [],
   "source": [
    "#1. Answer with the type of test you would use (assume normal distribution):"
   ]
  },
  {
   "cell_type": "code",
   "execution_count": null,
   "id": "a078bc6e",
   "metadata": {},
   "outputs": [],
   "source": [
    "#    Is there a difference in grades of students on the second floor compared to grades of all students?\n",
    "#      One sample t-test, 2 tails"
   ]
  },
  {
   "cell_type": "code",
   "execution_count": null,
   "id": "bd290279",
   "metadata": {},
   "outputs": [],
   "source": [
    "#    Are adults who drink milk taller than adults who dont drink milk?\n",
    "#      Independent t-test (or 2-sample), 1 tail"
   ]
  },
  {
   "cell_type": "code",
   "execution_count": null,
   "id": "e7dc94f6",
   "metadata": {},
   "outputs": [],
   "source": [
    "#    Is the the price of gas higher in texas or in new mexico?\n",
    "#         Independent t-test (or 2-sample), 1 tail"
   ]
  },
  {
   "cell_type": "code",
   "execution_count": null,
   "id": "e9720975",
   "metadata": {},
   "outputs": [],
   "source": [
    "#    Are there differences in stress levels between students who take data science vs students who take\n",
    "#        web development vs students who take cloud academy?\n",
    "#         ANOVA, 2 tails"
   ]
  },
  {
   "cell_type": "code",
   "execution_count": null,
   "id": "7db046b7",
   "metadata": {},
   "outputs": [],
   "source": [
    "# 2. Ace Realty wants to determine whether the average time it takes to sell homes is different for its two offices. \n",
    "#    A sample of 40 sales from office #1 revealed a mean of 90 days and a standard deviation of 15 days. \n",
    "#    A sample of 50 sales from office #2 revealed a mean of 100 days and a standard deviation of 20 days.\n",
    "#    Use a .05 level of significance.'''"
   ]
  },
  {
   "cell_type": "code",
   "execution_count": 111,
   "id": "1dc5e8b4",
   "metadata": {},
   "outputs": [
    {
     "name": "stdout",
     "output_type": "stream",
     "text": [
      "Reject the null hypothesis, There is a differnce between home sales of the two offices\n",
      "t = -3.2583006829737267\n",
      "p = 0.0015938255133617122\n"
     ]
    }
   ],
   "source": [
    "# Create the Null Hypothisis\n",
    "# H0= There is no difference between home sales times for office 1 and office 2.\n",
    "# HA= There is a differnce between home sales times for office 1 and office 2.\n",
    "np.random.seed(123)\n",
    "# Create data frames for the two samples\n",
    "office1 = pd.DataFrame({'time': np.random.normal(90, 15, 40)})\n",
    "office2 = pd.DataFrame({'time': np.random.normal(100, 20, 50)})\n",
    "# Compute the two-sample t-test\n",
    "t, p = stats.ttest_ind(office1['time'], office2['time'], equal_var=False)\n",
    "\n",
    "# Set the level of significance\n",
    "alpha = 0.05\n",
    "\n",
    "# Determine whether to reject the null hypothesis\n",
    "if p < alpha:\n",
    "    print('Reject the null hypothesis, There is a differnce between home sales of the two offices')\n",
    "else:\n",
    "    print('Fail to reject the null hypothesis')\n",
    "\n",
    "# Print the test statistic and p-value\n",
    "#print(office1)\n",
    "#print(office2)\n",
    "\n",
    "print('t =', t)\n",
    "print('p =', p)\n"
   ]
  },
  {
   "cell_type": "code",
   "execution_count": 81,
   "id": "ef857c45",
   "metadata": {},
   "outputs": [
    {
     "data": {
      "text/html": [
       "<div>\n",
       "<style scoped>\n",
       "    .dataframe tbody tr th:only-of-type {\n",
       "        vertical-align: middle;\n",
       "    }\n",
       "\n",
       "    .dataframe tbody tr th {\n",
       "        vertical-align: top;\n",
       "    }\n",
       "\n",
       "    .dataframe thead th {\n",
       "        text-align: right;\n",
       "    }\n",
       "</style>\n",
       "<table border=\"1\" class=\"dataframe\">\n",
       "  <thead>\n",
       "    <tr style=\"text-align: right;\">\n",
       "      <th></th>\n",
       "      <th>manufacturer</th>\n",
       "      <th>model</th>\n",
       "      <th>displ</th>\n",
       "      <th>year</th>\n",
       "      <th>cyl</th>\n",
       "      <th>trans</th>\n",
       "      <th>drv</th>\n",
       "      <th>city</th>\n",
       "      <th>highway</th>\n",
       "      <th>fl</th>\n",
       "      <th>class</th>\n",
       "      <th>average_mileage</th>\n",
       "    </tr>\n",
       "  </thead>\n",
       "  <tbody>\n",
       "    <tr>\n",
       "      <th>count</th>\n",
       "      <td>234</td>\n",
       "      <td>234</td>\n",
       "      <td>234.000000</td>\n",
       "      <td>234.000000</td>\n",
       "      <td>234.000000</td>\n",
       "      <td>234</td>\n",
       "      <td>234</td>\n",
       "      <td>234.000000</td>\n",
       "      <td>234.000000</td>\n",
       "      <td>234</td>\n",
       "      <td>234</td>\n",
       "      <td>234.000000</td>\n",
       "    </tr>\n",
       "    <tr>\n",
       "      <th>unique</th>\n",
       "      <td>15</td>\n",
       "      <td>38</td>\n",
       "      <td>NaN</td>\n",
       "      <td>NaN</td>\n",
       "      <td>NaN</td>\n",
       "      <td>10</td>\n",
       "      <td>3</td>\n",
       "      <td>NaN</td>\n",
       "      <td>NaN</td>\n",
       "      <td>5</td>\n",
       "      <td>7</td>\n",
       "      <td>NaN</td>\n",
       "    </tr>\n",
       "    <tr>\n",
       "      <th>top</th>\n",
       "      <td>dodge</td>\n",
       "      <td>caravan 2wd</td>\n",
       "      <td>NaN</td>\n",
       "      <td>NaN</td>\n",
       "      <td>NaN</td>\n",
       "      <td>auto(l4)</td>\n",
       "      <td>f</td>\n",
       "      <td>NaN</td>\n",
       "      <td>NaN</td>\n",
       "      <td>r</td>\n",
       "      <td>suv</td>\n",
       "      <td>NaN</td>\n",
       "    </tr>\n",
       "    <tr>\n",
       "      <th>freq</th>\n",
       "      <td>37</td>\n",
       "      <td>11</td>\n",
       "      <td>NaN</td>\n",
       "      <td>NaN</td>\n",
       "      <td>NaN</td>\n",
       "      <td>83</td>\n",
       "      <td>106</td>\n",
       "      <td>NaN</td>\n",
       "      <td>NaN</td>\n",
       "      <td>168</td>\n",
       "      <td>62</td>\n",
       "      <td>NaN</td>\n",
       "    </tr>\n",
       "    <tr>\n",
       "      <th>mean</th>\n",
       "      <td>NaN</td>\n",
       "      <td>NaN</td>\n",
       "      <td>3.471795</td>\n",
       "      <td>2003.500000</td>\n",
       "      <td>5.888889</td>\n",
       "      <td>NaN</td>\n",
       "      <td>NaN</td>\n",
       "      <td>16.858974</td>\n",
       "      <td>23.440171</td>\n",
       "      <td>NaN</td>\n",
       "      <td>NaN</td>\n",
       "      <td>20.149573</td>\n",
       "    </tr>\n",
       "    <tr>\n",
       "      <th>std</th>\n",
       "      <td>NaN</td>\n",
       "      <td>NaN</td>\n",
       "      <td>1.291959</td>\n",
       "      <td>4.509646</td>\n",
       "      <td>1.611534</td>\n",
       "      <td>NaN</td>\n",
       "      <td>NaN</td>\n",
       "      <td>4.255946</td>\n",
       "      <td>5.954643</td>\n",
       "      <td>NaN</td>\n",
       "      <td>NaN</td>\n",
       "      <td>5.050290</td>\n",
       "    </tr>\n",
       "    <tr>\n",
       "      <th>min</th>\n",
       "      <td>NaN</td>\n",
       "      <td>NaN</td>\n",
       "      <td>1.600000</td>\n",
       "      <td>1999.000000</td>\n",
       "      <td>4.000000</td>\n",
       "      <td>NaN</td>\n",
       "      <td>NaN</td>\n",
       "      <td>9.000000</td>\n",
       "      <td>12.000000</td>\n",
       "      <td>NaN</td>\n",
       "      <td>NaN</td>\n",
       "      <td>10.500000</td>\n",
       "    </tr>\n",
       "    <tr>\n",
       "      <th>25%</th>\n",
       "      <td>NaN</td>\n",
       "      <td>NaN</td>\n",
       "      <td>2.400000</td>\n",
       "      <td>1999.000000</td>\n",
       "      <td>4.000000</td>\n",
       "      <td>NaN</td>\n",
       "      <td>NaN</td>\n",
       "      <td>14.000000</td>\n",
       "      <td>18.000000</td>\n",
       "      <td>NaN</td>\n",
       "      <td>NaN</td>\n",
       "      <td>15.500000</td>\n",
       "    </tr>\n",
       "    <tr>\n",
       "      <th>50%</th>\n",
       "      <td>NaN</td>\n",
       "      <td>NaN</td>\n",
       "      <td>3.300000</td>\n",
       "      <td>2003.500000</td>\n",
       "      <td>6.000000</td>\n",
       "      <td>NaN</td>\n",
       "      <td>NaN</td>\n",
       "      <td>17.000000</td>\n",
       "      <td>24.000000</td>\n",
       "      <td>NaN</td>\n",
       "      <td>NaN</td>\n",
       "      <td>20.500000</td>\n",
       "    </tr>\n",
       "    <tr>\n",
       "      <th>75%</th>\n",
       "      <td>NaN</td>\n",
       "      <td>NaN</td>\n",
       "      <td>4.600000</td>\n",
       "      <td>2008.000000</td>\n",
       "      <td>8.000000</td>\n",
       "      <td>NaN</td>\n",
       "      <td>NaN</td>\n",
       "      <td>19.000000</td>\n",
       "      <td>27.000000</td>\n",
       "      <td>NaN</td>\n",
       "      <td>NaN</td>\n",
       "      <td>23.500000</td>\n",
       "    </tr>\n",
       "    <tr>\n",
       "      <th>max</th>\n",
       "      <td>NaN</td>\n",
       "      <td>NaN</td>\n",
       "      <td>7.000000</td>\n",
       "      <td>2008.000000</td>\n",
       "      <td>8.000000</td>\n",
       "      <td>NaN</td>\n",
       "      <td>NaN</td>\n",
       "      <td>35.000000</td>\n",
       "      <td>44.000000</td>\n",
       "      <td>NaN</td>\n",
       "      <td>NaN</td>\n",
       "      <td>39.500000</td>\n",
       "    </tr>\n",
       "  </tbody>\n",
       "</table>\n",
       "</div>"
      ],
      "text/plain": [
       "       manufacturer        model       displ         year         cyl  \\\n",
       "count           234          234  234.000000   234.000000  234.000000   \n",
       "unique           15           38         NaN          NaN         NaN   \n",
       "top           dodge  caravan 2wd         NaN          NaN         NaN   \n",
       "freq             37           11         NaN          NaN         NaN   \n",
       "mean            NaN          NaN    3.471795  2003.500000    5.888889   \n",
       "std             NaN          NaN    1.291959     4.509646    1.611534   \n",
       "min             NaN          NaN    1.600000  1999.000000    4.000000   \n",
       "25%             NaN          NaN    2.400000  1999.000000    4.000000   \n",
       "50%             NaN          NaN    3.300000  2003.500000    6.000000   \n",
       "75%             NaN          NaN    4.600000  2008.000000    8.000000   \n",
       "max             NaN          NaN    7.000000  2008.000000    8.000000   \n",
       "\n",
       "           trans  drv        city     highway   fl class  average_mileage  \n",
       "count        234  234  234.000000  234.000000  234   234       234.000000  \n",
       "unique        10    3         NaN         NaN    5     7              NaN  \n",
       "top     auto(l4)    f         NaN         NaN    r   suv              NaN  \n",
       "freq          83  106         NaN         NaN  168    62              NaN  \n",
       "mean         NaN  NaN   16.858974   23.440171  NaN   NaN        20.149573  \n",
       "std          NaN  NaN    4.255946    5.954643  NaN   NaN         5.050290  \n",
       "min          NaN  NaN    9.000000   12.000000  NaN   NaN        10.500000  \n",
       "25%          NaN  NaN   14.000000   18.000000  NaN   NaN        15.500000  \n",
       "50%          NaN  NaN   17.000000   24.000000  NaN   NaN        20.500000  \n",
       "75%          NaN  NaN   19.000000   27.000000  NaN   NaN        23.500000  \n",
       "max          NaN  NaN   35.000000   44.000000  NaN   NaN        39.500000  "
      ]
     },
     "execution_count": 81,
     "metadata": {},
     "output_type": "execute_result"
    }
   ],
   "source": [
    "# 3. Load the mpg dataset and use it to answer the following questions:\n",
    "from pydataset import data\n",
    "mpg = data('mpg')\n",
    "mpg =mpg.rename(columns={'hwy': 'highway','cty':'city'})\n",
    "mpg['average_mileage'] = mpg[['city','highway']].mean(axis=1)\n",
    "mpg.head()\n",
    "mpg.describe(include='all')\n"
   ]
  },
  {
   "cell_type": "code",
   "execution_count": 82,
   "id": "377378de",
   "metadata": {},
   "outputs": [
    {
     "name": "stdout",
     "output_type": "stream",
     "text": [
      "20.076923076923077\n",
      "20.22222222222222\n"
     ]
    }
   ],
   "source": [
    "#     Is there a difference in fuel-efficiency in cars from 2008 vs 1999?\n",
    "#Define the hypothisis\n",
    "# H0= There is no difference in fuel-efficiency in cars from 2008 vs 1999.\n",
    "# HA= There is a differnce in fuel-efficiency in cars from 2008 vs 1999.\n",
    "print(mpg_2008.average_mileage.mean())\n",
    "print(mpg_1999.average_mileage.mean())"
   ]
  },
  {
   "cell_type": "code",
   "execution_count": 83,
   "id": "1a19df02",
   "metadata": {},
   "outputs": [],
   "source": [
    "# Create data frames for the two samples (2008 and 1999)\n",
    "mpg_2008 = mpg[mpg['year'] == 2008]\n",
    "mpg_1999 = mpg[mpg['year'] == 1999]\n",
    "# Set the level of significance\n",
    "alpha = 0.05\n"
   ]
  },
  {
   "cell_type": "code",
   "execution_count": 84,
   "id": "cd32c81a",
   "metadata": {},
   "outputs": [
    {
     "name": "stdout",
     "output_type": "stream",
     "text": [
      "-0.21960177245940962 0.8263750772060638\n",
      "Fail to reject the null hypothesis. \n",
      "There is no  differnce in fuel-efficiency in cars from 2008 vs 1999\n"
     ]
    }
   ],
   "source": [
    "# Perform the two-sample t-test\n",
    "\n",
    "t, p = stats.ttest_ind(mpg_2008['average_mileage'], mpg_1999['average_mileage'], equal_var=False)\n",
    "print(t,p)\n",
    "\n",
    "# Determine whether to reject the null hypothesis\n",
    "if p < alpha:\n",
    "    print('Reject the null hypothesis. \\nThere is a differnce in fuel-efficiency in cars from 2008 vs 1999')\n",
    "else:\n",
    "    print('Fail to reject the null hypothesis. \\nThere is no  differnce in fuel-efficiency in cars from 2008 vs 1999')"
   ]
  },
  {
   "cell_type": "code",
   "execution_count": 85,
   "id": "40a75f23",
   "metadata": {},
   "outputs": [],
   "source": [
    "#     Are compact cars more fuel-efficient than the average car?\n",
    "#Form Hypothisis\n",
    "# H0 = The fuel effeciency of compact cars is not greater than the fuel effeciency of the average car. \n",
    "# HA = The fuel effeciency of compact cars is greater than the fuel effeciency of the average car. \n"
   ]
  },
  {
   "cell_type": "code",
   "execution_count": 86,
   "id": "8b9d5a04",
   "metadata": {},
   "outputs": [],
   "source": [
    "# Create data frames for compact cars and all cars\n",
    "\n",
    "mpg_compact = mpg[mpg['class'] == 'compact']\n",
    "mpg_all = mpg\n",
    "# Set the level of significance\n",
    "alpha = 0.05"
   ]
  },
  {
   "cell_type": "code",
   "execution_count": 115,
   "id": "9d5225af",
   "metadata": {},
   "outputs": [
    {
     "name": "stdout",
     "output_type": "stream",
     "text": [
      "7.896888573132533 2.0992818971585743e-10\n",
      "Reject the null hypothesis. \n",
      "Compact cars are more fuel efficent than the average car\n"
     ]
    }
   ],
   "source": [
    "# Perform one-sample t-test for compact cars against the population mean\n",
    "t, p = stats.ttest_1samp(mpg_compact['average_mileage'], mpg_all['average_mileage'].mean())\n",
    "print(t,p/2)\n",
    "# Determine whether to reject the null hypothesis\n",
    "if (t > 0) and (p/2 < alpha):\n",
    "    print('Reject the null hypothesis. \\nCompact cars are more fuel efficent than the average car')\n",
    "else:\n",
    "    print('Fail to reject the null hypothesis. \\nCompact cars are not more fuel efficent than the average car')"
   ]
  },
  {
   "cell_type": "code",
   "execution_count": 114,
   "id": "58c16e27",
   "metadata": {},
   "outputs": [
    {
     "name": "stderr",
     "output_type": "stream",
     "text": [
      "/var/folders/2s/5h_f818x4h11v8k6kc_6g1700000gn/T/ipykernel_52708/3483500863.py:5: FutureWarning: The default value of regex will change from True to False in a future version.\n",
      "  mpg['trans'] = mpg['trans'].str.lower().str.replace('^auto.*', 'auto')\n",
      "/var/folders/2s/5h_f818x4h11v8k6kc_6g1700000gn/T/ipykernel_52708/3483500863.py:6: FutureWarning: The default value of regex will change from True to False in a future version.\n",
      "  mpg['trans'] = mpg['trans'].str.lower().str.replace('^manual.*', 'manual')\n"
     ]
    }
   ],
   "source": [
    "#     Do manual cars get better gas mileage than automatic cars?\n",
    "#Form Hypothisis\n",
    "# H0 = The fuel efficincy of manual cars is not greater than the fuel efficency of automatic cars.\n",
    "# HA = The fuel efficincy of manual cars is greater than the fuel efficency of automatic cars.\n",
    "mpg['trans'] = mpg['trans'].str.lower().str.replace('^auto.*', 'auto')\n",
    "mpg['trans'] = mpg['trans'].str.lower().str.replace('^manual.*', 'manual')\n"
   ]
  },
  {
   "cell_type": "code",
   "execution_count": 106,
   "id": "68b4ec4e",
   "metadata": {},
   "outputs": [
    {
     "name": "stdout",
     "output_type": "stream",
     "text": [
      "19.130573248407643\n",
      "22.227272727272727\n"
     ]
    }
   ],
   "source": [
    "# Create data frames for manual cars and automatic cars\n",
    "mpg_manual = mpg[mpg['trans'] == 'manual']\n",
    "mpg_automatic = mpg[mpg['trans'] == 'auto']\n",
    "# Set the level of significance\n",
    "alpha = 0.05\n",
    "print(mpg_automatic.average_mileage.mean())\n",
    "print(mpg_manual.average_mileage.mean())"
   ]
  },
  {
   "cell_type": "code",
   "execution_count": null,
   "id": "edfe63eb",
   "metadata": {},
   "outputs": [],
   "source": []
  },
  {
   "cell_type": "code",
   "execution_count": 119,
   "id": "16c170c7",
   "metadata": {},
   "outputs": [
    {
     "data": {
      "text/plain": [
       "LeveneResult(statistic=0.20075824847529639, pvalue=0.6545276355131857)"
      ]
     },
     "execution_count": 119,
     "metadata": {},
     "output_type": "execute_result"
    }
   ],
   "source": [
    "stats.levene(mpg_automatic.average_mileage,mpg_manual.average_mileage)"
   ]
  },
  {
   "cell_type": "code",
   "execution_count": null,
   "id": "fb0f68cc",
   "metadata": {},
   "outputs": [],
   "source": []
  },
  {
   "cell_type": "code",
   "execution_count": 116,
   "id": "40b730b1",
   "metadata": {},
   "outputs": [
    {
     "name": "stdout",
     "output_type": "stream",
     "text": [
      "4.443514012903072 8.976124499958947e-06\n"
     ]
    }
   ],
   "source": [
    "# run the independent or  two-sample t-test\n",
    "t, p = stats.ttest_ind(mpg_manual['average_mileage'], mpg_automatic['average_mileage'], equal_var=False)\n",
    "print(t,p/2)"
   ]
  },
  {
   "cell_type": "code",
   "execution_count": 117,
   "id": "a5fd6474",
   "metadata": {},
   "outputs": [
    {
     "name": "stdout",
     "output_type": "stream",
     "text": [
      "Reject the null hypothesis. \n",
      "manual cars are more fuel efficent than the automatic car\n"
     ]
    }
   ],
   "source": [
    "# Determine whether to reject the null hypothesis\n",
    "if (t > 0) and (p/2 < alpha):\n",
    "    print('Reject the null hypothesis. \\nmanual cars are more fuel efficent than the automatic car')\n",
    "else:\n",
    "    print('Fail to reject the null hypothesis. \\nManual cars are not more fuel efficent than the automatic car')"
   ]
  },
  {
   "cell_type": "code",
   "execution_count": null,
   "id": "61481b0b",
   "metadata": {},
   "outputs": [],
   "source": []
  },
  {
   "cell_type": "code",
   "execution_count": null,
   "id": "32588709",
   "metadata": {},
   "outputs": [],
   "source": []
  },
  {
   "cell_type": "code",
   "execution_count": null,
   "id": "af4368ae",
   "metadata": {},
   "outputs": [],
   "source": []
  },
  {
   "cell_type": "code",
   "execution_count": null,
   "id": "5ec1e564",
   "metadata": {},
   "outputs": [],
   "source": []
  },
  {
   "cell_type": "markdown",
   "id": "fc48713e",
   "metadata": {},
   "source": [
    "# Correlation Exercises\n"
   ]
  },
  {
   "cell_type": "code",
   "execution_count": 108,
   "id": "60a593b4",
   "metadata": {},
   "outputs": [
    {
     "data": {
      "text/html": [
       "<div>\n",
       "<style scoped>\n",
       "    .dataframe tbody tr th:only-of-type {\n",
       "        vertical-align: middle;\n",
       "    }\n",
       "\n",
       "    .dataframe tbody tr th {\n",
       "        vertical-align: top;\n",
       "    }\n",
       "\n",
       "    .dataframe thead th {\n",
       "        text-align: right;\n",
       "    }\n",
       "</style>\n",
       "<table border=\"1\" class=\"dataframe\">\n",
       "  <thead>\n",
       "    <tr style=\"text-align: right;\">\n",
       "      <th></th>\n",
       "      <th>exam_score</th>\n",
       "      <th>hours_studied</th>\n",
       "      <th>study_strategy</th>\n",
       "      <th>handedness</th>\n",
       "      <th>coffee_consumed</th>\n",
       "      <th>hours_slept</th>\n",
       "    </tr>\n",
       "  </thead>\n",
       "  <tbody>\n",
       "    <tr>\n",
       "      <th>0</th>\n",
       "      <td>100.591011</td>\n",
       "      <td>9.126291</td>\n",
       "      <td>flashcards</td>\n",
       "      <td>left</td>\n",
       "      <td>0</td>\n",
       "      <td>11</td>\n",
       "    </tr>\n",
       "    <tr>\n",
       "      <th>1</th>\n",
       "      <td>95.637086</td>\n",
       "      <td>9.677438</td>\n",
       "      <td>flashcards</td>\n",
       "      <td>left</td>\n",
       "      <td>1</td>\n",
       "      <td>10</td>\n",
       "    </tr>\n",
       "    <tr>\n",
       "      <th>2</th>\n",
       "      <td>53.200296</td>\n",
       "      <td>4.550207</td>\n",
       "      <td>NaN</td>\n",
       "      <td>right</td>\n",
       "      <td>5</td>\n",
       "      <td>6</td>\n",
       "    </tr>\n",
       "  </tbody>\n",
       "</table>\n",
       "</div>"
      ],
      "text/plain": [
       "   exam_score  hours_studied study_strategy handedness  coffee_consumed  \\\n",
       "0  100.591011       9.126291     flashcards       left                0   \n",
       "1   95.637086       9.677438     flashcards       left                1   \n",
       "2   53.200296       4.550207            NaN      right                5   \n",
       "\n",
       "   hours_slept  \n",
       "0           11  \n",
       "1           10  \n",
       "2            6  "
      ]
     },
     "execution_count": 108,
     "metadata": {},
     "output_type": "execute_result"
    }
   ],
   "source": [
    "import pandas as pd\n",
    "import numpy as np\n",
    "import matplotlib.pyplot as plt\n",
    "import seaborn as sns\n",
    "\n",
    "from math import sqrt\n",
    "\n",
    "from scipy import stats\n",
    "from pydataset import data\n",
    "\n",
    "url = \"https://gist.githubusercontent.com/ryanorsinger/2c13a71421037af127e9fa7fa1463cad/raw/3eb443414078b51af33fdb2d211159e5f3e220ab/exam_scores.csv\"\n",
    "df = pd.read_csv(url)\n",
    "\n",
    "df.head(3)\n"
   ]
  },
  {
   "cell_type": "code",
   "execution_count": 109,
   "id": "1ddb7498",
   "metadata": {},
   "outputs": [
    {
     "data": {
      "text/plain": [
       "Text(8, 80, 'r = -0.994')"
      ]
     },
     "execution_count": 109,
     "metadata": {},
     "output_type": "execute_result"
    },
    {
     "data": {
      "image/png": "[encoded data removed]",
      "text/plain": [
       "<Figure size 640x480 with 1 Axes>"
      ]
     },
     "metadata": {},
     "output_type": "display_data"
    }
   ],
   "source": [
    "r, p = stats.pearsonr(df.coffee_consumed, df.exam_score)\n",
    "\n",
    "df.plot.scatter('coffee_consumed', 'exam_score')\n",
    "plt.title('Exam Score vs # Cups of Coffee')\n",
    "plt.text(8, 80, f'r = {r:.3f}')\n"
   ]
  },
  {
   "cell_type": "code",
   "execution_count": null,
   "id": "77d8969a",
   "metadata": {},
   "outputs": [],
   "source": []
  }
 ],
 "metadata": {
  "kernelspec": {
   "display_name": "Python 3 (ipykernel)",
   "language": "python",
   "name": "python3"
  },
  "language_info": {
   "codemirror_mode": {
    "name": "ipython",
    "version": 3
   },
   "file_extension": ".py",
   "mimetype": "text/x-python",
   "name": "python",
   "nbconvert_exporter": "python",
   "pygments_lexer": "ipython3",
   "version": "3.9.13"
  }
 },
 "nbformat": 4,
 "nbformat_minor": 5
}
