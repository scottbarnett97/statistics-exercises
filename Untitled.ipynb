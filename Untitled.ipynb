{
 "cells": [
  {
   "cell_type": "code",
   "execution_count": 3,
   "id": "443cc73d",
   "metadata": {},
   "outputs": [],
   "source": [
    "import matplotlib.pyplot as plt\n",
    "import numpy as np\n",
    "from scipy import stats\n",
    "from scipy.stats import norm"
   ]
  },
  {
   "cell_type": "markdown",
   "id": "ecc83dd9",
   "metadata": {},
   "source": [
    "The average battery life for a fully charges iphone-12 is 14 hours with standard deviation of 1.5 hour\n",
    "\n",
    "What kind of probability distribution represents the random variable \"battery life in hours\"?\n",
    "What are the appropriate defining parameters for this distribution?\n",
    "Create a Scipy object/instance for this distribution\n",
    "Use the object create above and choose appropriate method (e.g. pmf, cdf, ppf etc.) to calculate the following:\n",
    " a. What is the probability the cell phone battery more than 16 hours.  \n",
    " b. What is probability that cell phone battery lasts for exactly 12 hours.  \n",
    " c. What is the probability that cell phone battery lasts for 12 hours or less.  \n",
    " d. How many hours do the battery lasts for top 25% longest lasting phones.  "
   ]
  },
  {
   "cell_type": "code",
   "execution_count": 6,
   "id": "6f0e6991",
   "metadata": {},
   "outputs": [],
   "source": [
    "# What kind of probability distribution represents the random variable \"battery life in hours\"? What are the appropriate defining parameters for this distribution?\n",
    "\n",
    "# normal distribution, also known as a Gaussian distribution\n",
    "bmean = 14\n",
    "bsd = 1.5\n",
    "battery_life_dist = norm(bmean, bsd)\n",
    "\n"
   ]
  },
  {
   "cell_type": "code",
   "execution_count": 22,
   "id": "18e204a9",
   "metadata": {},
   "outputs": [
    {
     "data": {
      "text/plain": [
       "0.09121121972586788"
      ]
     },
     "execution_count": 22,
     "metadata": {},
     "output_type": "execute_result"
    }
   ],
   "source": [
    "#  a. What is the probability the cell phone battery more than 16 hours.  \n",
    "\n",
    "\n",
    "p_battery_gt_16 =  battery_life_dist.sf(16)\n",
    "p_battery_gt_16"
   ]
  },
  {
   "cell_type": "code",
   "execution_count": 27,
   "id": "c67396fb",
   "metadata": {},
   "outputs": [
    {
     "data": {
      "text/plain": [
       "0.10934004978399577"
      ]
     },
     "execution_count": 27,
     "metadata": {},
     "output_type": "execute_result"
    }
   ],
   "source": [
    "p_battery_gt_12 =battery_life_dist.pdf(12)\n",
    "p_battery_gt_12 "
   ]
  },
  {
   "cell_type": "code",
   "execution_count": 20,
   "id": "f2ea3304",
   "metadata": {},
   "outputs": [
    {
     "data": {
      "text/plain": [
       "0.09121121972586788"
      ]
     },
     "execution_count": 20,
     "metadata": {},
     "output_type": "execute_result"
    }
   ],
   "source": [
    "p_battery_gt_12b = battery_life_dist.cdf(12)\n",
    "p_battery_gt_12b"
   ]
  },
  {
   "cell_type": "code",
   "execution_count": 19,
   "id": "eddef9ab",
   "metadata": {},
   "outputs": [
    {
     "data": {
      "text/plain": [
       "15.011734625294123"
      ]
     },
     "execution_count": 19,
     "metadata": {},
     "output_type": "execute_result"
    }
   ],
   "source": [
    "p_battery_gt_25 =battery_life_dist.isf(.25)\n",
    "p_battery_gt_25"
   ]
  },
  {
   "cell_type": "code",
   "execution_count": 25,
   "id": "174e198f",
   "metadata": {},
   "outputs": [
    {
     "name": "stdout",
     "output_type": "stream",
     "text": [
      "The likelihood of having at least 15 minutes left to eat is 0.2023\n"
     ]
    }
   ],
   "source": [
    "# Define the mean and standard deviation of the number of people in line\n",
    "mu = 15\n",
    "sigma = 3\n",
    "\n",
    "# Define the time it takes to order and receive the food\n",
    "def order_time(x):\n",
    "    return 2 * x + 10\n",
    "\n",
    "# Define the remaining time available to eat lunch\n",
    "remaining_time = 60 - 15\n",
    "\n",
    "# Calculate the probability of having at least 15 minutes left to eat\n",
    "z = (remaining_time - order_time(mu)) / (sigma * 2)\n",
    "prob = 1 - stats.norm.cdf(z)\n",
    "print(f\"The likelihood of having at least 15 minutes left to eat is {prob:.4f}\")"
   ]
  },
  {
   "cell_type": "code",
   "execution_count": null,
   "id": "002bb659",
   "metadata": {},
   "outputs": [],
   "source": []
  }
 ],
 "metadata": {
  "kernelspec": {
   "display_name": "Python 3 (ipykernel)",
   "language": "python",
   "name": "python3"
  },
  "language_info": {
   "codemirror_mode": {
    "name": "ipython",
    "version": 3
   },
   "file_extension": ".py",
   "mimetype": "text/x-python",
   "name": "python",
   "nbconvert_exporter": "python",
   "pygments_lexer": "ipython3",
   "version": "3.9.13"
  }
 },
 "nbformat": 4,
 "nbformat_minor": 5
}
