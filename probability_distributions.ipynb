{
 "cells": [
  {
   "cell_type": "markdown",
   "id": "465932f3",
   "metadata": {},
   "source": [
    "# Exercises probability_distributions"
   ]
  },
  {
   "cell_type": "code",
   "execution_count": 26,
   "id": "53cdf510",
   "metadata": {},
   "outputs": [],
   "source": [
    "import matplotlib.pyplot as plt\n",
    "import numpy as np\n",
    "from scipy import stats\n",
    "import pandas as pd"
   ]
  },
  {
   "cell_type": "code",
   "execution_count": 2,
   "id": "630182d1",
   "metadata": {},
   "outputs": [
    {
     "data": {
      "image/png": "[encoded data removed]",
      "text/plain": [
       "<Figure size 640x480 with 1 Axes>"
      ]
     },
     "metadata": {},
     "output_type": "display_data"
    }
   ],
   "source": [
    "#1. A bank found that the average number of cars waiting during the noon hour at a drive-up window follows a\n",
    "#   Poisson distribution with a mean of 2 cars. Make a chart of this distribution and answer these questions\n",
    "#   concerning the probability of cars waiting at the drive-up window.\n",
    "\n",
    "# Define the parameters of the Poisson distribution\n",
    "mu = 2\n",
    "\n",
    "# Create a range of values for the number of cars waiting\n",
    "x = np.arange(0, 11)\n",
    "# Calculate the probability mass function (PMF) of the Poisson distribution\n",
    "pmf = stats.poisson.pmf(x, mu)\n",
    "\n",
    "# Create a bar chart of the PMF\n",
    "fig, ax = plt.subplots()\n",
    "ax.bar(x, pmf)\n",
    "ax.set_xlabel('Number of cars waiting')\n",
    "ax.set_ylabel('Probability')\n",
    "ax.set_title('Poisson distribution of cars waiting during noon hour')\n",
    "plt.show()"
   ]
  },
  {
   "cell_type": "code",
   "execution_count": 3,
   "id": "bf84b09e",
   "metadata": {},
   "outputs": [],
   "source": [
    "#What is the probability that no cars drive up in the noon hour?"
   ]
  },
  {
   "cell_type": "code",
   "execution_count": 4,
   "id": "e1abb464",
   "metadata": {},
   "outputs": [
    {
     "name": "stdout",
     "output_type": "stream",
     "text": [
      "Probability of no cars waiting: 13.53%\n"
     ]
    }
   ],
   "source": [
    "# Calculate the probability of no cars waiting\n",
    "prob_0_cars = pmf[0]\n",
    "print(\"Probability of no cars waiting: {:.2%}\".format(prob_0_cars))"
   ]
  },
  {
   "cell_type": "code",
   "execution_count": 5,
   "id": "173488d8",
   "metadata": {},
   "outputs": [
    {
     "name": "stdout",
     "output_type": "stream",
     "text": [
      "Probability of 3 or more cars waiting: 32.33%\n"
     ]
    }
   ],
   "source": [
    "#What is the probability that 3 or more cars come through the drive through?\n",
    "prob_3_or_more_cars = 1 - stats.poisson.cdf(2, mu)\n",
    "print(\"Probability of 3 or more cars waiting: {:.2%}\".format(prob_3_or_more_cars))\n"
   ]
  },
  {
   "cell_type": "code",
   "execution_count": 6,
   "id": "afea1604",
   "metadata": {},
   "outputs": [
    {
     "name": "stdout",
     "output_type": "stream",
     "text": [
      "Probability of at least 1 car waiting: 86.47%\n"
     ]
    }
   ],
   "source": [
    "#How likely is it that the drive through gets at least 1 car?\n",
    "prob_at_least_1_car = 1 - prob_0_cars\n",
    "print(\"Probability of at least 1 car waiting: {:.2%}\".format(prob_at_least_1_car))"
   ]
  },
  {
   "cell_type": "code",
   "execution_count": 7,
   "id": "8e1844e5",
   "metadata": {},
   "outputs": [],
   "source": [
    "#2. Grades of State University graduates are normally distributed with a mean of 3.0 and a standard deviation \n",
    "#   of .3. Calculate the following:\n",
    "grade_mean = 3.0\n",
    "grade_std = 0.3\n",
    "\n",
    "grades_dist = stats.norm(grade_mean, grade_std)\n"
   ]
  },
  {
   "cell_type": "code",
   "execution_count": 8,
   "id": "ee4bf660",
   "metadata": {},
   "outputs": [
    {
     "data": {
      "text/plain": [
       "3.4934560880854417"
      ]
     },
     "execution_count": 8,
     "metadata": {},
     "output_type": "execute_result"
    }
   ],
   "source": [
    "#What grade point average is required to be in the top 5% of the graduating class?\n",
    "top_5_percentile = grades_dist.ppf(0.95)\n",
    "top_5_percentile"
   ]
  },
  {
   "cell_type": "code",
   "execution_count": 9,
   "id": "86610547",
   "metadata": {},
   "outputs": [
    {
     "data": {
      "text/plain": [
       "2.689069983151863"
      ]
     },
     "execution_count": 9,
     "metadata": {},
     "output_type": "execute_result"
    }
   ],
   "source": [
    "#What GPA constitutes the bottom 15% of the class?\n",
    "bottom_15_percentile = grades_dist.ppf(0.15)\n",
    "bottom_15_percentile\n"
   ]
  },
  {
   "cell_type": "code",
   "execution_count": 10,
   "id": "5836d061",
   "metadata": {},
   "outputs": [
    {
     "name": "stdout",
     "output_type": "stream",
     "text": [
      "2.7475136299281258\n",
      "2.842679846187588\n",
      "Yes, the student with a 2.8 qualifies for the scholarship.\n"
     ]
    }
   ],
   "source": [
    "#An eccentric alumnus left scholarship money for students in the third decile from the bottom of their class. \n",
    "#Determine the range of the third decile. Would a student with a 2.8 grade point average qualify for this scholarship?\n",
    "third_decile_lower = grades_dist.ppf(0.2)\n",
    "third_decile_upper = grades_dist.ppf(0.3)\n",
    "print(third_decile_lower)\n",
    "print(third_decile_upper)\n",
    "if 2.8 >= third_decile_lower:\n",
    "    print(\"Yes, the student with a 2.8 qualifies for the scholarship.\")\n",
    "else:\n",
    "    print(\"No, the student with a 2.8 does not qualify for the scholarship.\")\n"
   ]
  },
  {
   "cell_type": "code",
   "execution_count": 11,
   "id": "5587c111",
   "metadata": {},
   "outputs": [
    {
     "data": {
      "text/plain": [
       "95.22096477271853"
      ]
     },
     "execution_count": 11,
     "metadata": {},
     "output_type": "execute_result"
    }
   ],
   "source": [
    "#If I have a GPA of 3.5, what percentile am I in?\n",
    "percentile_3_5 = grades_dist.cdf(3.5) * 100\n",
    "percentile_3_5\n"
   ]
  },
  {
   "cell_type": "code",
   "execution_count": 12,
   "id": "9524fc9a",
   "metadata": {},
   "outputs": [],
   "source": [
    "#3 A marketing website has an average click-through rate of 2%. One day they observe 4326 visitors and 97\n",
    "#   click-throughs. How likely is it that this many people or more click through?"
   ]
  },
  {
   "cell_type": "code",
   "execution_count": 13,
   "id": "acc1c964",
   "metadata": {},
   "outputs": [
    {
     "name": "stdout",
     "output_type": "stream",
     "text": [
      "The probability of getting 97 or more click-throughs is: 0.1397582363141645\n"
     ]
    }
   ],
   "source": [
    "\n",
    "# Define the distribution with n = 4326 trials and p = 0.02 probability of success\n",
    "click_dist = stats.binom(n=4326, p=0.02)\n",
    "\n",
    "# Find the probability of getting 97 or more click-throughs\n",
    "prob = 1 - click_dist.cdf(96)\n",
    "\n",
    "print(\"The probability of getting 97 or more click-throughs is:\", prob)"
   ]
  },
  {
   "cell_type": "code",
   "execution_count": 14,
   "id": "194452eb",
   "metadata": {},
   "outputs": [
    {
     "name": "stdout",
     "output_type": "stream",
     "text": [
      "The probability of getting at least one correct answer in the first 60 questions is: 0.4528433576092388\n"
     ]
    }
   ],
   "source": [
    "# 4 You are working on some statistics homework consisting of 100 questions where all of the answers are a\n",
    "# probability rounded to the hundreths place. Looking to save time, you put down random probabilities \n",
    "# as the answer to each question.\n",
    "\n",
    "#What is the probability that at least one of your first 60 answers is correct?\n",
    "\n",
    "prob_none_correct = (99/100) ** 60\n",
    "prob_at_least_one_correct = 1 - prob_none_correct\n",
    "\n",
    "print(\"The probability of getting at least one correct answer in the first 60 questions is:\", prob_at_least_one_correct)"
   ]
  },
  {
   "cell_type": "code",
   "execution_count": 38,
   "id": "7ad0bf86",
   "metadata": {},
   "outputs": [
    {
     "name": "stdout",
     "output_type": "stream",
     "text": [
      "The probability that the break area gets cleaned up each day is: 0.8342199288437352\n"
     ]
    }
   ],
   "source": [
    "# 5 The codeup staff tends to get upset when the student break area is not cleaned up. \n",
    "#  Suppose that there's a 3% chance that any one student cleans the break area when they visit it,\n",
    "#  and, on any given day, about 90% of the 3 active cohorts of 22 students visit the break area. \n",
    "#  How likely is it that the break area gets cleaned up each day?\n",
    "#  \n",
    "\n",
    "\n",
    " #Define the distribution with \n",
    "n = 59\n",
    "p = 0.03 \n",
    "clean_dist = stats.binom(n, p)\n",
    "\n",
    "# Find the probability of getting at least one success\n",
    "prob_clean_each_day =  clean_dist.sf(0)\n",
    "\n",
    "print(\"The probability that the break area gets cleaned up each day is:\", prob_clean_each_day)"
   ]
  },
  {
   "cell_type": "code",
   "execution_count": 40,
   "id": "a71f7279",
   "metadata": {},
   "outputs": [
    {
     "name": "stdout",
     "output_type": "stream",
     "text": [
      "The probability that the break area goes two days without getting cleaned up is: 0.027483031992576134\n"
     ]
    }
   ],
   "source": [
    "# How likely is it that it goes two days without getting cleaned up? \n",
    "\n",
    "# Define the distribution with n = 118.8 trials and p = 0.03 probability of success\n",
    "clean_dist = stats.binom(n=118, p=0.03)\n",
    "\n",
    "# Find the probability of getting no successes\n",
    "prob_no_clean_two_days = clean_dist.pmf(0)\n",
    "\n",
    "print(\"The probability that the break area goes two days without getting cleaned up is:\", prob_no_clean_two_days)"
   ]
  },
  {
   "cell_type": "code",
   "execution_count": 17,
   "id": "9248988c",
   "metadata": {},
   "outputs": [
    {
     "name": "stdout",
     "output_type": "stream",
     "text": [
      "The probability that the break area goes all week without getting cleaned up is: 0.00011781621791055051\n"
     ]
    }
   ],
   "source": [
    "#  All week?\n",
    "\n",
    "# Define the distribution with n = 297 trials and p = 0.03 probability of success\n",
    "clean_dist = stats.binom(n=297, p=0.03)\n",
    "\n",
    "# Find the probability of getting no successes\n",
    "prob_no_clean_all_week = clean_dist.pmf(0)\n",
    "\n",
    "print(\"The probability that the break area goes all week without getting cleaned up is:\", prob_no_clean_all_week)\n"
   ]
  },
  {
   "cell_type": "code",
   "execution_count": 18,
   "id": "3d368d64",
   "metadata": {},
   "outputs": [
    {
     "name": "stdout",
     "output_type": "stream",
     "text": [
      "The likelihood of having at least 15 minutes left to eat is 0.2023\n",
      "[ 0  1  2  3  4  5  6  7  8  9 10]\n"
     ]
    }
   ],
   "source": [
    "# 6.You want to get lunch at La Panaderia, but notice that the line is usually very long at lunchtime. \n",
    "#   After several weeks of careful observation, you notice that the average number of people in line when \n",
    "#   your lunch break starts is normally distributed with a mean of 15 and standard deviation of 3.\n",
    "#   If it takes 2 minutes for each person to order, and 10 minutes from ordering to getting your food, \n",
    "#   what is the likelihood that you have at least 15 minutes left to eat your food before you have to go back to class? Assume you have one hour for lunch, and ignore travel time to and from La Panaderia.\n",
    "\n",
    "\n",
    "\n",
    "# Define the mean and standard deviation of the number of people in line\n",
    "mu = 15\n",
    "sdu = 3\n",
    "\n",
    "# Define the time it takes to order and receive the food\n",
    "def order_time(x):\n",
    "    return 2 * x + 10\n",
    "\n",
    "# Define the remaining time available to eat lunch\n",
    "remaining_time = 60 - 15\n",
    "\n",
    "# Calculate the probability of having at least 15 minutes left to eat\n",
    "z = (remaining_time - order_time(mu)) / (sdu * 2)\n",
    "prob = 1 - stats.norm.cdf(z)\n",
    "print(f\"The likelihood of having at least 15 minutes left to eat is {prob:.4f}\")\n",
    "print(x)"
   ]
  },
  {
   "cell_type": "code",
   "execution_count": 70,
   "id": "915a1b4e",
   "metadata": {},
   "outputs": [],
   "source": [
    "# 7. Connect to the employees database and find the average salary of current employees, \n",
    "#    along with the standard deviation. For the following questions, calculate the answer based on \n",
    "#    modeling the employees salaries with a normal distribution defined by the calculated mean and \n",
    "#    standard deviation then compare this answer to the actual values present in the salaries dataset.\n",
    "\n",
    "#What percent of employees earn less than 60,000?\n",
    "#What percent of employees earn more than 95,000?\n",
    "#What percent of employees earn between 65,000 and 80,000?\n",
    "#What do the top 5% of employees make?\n",
    "from env import host, user, password\n",
    "def get_db_url(database):\n",
    "    from env import host, user, password\n",
    "    return f'mysql+pymysql://{user}:{password}@{host}/{database}'\n",
    "\n",
    "#get_db_url('employees')\n",
    "\n"
   ]
  },
  {
   "cell_type": "code",
   "execution_count": 45,
   "id": "b4869251",
   "metadata": {},
   "outputs": [],
   "source": [
    "url =get_db_url('employees')\n",
    "departments = pd.read_sql('SELECT * FROM departments', url)\n"
   ]
  },
  {
   "cell_type": "code",
   "execution_count": 48,
   "id": "9e131c5c",
   "metadata": {},
   "outputs": [],
   "source": [
    "salaries = pd.read_sql('SELECT * FROM salaries where to_date >= curdate()', url)"
   ]
  },
  {
   "cell_type": "code",
   "execution_count": 49,
   "id": "e7247063",
   "metadata": {},
   "outputs": [
    {
     "data": {
      "text/html": [
       "<div>\n",
       "<style scoped>\n",
       "    .dataframe tbody tr th:only-of-type {\n",
       "        vertical-align: middle;\n",
       "    }\n",
       "\n",
       "    .dataframe tbody tr th {\n",
       "        vertical-align: top;\n",
       "    }\n",
       "\n",
       "    .dataframe thead th {\n",
       "        text-align: right;\n",
       "    }\n",
       "</style>\n",
       "<table border=\"1\" class=\"dataframe\">\n",
       "  <thead>\n",
       "    <tr style=\"text-align: right;\">\n",
       "      <th></th>\n",
       "      <th>emp_no</th>\n",
       "      <th>salary</th>\n",
       "      <th>from_date</th>\n",
       "      <th>to_date</th>\n",
       "    </tr>\n",
       "  </thead>\n",
       "  <tbody>\n",
       "    <tr>\n",
       "      <th>0</th>\n",
       "      <td>10001</td>\n",
       "      <td>88958</td>\n",
       "      <td>2002-06-22</td>\n",
       "      <td>9999-01-01</td>\n",
       "    </tr>\n",
       "    <tr>\n",
       "      <th>1</th>\n",
       "      <td>10002</td>\n",
       "      <td>72527</td>\n",
       "      <td>2001-08-02</td>\n",
       "      <td>9999-01-01</td>\n",
       "    </tr>\n",
       "    <tr>\n",
       "      <th>2</th>\n",
       "      <td>10003</td>\n",
       "      <td>43311</td>\n",
       "      <td>2001-12-01</td>\n",
       "      <td>9999-01-01</td>\n",
       "    </tr>\n",
       "    <tr>\n",
       "      <th>3</th>\n",
       "      <td>10004</td>\n",
       "      <td>74057</td>\n",
       "      <td>2001-11-27</td>\n",
       "      <td>9999-01-01</td>\n",
       "    </tr>\n",
       "    <tr>\n",
       "      <th>4</th>\n",
       "      <td>10005</td>\n",
       "      <td>94692</td>\n",
       "      <td>2001-09-09</td>\n",
       "      <td>9999-01-01</td>\n",
       "    </tr>\n",
       "    <tr>\n",
       "      <th>...</th>\n",
       "      <td>...</td>\n",
       "      <td>...</td>\n",
       "      <td>...</td>\n",
       "      <td>...</td>\n",
       "    </tr>\n",
       "    <tr>\n",
       "      <th>240119</th>\n",
       "      <td>499995</td>\n",
       "      <td>52868</td>\n",
       "      <td>2002-06-01</td>\n",
       "      <td>9999-01-01</td>\n",
       "    </tr>\n",
       "    <tr>\n",
       "      <th>240120</th>\n",
       "      <td>499996</td>\n",
       "      <td>69501</td>\n",
       "      <td>2002-05-12</td>\n",
       "      <td>9999-01-01</td>\n",
       "    </tr>\n",
       "    <tr>\n",
       "      <th>240121</th>\n",
       "      <td>499997</td>\n",
       "      <td>83441</td>\n",
       "      <td>2001-08-26</td>\n",
       "      <td>9999-01-01</td>\n",
       "    </tr>\n",
       "    <tr>\n",
       "      <th>240122</th>\n",
       "      <td>499998</td>\n",
       "      <td>55003</td>\n",
       "      <td>2001-12-25</td>\n",
       "      <td>9999-01-01</td>\n",
       "    </tr>\n",
       "    <tr>\n",
       "      <th>240123</th>\n",
       "      <td>499999</td>\n",
       "      <td>77303</td>\n",
       "      <td>2001-11-29</td>\n",
       "      <td>9999-01-01</td>\n",
       "    </tr>\n",
       "  </tbody>\n",
       "</table>\n",
       "<p>240124 rows × 4 columns</p>\n",
       "</div>"
      ],
      "text/plain": [
       "        emp_no  salary   from_date     to_date\n",
       "0        10001   88958  2002-06-22  9999-01-01\n",
       "1        10002   72527  2001-08-02  9999-01-01\n",
       "2        10003   43311  2001-12-01  9999-01-01\n",
       "3        10004   74057  2001-11-27  9999-01-01\n",
       "4        10005   94692  2001-09-09  9999-01-01\n",
       "...        ...     ...         ...         ...\n",
       "240119  499995   52868  2002-06-01  9999-01-01\n",
       "240120  499996   69501  2002-05-12  9999-01-01\n",
       "240121  499997   83441  2001-08-26  9999-01-01\n",
       "240122  499998   55003  2001-12-25  9999-01-01\n",
       "240123  499999   77303  2001-11-29  9999-01-01\n",
       "\n",
       "[240124 rows x 4 columns]"
      ]
     },
     "execution_count": 49,
     "metadata": {},
     "output_type": "execute_result"
    }
   ],
   "source": [
    "salaries"
   ]
  },
  {
   "cell_type": "code",
   "execution_count": 75,
   "id": "728f3fb2",
   "metadata": {},
   "outputs": [
    {
     "data": {
      "text/plain": [
       "72012.24"
      ]
     },
     "execution_count": 75,
     "metadata": {},
     "output_type": "execute_result"
    }
   ],
   "source": [
    "#find the average salary of current employees, along with the standard deviation.\n",
    "smean =round(salaries.salary.mean(),2)\n",
    "smean"
   ]
  },
  {
   "cell_type": "code",
   "execution_count": 76,
   "id": "0679c68c",
   "metadata": {},
   "outputs": [
    {
     "data": {
      "text/plain": [
       "17310.0"
      ]
     },
     "execution_count": 76,
     "metadata": {},
     "output_type": "execute_result"
    }
   ],
   "source": [
    "sstd=round(salaries.salary.std(),2)\n",
    "sstd"
   ]
  },
  {
   "cell_type": "code",
   "execution_count": null,
   "id": "d53a84c5",
   "metadata": {},
   "outputs": [],
   "source": [
    "#What percent of employees earn less than 60,000?\n"
   ]
  },
  {
   "cell_type": "code",
   "execution_count": 65,
   "id": "3eb575b0",
   "metadata": {},
   "outputs": [
    {
     "data": {
      "text/plain": [
       "0.2705727041028802"
      ]
     },
     "execution_count": 65,
     "metadata": {},
     "output_type": "execute_result"
    }
   ],
   "source": [
    "len(salaries[salaries.salary<60000])/len(salaries.emp_no)"
   ]
  },
  {
   "cell_type": "code",
   "execution_count": 66,
   "id": "0096aa27",
   "metadata": {},
   "outputs": [
    {
     "data": {
      "text/plain": [
       "0.1086272092752078"
      ]
     },
     "execution_count": 66,
     "metadata": {},
     "output_type": "execute_result"
    }
   ],
   "source": [
    "#What percent of employees earn more than 95,000?\n",
    "len(salaries[salaries.salary>95000])/len(salaries.emp_no)"
   ]
  },
  {
   "cell_type": "code",
   "execution_count": 68,
   "id": "0551ffc5",
   "metadata": {},
   "outputs": [
    {
     "data": {
      "text/plain": [
       "0.32515700221552196"
      ]
     },
     "execution_count": 68,
     "metadata": {},
     "output_type": "execute_result"
    }
   ],
   "source": [
    "#What percent of employees earn between 65,000 and 80,000?\n",
    "len(salaries[salaries.salary.between(65000,80000)])/len(salaries.emp_no)"
   ]
  },
  {
   "cell_type": "code",
   "execution_count": 69,
   "id": "e749eac4",
   "metadata": {},
   "outputs": [],
   "source": [
    "#What do the top 5% of employees make?"
   ]
  },
  {
   "cell_type": "code",
   "execution_count": 78,
   "id": "3036e1ed",
   "metadata": {},
   "outputs": [
    {
     "name": "stdout",
     "output_type": "stream",
     "text": [
      "The top 5% of employees make at least 100484.66.\n"
     ]
    }
   ],
   "source": [
    "top_5_salary = stats.norm.ppf(0.95, loc=smean, scale=sstd)\n",
    "\n",
    "print(\"The top 5% of employees make at least {:.2f}.\".format(top_5_salary))"
   ]
  },
  {
   "cell_type": "code",
   "execution_count": null,
   "id": "774a21e5",
   "metadata": {},
   "outputs": [],
   "source": []
  }
 ],
 "metadata": {
  "kernelspec": {
   "display_name": "Python 3 (ipykernel)",
   "language": "python",
   "name": "python3"
  },
  "language_info": {
   "codemirror_mode": {
    "name": "ipython",
    "version": 3
   },
   "file_extension": ".py",
   "mimetype": "text/x-python",
   "name": "python",
   "nbconvert_exporter": "python",
   "pygments_lexer": "ipython3",
   "version": "3.9.13"
  }
 },
 "nbformat": 4,
 "nbformat_minor": 5
}
